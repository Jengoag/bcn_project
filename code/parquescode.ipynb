{
 "cells": [
  {
   "cell_type": "code",
   "execution_count": 46,
   "metadata": {},
   "outputs": [
    {
     "name": "stdout",
     "output_type": "stream",
     "text": [
      "      register_id                                               name  \\\n",
      "0    ﻿92086012235  Àrea de Joc Infantil a la Plaça de Zenòbia Cam...   \n",
      "1    ﻿92086012270       Àrea de Joc Infantil a la Plaça Abat Escarré   \n",
      "2    ﻿92086012280           Àrea de Joc Infantil a la Plaça Pastrana   \n",
      "3    ﻿92086012283         Àrea de Joc Infantil a Santuari - La Manxa   \n",
      "4    ﻿92086012304   Àrea de Joc Infantil a la Plaça Sot dels Paletes   \n",
      "..            ...                                                ...   \n",
      "599  ﻿99400661282         Àrea de Joc Infantil a la Rambla del Raval   \n",
      "600  ﻿99400661422          Àrea de Joc Infantil a la Plaça Havaneres   \n",
      "601  ﻿99400661425     Àrea de Joc Infantil a la Plaça de la Infància   \n",
      "602  ﻿99400661442                               Àrea de Joc Infantil   \n",
      "603  ﻿99400661302              Àrea de Joc Infantil a la Plaça Navas   \n",
      "\n",
      "     institution_id        institution_name                    created  \\\n",
      "0               NaN                     NaN  1985-04-15T00:00:00+02:00   \n",
      "1               NaN                     NaN  1985-04-15T00:00:00+02:00   \n",
      "2               NaN                     NaN  1985-04-16T00:00:00+02:00   \n",
      "3               NaN                     NaN  1985-04-16T00:00:00+02:00   \n",
      "4               NaN                     NaN  1985-04-15T00:00:00+02:00   \n",
      "..              ...                     ...                        ...   \n",
      "599             NaN                     NaN  2020-12-15T10:46:16+01:00   \n",
      "600             NaN                     NaN  2020-12-15T20:13:28+01:00   \n",
      "601             NaN                     NaN  2020-12-15T20:22:34+01:00   \n",
      "602    1.338144e+09  Jardins de Ca l'Aranyó  2020-12-16T09:10:13+01:00   \n",
      "603             NaN                     NaN  2020-12-15T11:25:22+01:00   \n",
      "\n",
      "                             modified  addresses_roadtype_id  \\\n",
      "0    2021-05-04T12:33:41.469085+02:00                    NaN   \n",
      "1    2021-05-04T12:33:21.029709+02:00                    NaN   \n",
      "2    2021-05-04T12:34:21.471573+02:00                    NaN   \n",
      "3    2021-05-04T12:34:05.122755+02:00                    NaN   \n",
      "4    2021-05-04T12:33:28.037926+02:00                    NaN   \n",
      "..                                ...                    ...   \n",
      "599  2021-05-04T12:40:16.876533+02:00                    NaN   \n",
      "600  2021-05-04T12:41:25.869063+02:00                    NaN   \n",
      "601  2021-05-04T12:41:28.760733+02:00                    NaN   \n",
      "602  2021-05-04T12:41:37.021523+02:00                    NaN   \n",
      "603  2021-05-04T12:40:25.963841+02:00                    NaN   \n",
      "\n",
      "     addresses_roadtype_name  addresses_road_id  addresses_road_name  ...  \\\n",
      "0                        NaN             700446  Pl Zenòbia Camprubí  ...   \n",
      "1                        NaN             700689      Pl Abat Escarré  ...   \n",
      "2                        NaN             247400          Pl Pastrana  ...   \n",
      "3                        NaN             320307           C Santuari  ...   \n",
      "4                        NaN             700104  Pl Sot dels Paletes  ...   \n",
      "..                       ...                ...                  ...  ...   \n",
      "599                      NaN             701367           Rbla Raval  ...   \n",
      "600                      NaN             700948         Pl Havaneres  ...   \n",
      "601                      NaN             161804          Pl Infància  ...   \n",
      "602                      NaN             148704  C Ciutat de Granada  ...   \n",
      "603                      NaN             226309         Pl Las Navas  ...   \n",
      "\n",
      "     values_description  secondary_filters_id   secondary_filters_name  \\\n",
      "0                   NaN              55735068  Àrees de jocs infantils   \n",
      "1                   NaN              55735068  Àrees de jocs infantils   \n",
      "2                   NaN              55735068  Àrees de jocs infantils   \n",
      "3                   NaN              55735068  Àrees de jocs infantils   \n",
      "4                   NaN              55735068  Àrees de jocs infantils   \n",
      "..                  ...                   ...                      ...   \n",
      "599                 NaN              55735068  Àrees de jocs infantils   \n",
      "600                 NaN              55735068  Àrees de jocs infantils   \n",
      "601                 NaN              55735068  Àrees de jocs infantils   \n",
      "602                 NaN              55735068  Àrees de jocs infantils   \n",
      "603                 NaN              55735068  Àrees de jocs infantils   \n",
      "\n",
      "                            secondary_filters_fullpath  \\\n",
      "0    Planol BCN >> Cultura i lleure >> Espais infan...   \n",
      "1    Planol BCN >> Cultura i lleure >> Espais infan...   \n",
      "2    Planol BCN >> Cultura i lleure >> Espais infan...   \n",
      "3    Planol BCN >> Cultura i lleure >> Espais infan...   \n",
      "4    Planol BCN >> Cultura i lleure >> Espais infan...   \n",
      "..                                                 ...   \n",
      "599  Planol BCN >> Cultura i lleure >> Espais infan...   \n",
      "600  Planol BCN >> Cultura i lleure >> Espais infan...   \n",
      "601  Planol BCN >> Cultura i lleure >> Espais infan...   \n",
      "602  Planol BCN >> Cultura i lleure >> Espais infan...   \n",
      "603  Planol BCN >> Cultura i lleure >> Espais infan...   \n",
      "\n",
      "     secondary_filters_tree secondary_filters_asia_id  geo_epgs_25831_x  \\\n",
      "0                       651            65103002004000     432193.307929   \n",
      "1                       651            65103002004000     432377.351304   \n",
      "2                       651            65103002004000     429453.713786   \n",
      "3                       651            65103002004000     429299.943382   \n",
      "4                       651            65103002004000     432453.223408   \n",
      "..                      ...                       ...               ...   \n",
      "599                     651            65103002004000     430519.859515   \n",
      "600                     651            65103002004000     431723.680850   \n",
      "601                     651            65103002004000     432847.044112   \n",
      "602                     651            65103002004000     432479.711917   \n",
      "603                     651            65103002004000     429662.160952   \n",
      "\n",
      "    geo_epgs_25831_y  geo_epgs_4326_x  geo_epgs_4326_y  \n",
      "0       4.582671e+06        41.392712         2.188922  \n",
      "1       4.586836e+06        41.430245         2.190658  \n",
      "2       4.586338e+06        41.425504         2.155728  \n",
      "3       4.585847e+06        41.421069         2.153945  \n",
      "4       4.587633e+06        41.437427         2.191477  \n",
      "..               ...              ...              ...  \n",
      "599     4.581114e+06        41.378551         2.169086  \n",
      "600     4.585841e+06        41.421230         2.182948  \n",
      "601     4.584997e+06        41.413719         2.196483  \n",
      "602     4.583812e+06        41.403019         2.192220  \n",
      "603     4.580646e+06        41.374262         2.158884  \n",
      "\n",
      "[604 rows x 36 columns]\n"
     ]
    }
   ],
   "source": [
    "import pandas as pd\n",
    "\n",
    "df_parques = pd.read_csv(\"../data/parques.csv\")\n",
    "\n",
    "print(df_parques)"
   ]
  },
  {
   "cell_type": "code",
   "execution_count": 47,
   "metadata": {},
   "outputs": [
    {
     "name": "stdout",
     "output_type": "stream",
     "text": [
      "<class 'pandas.core.frame.DataFrame'>\n",
      "RangeIndex: 604 entries, 0 to 603\n",
      "Data columns (total 36 columns):\n",
      " #   Column                         Non-Null Count  Dtype  \n",
      "---  ------                         --------------  -----  \n",
      " 0   register_id                    604 non-null    object \n",
      " 1   name                           604 non-null    object \n",
      " 2   institution_id                 184 non-null    float64\n",
      " 3   institution_name               184 non-null    object \n",
      " 4   created                        604 non-null    object \n",
      " 5   modified                       604 non-null    object \n",
      " 6   addresses_roadtype_id          0 non-null      float64\n",
      " 7   addresses_roadtype_name        0 non-null      float64\n",
      " 8   addresses_road_id              604 non-null    int64  \n",
      " 9   addresses_road_name            604 non-null    object \n",
      " 10  addresses_start_street_number  560 non-null    float64\n",
      " 11  addresses_end_street_number    12 non-null     float64\n",
      " 12  addresses_neighborhood_id      604 non-null    int64  \n",
      " 13  addresses_neighborhood_name    604 non-null    object \n",
      " 14  addresses_district_id          604 non-null    int64  \n",
      " 15  addresses_district_name        604 non-null    object \n",
      " 16  addresses_zip_code             604 non-null    int64  \n",
      " 17  addresses_town                 604 non-null    object \n",
      " 18  addresses_main_address         604 non-null    bool   \n",
      " 19  addresses_type                 0 non-null      float64\n",
      " 20  values_id                      10 non-null     float64\n",
      " 21  values_attribute_id            10 non-null     float64\n",
      " 22  values_category                10 non-null     object \n",
      " 23  values_attribute_name          10 non-null     object \n",
      " 24  values_value                   8 non-null      float64\n",
      " 25  values_outstanding             10 non-null     object \n",
      " 26  values_description             0 non-null      float64\n",
      " 27  secondary_filters_id           604 non-null    int64  \n",
      " 28  secondary_filters_name         604 non-null    object \n",
      " 29  secondary_filters_fullpath     604 non-null    object \n",
      " 30  secondary_filters_tree         604 non-null    int64  \n",
      " 31  secondary_filters_asia_id      604 non-null    int64  \n",
      " 32  geo_epgs_25831_x               604 non-null    float64\n",
      " 33  geo_epgs_25831_y               604 non-null    float64\n",
      " 34  geo_epgs_4326_x                604 non-null    float64\n",
      " 35  geo_epgs_4326_y                604 non-null    float64\n",
      "dtypes: bool(1), float64(14), int64(7), object(14)\n",
      "memory usage: 165.9+ KB\n"
     ]
    }
   ],
   "source": [
    "df_parques.info()\n"
   ]
  },
  {
   "cell_type": "code",
   "execution_count": 48,
   "metadata": {},
   "outputs": [
    {
     "data": {
      "text/plain": "register_id                    0\nname                           0\ninstitution_id               420\ninstitution_name             420\ncreated                        0\n                            ... \nsecondary_filters_asia_id      0\ngeo_epgs_25831_x               0\ngeo_epgs_25831_y               0\ngeo_epgs_4326_x                0\ngeo_epgs_4326_y                0\nLength: 36, dtype: int64"
     },
     "execution_count": 48,
     "metadata": {},
     "output_type": "execute_result"
    }
   ],
   "source": [
    "df_parques.isna().sum()"
   ]
  },
  {
   "cell_type": "code",
   "execution_count": 49,
   "metadata": {},
   "outputs": [
    {
     "data": {
      "text/plain": "Index(['register_id', 'name', 'institution_id', 'institution_name', 'created',\n       'modified', 'addresses_roadtype_id', 'addresses_roadtype_name',\n       'addresses_road_id', 'addresses_road_name',\n       'addresses_start_street_number', 'addresses_end_street_number',\n       'addresses_neighborhood_id', 'addresses_neighborhood_name',\n       'addresses_district_id', 'addresses_district_name',\n       'addresses_zip_code', 'addresses_town', 'addresses_main_address',\n       'addresses_type', 'values_id', 'values_attribute_id', 'values_category',\n       'values_attribute_name', 'values_value', 'values_outstanding',\n       'values_description', 'secondary_filters_id', 'secondary_filters_name',\n       'secondary_filters_fullpath', 'secondary_filters_tree',\n       'secondary_filters_asia_id', 'geo_epgs_25831_x', 'geo_epgs_25831_y',\n       'geo_epgs_4326_x', 'geo_epgs_4326_y'],\n      dtype='object')"
     },
     "execution_count": 49,
     "metadata": {},
     "output_type": "execute_result"
    }
   ],
   "source": [
    "df_parques.columns"
   ]
  },
  {
   "cell_type": "code",
   "execution_count": 50,
   "metadata": {},
   "outputs": [
    {
     "data": {
      "text/html": "<div>\n<style scoped>\n    .dataframe tbody tr th:only-of-type {\n        vertical-align: middle;\n    }\n\n    .dataframe tbody tr th {\n        vertical-align: top;\n    }\n\n    .dataframe thead th {\n        text-align: right;\n    }\n</style>\n<table border=\"1\" class=\"dataframe\">\n  <thead>\n    <tr style=\"text-align: right;\">\n      <th></th>\n      <th>name</th>\n      <th>addresses_road_name</th>\n      <th>addresses_district_id</th>\n      <th>addresses_district_name</th>\n      <th>geo_epgs_4326_x</th>\n      <th>geo_epgs_4326_y</th>\n    </tr>\n  </thead>\n  <tbody>\n    <tr>\n      <th>0</th>\n      <td>Àrea de Joc Infantil a la Plaça de Zenòbia Cam...</td>\n      <td>Pl Zenòbia Camprubí</td>\n      <td>10</td>\n      <td>Sant Martí</td>\n      <td>41.392712</td>\n      <td>2.188922</td>\n    </tr>\n    <tr>\n      <th>1</th>\n      <td>Àrea de Joc Infantil a la Plaça Abat Escarré</td>\n      <td>Pl Abat Escarré</td>\n      <td>9</td>\n      <td>Sant Andreu</td>\n      <td>41.430245</td>\n      <td>2.190658</td>\n    </tr>\n    <tr>\n      <th>2</th>\n      <td>Àrea de Joc Infantil a la Plaça Pastrana</td>\n      <td>Pl Pastrana</td>\n      <td>7</td>\n      <td>Horta-Guinardó</td>\n      <td>41.425504</td>\n      <td>2.155728</td>\n    </tr>\n    <tr>\n      <th>3</th>\n      <td>Àrea de Joc Infantil a Santuari - La Manxa</td>\n      <td>C Santuari</td>\n      <td>7</td>\n      <td>Horta-Guinardó</td>\n      <td>41.421069</td>\n      <td>2.153945</td>\n    </tr>\n    <tr>\n      <th>4</th>\n      <td>Àrea de Joc Infantil a la Plaça Sot dels Paletes</td>\n      <td>Pl Sot dels Paletes</td>\n      <td>9</td>\n      <td>Sant Andreu</td>\n      <td>41.437427</td>\n      <td>2.191477</td>\n    </tr>\n    <tr>\n      <th>...</th>\n      <td>...</td>\n      <td>...</td>\n      <td>...</td>\n      <td>...</td>\n      <td>...</td>\n      <td>...</td>\n    </tr>\n    <tr>\n      <th>599</th>\n      <td>Àrea de Joc Infantil a la Rambla del Raval</td>\n      <td>Rbla Raval</td>\n      <td>1</td>\n      <td>Ciutat Vella</td>\n      <td>41.378551</td>\n      <td>2.169086</td>\n    </tr>\n    <tr>\n      <th>600</th>\n      <td>Àrea de Joc Infantil a la Plaça Havaneres</td>\n      <td>Pl Havaneres</td>\n      <td>9</td>\n      <td>Sant Andreu</td>\n      <td>41.421230</td>\n      <td>2.182948</td>\n    </tr>\n    <tr>\n      <th>601</th>\n      <td>Àrea de Joc Infantil a la Plaça de la Infància</td>\n      <td>Pl Infància</td>\n      <td>10</td>\n      <td>Sant Martí</td>\n      <td>41.413719</td>\n      <td>2.196483</td>\n    </tr>\n    <tr>\n      <th>602</th>\n      <td>Àrea de Joc Infantil</td>\n      <td>C Ciutat de Granada</td>\n      <td>10</td>\n      <td>Sant Martí</td>\n      <td>41.403019</td>\n      <td>2.192220</td>\n    </tr>\n    <tr>\n      <th>603</th>\n      <td>Àrea de Joc Infantil a la Plaça Navas</td>\n      <td>Pl Las Navas</td>\n      <td>3</td>\n      <td>Sants-Montjuïc</td>\n      <td>41.374262</td>\n      <td>2.158884</td>\n    </tr>\n  </tbody>\n</table>\n<p>604 rows × 6 columns</p>\n</div>",
      "text/plain": "                                                  name  addresses_road_name  \\\n0    Àrea de Joc Infantil a la Plaça de Zenòbia Cam...  Pl Zenòbia Camprubí   \n1         Àrea de Joc Infantil a la Plaça Abat Escarré      Pl Abat Escarré   \n2             Àrea de Joc Infantil a la Plaça Pastrana          Pl Pastrana   \n3           Àrea de Joc Infantil a Santuari - La Manxa           C Santuari   \n4     Àrea de Joc Infantil a la Plaça Sot dels Paletes  Pl Sot dels Paletes   \n..                                                 ...                  ...   \n599         Àrea de Joc Infantil a la Rambla del Raval           Rbla Raval   \n600          Àrea de Joc Infantil a la Plaça Havaneres         Pl Havaneres   \n601     Àrea de Joc Infantil a la Plaça de la Infància          Pl Infància   \n602                               Àrea de Joc Infantil  C Ciutat de Granada   \n603              Àrea de Joc Infantil a la Plaça Navas         Pl Las Navas   \n\n     addresses_district_id addresses_district_name  geo_epgs_4326_x  \\\n0                       10              Sant Martí        41.392712   \n1                        9             Sant Andreu        41.430245   \n2                        7          Horta-Guinardó        41.425504   \n3                        7          Horta-Guinardó        41.421069   \n4                        9             Sant Andreu        41.437427   \n..                     ...                     ...              ...   \n599                      1            Ciutat Vella        41.378551   \n600                      9             Sant Andreu        41.421230   \n601                     10              Sant Martí        41.413719   \n602                     10              Sant Martí        41.403019   \n603                      3          Sants-Montjuïc        41.374262   \n\n     geo_epgs_4326_y  \n0           2.188922  \n1           2.190658  \n2           2.155728  \n3           2.153945  \n4           2.191477  \n..               ...  \n599         2.169086  \n600         2.182948  \n601         2.196483  \n602         2.192220  \n603         2.158884  \n\n[604 rows x 6 columns]"
     },
     "execution_count": 50,
     "metadata": {},
     "output_type": "execute_result"
    }
   ],
   "source": [
    "df_parques = df_parques.drop(columns = \n",
    "['register_id', 'institution_id', 'institution_name', 'created',\n",
    "       'modified', 'addresses_roadtype_id', 'addresses_roadtype_name',\n",
    "       'addresses_road_id',\n",
    "       'addresses_start_street_number', 'addresses_end_street_number',\n",
    "       'addresses_neighborhood_id', 'addresses_neighborhood_name',\n",
    "       'addresses_zip_code', 'addresses_town', 'addresses_main_address',\n",
    "       'addresses_type', 'values_id', 'values_attribute_id', 'values_category',\n",
    "       'values_attribute_name', 'values_value', 'values_outstanding',\n",
    "       'values_description', 'secondary_filters_id', 'secondary_filters_name',\n",
    "       'secondary_filters_fullpath', 'secondary_filters_tree',\n",
    "       'secondary_filters_asia_id', 'geo_epgs_25831_x', 'geo_epgs_25831_y',\n",
    "       ])\n",
    "df_parques"
   ]
  },
  {
   "cell_type": "code",
   "execution_count": 51,
   "metadata": {},
   "outputs": [
    {
     "data": {
      "text/html": "<div>\n<style scoped>\n    .dataframe tbody tr th:only-of-type {\n        vertical-align: middle;\n    }\n\n    .dataframe tbody tr th {\n        vertical-align: top;\n    }\n\n    .dataframe thead th {\n        text-align: right;\n    }\n</style>\n<table border=\"1\" class=\"dataframe\">\n  <thead>\n    <tr style=\"text-align: right;\">\n      <th></th>\n      <th>NAME_AREA</th>\n      <th>ROAD</th>\n      <th>CODE_DISTRICT</th>\n      <th>DISTRICT</th>\n      <th>LATITUDE</th>\n      <th>LONGITUDE</th>\n    </tr>\n  </thead>\n  <tbody>\n    <tr>\n      <th>0</th>\n      <td>Àrea de Joc Infantil a la Plaça de Zenòbia Cam...</td>\n      <td>Pl Zenòbia Camprubí</td>\n      <td>10</td>\n      <td>Sant Martí</td>\n      <td>41.392712</td>\n      <td>2.188922</td>\n    </tr>\n    <tr>\n      <th>1</th>\n      <td>Àrea de Joc Infantil a la Plaça Abat Escarré</td>\n      <td>Pl Abat Escarré</td>\n      <td>9</td>\n      <td>Sant Andreu</td>\n      <td>41.430245</td>\n      <td>2.190658</td>\n    </tr>\n    <tr>\n      <th>2</th>\n      <td>Àrea de Joc Infantil a la Plaça Pastrana</td>\n      <td>Pl Pastrana</td>\n      <td>7</td>\n      <td>Horta-Guinardó</td>\n      <td>41.425504</td>\n      <td>2.155728</td>\n    </tr>\n    <tr>\n      <th>3</th>\n      <td>Àrea de Joc Infantil a Santuari - La Manxa</td>\n      <td>C Santuari</td>\n      <td>7</td>\n      <td>Horta-Guinardó</td>\n      <td>41.421069</td>\n      <td>2.153945</td>\n    </tr>\n    <tr>\n      <th>4</th>\n      <td>Àrea de Joc Infantil a la Plaça Sot dels Paletes</td>\n      <td>Pl Sot dels Paletes</td>\n      <td>9</td>\n      <td>Sant Andreu</td>\n      <td>41.437427</td>\n      <td>2.191477</td>\n    </tr>\n    <tr>\n      <th>...</th>\n      <td>...</td>\n      <td>...</td>\n      <td>...</td>\n      <td>...</td>\n      <td>...</td>\n      <td>...</td>\n    </tr>\n    <tr>\n      <th>599</th>\n      <td>Àrea de Joc Infantil a la Rambla del Raval</td>\n      <td>Rbla Raval</td>\n      <td>1</td>\n      <td>Ciutat Vella</td>\n      <td>41.378551</td>\n      <td>2.169086</td>\n    </tr>\n    <tr>\n      <th>600</th>\n      <td>Àrea de Joc Infantil a la Plaça Havaneres</td>\n      <td>Pl Havaneres</td>\n      <td>9</td>\n      <td>Sant Andreu</td>\n      <td>41.421230</td>\n      <td>2.182948</td>\n    </tr>\n    <tr>\n      <th>601</th>\n      <td>Àrea de Joc Infantil a la Plaça de la Infància</td>\n      <td>Pl Infància</td>\n      <td>10</td>\n      <td>Sant Martí</td>\n      <td>41.413719</td>\n      <td>2.196483</td>\n    </tr>\n    <tr>\n      <th>602</th>\n      <td>Àrea de Joc Infantil</td>\n      <td>C Ciutat de Granada</td>\n      <td>10</td>\n      <td>Sant Martí</td>\n      <td>41.403019</td>\n      <td>2.192220</td>\n    </tr>\n    <tr>\n      <th>603</th>\n      <td>Àrea de Joc Infantil a la Plaça Navas</td>\n      <td>Pl Las Navas</td>\n      <td>3</td>\n      <td>Sants-Montjuïc</td>\n      <td>41.374262</td>\n      <td>2.158884</td>\n    </tr>\n  </tbody>\n</table>\n<p>604 rows × 6 columns</p>\n</div>",
      "text/plain": "                                             NAME_AREA                 ROAD  \\\n0    Àrea de Joc Infantil a la Plaça de Zenòbia Cam...  Pl Zenòbia Camprubí   \n1         Àrea de Joc Infantil a la Plaça Abat Escarré      Pl Abat Escarré   \n2             Àrea de Joc Infantil a la Plaça Pastrana          Pl Pastrana   \n3           Àrea de Joc Infantil a Santuari - La Manxa           C Santuari   \n4     Àrea de Joc Infantil a la Plaça Sot dels Paletes  Pl Sot dels Paletes   \n..                                                 ...                  ...   \n599         Àrea de Joc Infantil a la Rambla del Raval           Rbla Raval   \n600          Àrea de Joc Infantil a la Plaça Havaneres         Pl Havaneres   \n601     Àrea de Joc Infantil a la Plaça de la Infància          Pl Infància   \n602                               Àrea de Joc Infantil  C Ciutat de Granada   \n603              Àrea de Joc Infantil a la Plaça Navas         Pl Las Navas   \n\n     CODE_DISTRICT        DISTRICT   LATITUDE  LONGITUDE  \n0               10      Sant Martí  41.392712   2.188922  \n1                9     Sant Andreu  41.430245   2.190658  \n2                7  Horta-Guinardó  41.425504   2.155728  \n3                7  Horta-Guinardó  41.421069   2.153945  \n4                9     Sant Andreu  41.437427   2.191477  \n..             ...             ...        ...        ...  \n599              1    Ciutat Vella  41.378551   2.169086  \n600              9     Sant Andreu  41.421230   2.182948  \n601             10      Sant Martí  41.413719   2.196483  \n602             10      Sant Martí  41.403019   2.192220  \n603              3  Sants-Montjuïc  41.374262   2.158884  \n\n[604 rows x 6 columns]"
     },
     "execution_count": 51,
     "metadata": {},
     "output_type": "execute_result"
    }
   ],
   "source": [
    "df_parques = df_parques.rename(columns={\"name\":\"NAME_AREA\", \"addresses_road_name\":\"ROAD\", \"addresses_district_id\":\"CODE_DISTRICT\", \"addresses_district_name\":\"DISTRICT\", \"geo_epgs_4326_x\":\"LATITUDE\", \"geo_epgs_4326_y\":\"LONGITUDE\"})\n",
    "df_parques"
   ]
  },
  {
   "cell_type": "code",
   "execution_count": 52,
   "metadata": {},
   "outputs": [
    {
     "data": {
      "text/plain": "NAME_AREA        0\nROAD             0\nCODE_DISTRICT    0\nDISTRICT         0\nLATITUDE         0\nLONGITUDE        0\ndtype: int64"
     },
     "execution_count": 52,
     "metadata": {},
     "output_type": "execute_result"
    }
   ],
   "source": [
    "df_parques.isna().sum()"
   ]
  },
  {
   "cell_type": "code",
   "execution_count": 53,
   "metadata": {},
   "outputs": [
    {
     "data": {
      "text/html": "<div>\n<style scoped>\n    .dataframe tbody tr th:only-of-type {\n        vertical-align: middle;\n    }\n\n    .dataframe tbody tr th {\n        vertical-align: top;\n    }\n\n    .dataframe thead th {\n        text-align: right;\n    }\n</style>\n<table border=\"1\" class=\"dataframe\">\n  <thead>\n    <tr style=\"text-align: right;\">\n      <th></th>\n      <th>NAME_AREA</th>\n      <th>ROAD</th>\n      <th>CODE_DISTRICT</th>\n      <th>DISTRICT</th>\n      <th>LATITUDE</th>\n      <th>LONGITUDE</th>\n    </tr>\n  </thead>\n  <tbody>\n    <tr>\n      <th>0</th>\n      <td>Àrea de Joc Infantil a la Plaça de Zenòbia Cam...</td>\n      <td>Pl Zenòbia Camprubí</td>\n      <td>10</td>\n      <td>Sant Martí</td>\n      <td>41.392712</td>\n      <td>2.188922</td>\n    </tr>\n    <tr>\n      <th>1</th>\n      <td>Àrea de Joc Infantil a la Plaça Abat Escarré</td>\n      <td>Pl Abat Escarré</td>\n      <td>9</td>\n      <td>Sant Andreu</td>\n      <td>41.430245</td>\n      <td>2.190658</td>\n    </tr>\n    <tr>\n      <th>2</th>\n      <td>Àrea de Joc Infantil a la Plaça Pastrana</td>\n      <td>Pl Pastrana</td>\n      <td>7</td>\n      <td>Horta-Guinardó</td>\n      <td>41.425504</td>\n      <td>2.155728</td>\n    </tr>\n    <tr>\n      <th>3</th>\n      <td>Àrea de Joc Infantil a Santuari - La Manxa</td>\n      <td>C Santuari</td>\n      <td>7</td>\n      <td>Horta-Guinardó</td>\n      <td>41.421069</td>\n      <td>2.153945</td>\n    </tr>\n    <tr>\n      <th>4</th>\n      <td>Àrea de Joc Infantil a la Plaça Sot dels Paletes</td>\n      <td>Pl Sot dels Paletes</td>\n      <td>9</td>\n      <td>Sant Andreu</td>\n      <td>41.437427</td>\n      <td>2.191477</td>\n    </tr>\n    <tr>\n      <th>...</th>\n      <td>...</td>\n      <td>...</td>\n      <td>...</td>\n      <td>...</td>\n      <td>...</td>\n      <td>...</td>\n    </tr>\n    <tr>\n      <th>599</th>\n      <td>Àrea de Joc Infantil a la Rambla del Raval</td>\n      <td>Rbla Raval</td>\n      <td>1</td>\n      <td>Ciutat Vella</td>\n      <td>41.378551</td>\n      <td>2.169086</td>\n    </tr>\n    <tr>\n      <th>600</th>\n      <td>Àrea de Joc Infantil a la Plaça Havaneres</td>\n      <td>Pl Havaneres</td>\n      <td>9</td>\n      <td>Sant Andreu</td>\n      <td>41.421230</td>\n      <td>2.182948</td>\n    </tr>\n    <tr>\n      <th>601</th>\n      <td>Àrea de Joc Infantil a la Plaça de la Infància</td>\n      <td>Pl Infància</td>\n      <td>10</td>\n      <td>Sant Martí</td>\n      <td>41.413719</td>\n      <td>2.196483</td>\n    </tr>\n    <tr>\n      <th>602</th>\n      <td>Àrea de Joc Infantil</td>\n      <td>C Ciutat de Granada</td>\n      <td>10</td>\n      <td>Sant Martí</td>\n      <td>41.403019</td>\n      <td>2.192220</td>\n    </tr>\n    <tr>\n      <th>603</th>\n      <td>Àrea de Joc Infantil a la Plaça Navas</td>\n      <td>Pl Las Navas</td>\n      <td>3</td>\n      <td>Sants-Montjuïc</td>\n      <td>41.374262</td>\n      <td>2.158884</td>\n    </tr>\n  </tbody>\n</table>\n<p>604 rows × 6 columns</p>\n</div>",
      "text/plain": "                                             NAME_AREA                 ROAD  \\\n0    Àrea de Joc Infantil a la Plaça de Zenòbia Cam...  Pl Zenòbia Camprubí   \n1         Àrea de Joc Infantil a la Plaça Abat Escarré      Pl Abat Escarré   \n2             Àrea de Joc Infantil a la Plaça Pastrana          Pl Pastrana   \n3           Àrea de Joc Infantil a Santuari - La Manxa           C Santuari   \n4     Àrea de Joc Infantil a la Plaça Sot dels Paletes  Pl Sot dels Paletes   \n..                                                 ...                  ...   \n599         Àrea de Joc Infantil a la Rambla del Raval           Rbla Raval   \n600          Àrea de Joc Infantil a la Plaça Havaneres         Pl Havaneres   \n601     Àrea de Joc Infantil a la Plaça de la Infància          Pl Infància   \n602                               Àrea de Joc Infantil  C Ciutat de Granada   \n603              Àrea de Joc Infantil a la Plaça Navas         Pl Las Navas   \n\n     CODE_DISTRICT        DISTRICT   LATITUDE  LONGITUDE  \n0               10      Sant Martí  41.392712   2.188922  \n1                9     Sant Andreu  41.430245   2.190658  \n2                7  Horta-Guinardó  41.425504   2.155728  \n3                7  Horta-Guinardó  41.421069   2.153945  \n4                9     Sant Andreu  41.437427   2.191477  \n..             ...             ...        ...        ...  \n599              1    Ciutat Vella  41.378551   2.169086  \n600              9     Sant Andreu  41.421230   2.182948  \n601             10      Sant Martí  41.413719   2.196483  \n602             10      Sant Martí  41.403019   2.192220  \n603              3  Sants-Montjuïc  41.374262   2.158884  \n\n[604 rows x 6 columns]"
     },
     "execution_count": 53,
     "metadata": {},
     "output_type": "execute_result"
    }
   ],
   "source": [
    "pd.options.display.max_rows = 20\n",
    "df_parques"
   ]
  },
  {
   "cell_type": "code",
   "execution_count": 54,
   "metadata": {},
   "outputs": [
    {
     "name": "stdout",
     "output_type": "stream",
     "text": [
      "<class 'pandas.core.frame.DataFrame'>\n",
      "RangeIndex: 604 entries, 0 to 603\n",
      "Data columns (total 6 columns):\n",
      " #   Column         Non-Null Count  Dtype  \n",
      "---  ------         --------------  -----  \n",
      " 0   NAME_AREA      604 non-null    object \n",
      " 1   ROAD           604 non-null    object \n",
      " 2   CODE_DISTRICT  604 non-null    int64  \n",
      " 3   DISTRICT       604 non-null    object \n",
      " 4   LATITUDE       604 non-null    float64\n",
      " 5   LONGITUDE      604 non-null    float64\n",
      "dtypes: float64(2), int64(1), object(3)\n",
      "memory usage: 28.4+ KB\n"
     ]
    }
   ],
   "source": [
    "df_parques.info()"
   ]
  },
  {
   "cell_type": "code",
   "execution_count": 55,
   "metadata": {},
   "outputs": [],
   "source": [
    "df_parques.to_csv(\"../data/parques_cleaned.csv\", index=False)"
   ]
  }
 ],
 "metadata": {
  "kernelspec": {
   "display_name": "Python 3.9.5 64-bit ('core': conda)",
   "name": "python395jvsc74a57bd0f3286ea705001ec0bb3381152b489620b95b108b2c9769628ed9388c599911a5"
  },
  "language_info": {
   "codemirror_mode": {
    "name": "ipython",
    "version": 3
   },
   "file_extension": ".py",
   "mimetype": "text/x-python",
   "name": "python",
   "nbconvert_exporter": "python",
   "pygments_lexer": "ipython3",
   "version": "3.9.5"
  },
  "orig_nbformat": 3
 },
 "nbformat": 4,
 "nbformat_minor": 2
}