{
 "cells": [
  {
   "cell_type": "code",
   "execution_count": 1,
   "metadata": {},
   "outputs": [],
   "source": [
    "import pandas as pd\n",
    "import numpy as np"
   ]
  },
  {
   "cell_type": "code",
   "execution_count": 2,
   "metadata": {},
   "outputs": [
    {
     "name": "stdout",
     "output_type": "stream",
     "text": [
      "     Any  Codi_Districte Nom_Districte  Codi_Barri  \\\n",
      "0   2018               1  Ciutat Vella           1   \n",
      "1   2018               1  Ciutat Vella           2   \n",
      "2   2018               1  Ciutat Vella           3   \n",
      "3   2018               1  Ciutat Vella           4   \n",
      "4   2018               2      Eixample           5   \n",
      "..   ...             ...           ...         ...   \n",
      "68  2018              10    Sant Martí          69   \n",
      "69  2018              10    Sant Martí          70   \n",
      "70  2018              10    Sant Martí          71   \n",
      "71  2018              10    Sant Martí          72   \n",
      "72  2018              10    Sant Martí          73   \n",
      "\n",
      "                                       Nom_Barri  Import_€_Any  \n",
      "0                                       el Raval         12351  \n",
      "1                                 el Barri Gòtic         14598  \n",
      "2                                 la Barceloneta         16271  \n",
      "3          Sant Pere, Santa Caterina i la Ribera         17803  \n",
      "4                                  el Fort Pienc         21890  \n",
      "..                                           ...           ...  \n",
      "68  Diagonal Mar i el Front Marítim del Poblenou         24081  \n",
      "69                         el Besòs i el Maresme         12981  \n",
      "70                       Provençals del Poblenou         19975  \n",
      "71                      Sant Martí de Provençals         18447  \n",
      "72                           la Verneda i la Pau         16710  \n",
      "\n",
      "[73 rows x 6 columns]\n"
     ]
    }
   ],
   "source": [
    "df_renta = pd.read_csv(\"../data/renta.csv\")\n",
    "\n",
    "print(df_renta)"
   ]
  },
  {
   "cell_type": "code",
   "execution_count": 3,
   "metadata": {},
   "outputs": [
    {
     "name": "stdout",
     "output_type": "stream",
     "text": [
      "<class 'pandas.core.frame.DataFrame'>\n",
      "RangeIndex: 73 entries, 0 to 72\n",
      "Data columns (total 6 columns):\n",
      " #   Column          Non-Null Count  Dtype \n",
      "---  ------          --------------  ----- \n",
      " 0   Any             73 non-null     int64 \n",
      " 1   Codi_Districte  73 non-null     int64 \n",
      " 2   Nom_Districte   73 non-null     object\n",
      " 3   Codi_Barri      73 non-null     int64 \n",
      " 4   Nom_Barri       73 non-null     object\n",
      " 5   Import_€_Any    73 non-null     int64 \n",
      "dtypes: int64(4), object(2)\n",
      "memory usage: 3.5+ KB\n"
     ]
    }
   ],
   "source": [
    "df_renta.info()"
   ]
  },
  {
   "cell_type": "code",
   "execution_count": 4,
   "metadata": {},
   "outputs": [
    {
     "name": "stdout",
     "output_type": "stream",
     "text": [
      "[2018]\n"
     ]
    }
   ],
   "source": [
    "print(df_renta['Any'].unique())"
   ]
  },
  {
   "cell_type": "code",
   "execution_count": 5,
   "metadata": {},
   "outputs": [
    {
     "data": {
      "text/html": "<div>\n<style scoped>\n    .dataframe tbody tr th:only-of-type {\n        vertical-align: middle;\n    }\n\n    .dataframe tbody tr th {\n        vertical-align: top;\n    }\n\n    .dataframe thead th {\n        text-align: right;\n    }\n</style>\n<table border=\"1\" class=\"dataframe\">\n  <thead>\n    <tr style=\"text-align: right;\">\n      <th></th>\n      <th>Codi_Districte</th>\n      <th>Nom_Districte</th>\n      <th>Import_€_Any</th>\n    </tr>\n  </thead>\n  <tbody>\n    <tr>\n      <th>0</th>\n      <td>1</td>\n      <td>Ciutat Vella</td>\n      <td>12351</td>\n    </tr>\n    <tr>\n      <th>1</th>\n      <td>1</td>\n      <td>Ciutat Vella</td>\n      <td>14598</td>\n    </tr>\n    <tr>\n      <th>2</th>\n      <td>1</td>\n      <td>Ciutat Vella</td>\n      <td>16271</td>\n    </tr>\n    <tr>\n      <th>3</th>\n      <td>1</td>\n      <td>Ciutat Vella</td>\n      <td>17803</td>\n    </tr>\n    <tr>\n      <th>4</th>\n      <td>2</td>\n      <td>Eixample</td>\n      <td>21890</td>\n    </tr>\n    <tr>\n      <th>...</th>\n      <td>...</td>\n      <td>...</td>\n      <td>...</td>\n    </tr>\n    <tr>\n      <th>68</th>\n      <td>10</td>\n      <td>Sant Martí</td>\n      <td>24081</td>\n    </tr>\n    <tr>\n      <th>69</th>\n      <td>10</td>\n      <td>Sant Martí</td>\n      <td>12981</td>\n    </tr>\n    <tr>\n      <th>70</th>\n      <td>10</td>\n      <td>Sant Martí</td>\n      <td>19975</td>\n    </tr>\n    <tr>\n      <th>71</th>\n      <td>10</td>\n      <td>Sant Martí</td>\n      <td>18447</td>\n    </tr>\n    <tr>\n      <th>72</th>\n      <td>10</td>\n      <td>Sant Martí</td>\n      <td>16710</td>\n    </tr>\n  </tbody>\n</table>\n<p>73 rows × 3 columns</p>\n</div>",
      "text/plain": "    Codi_Districte Nom_Districte  Import_€_Any\n0                1  Ciutat Vella         12351\n1                1  Ciutat Vella         14598\n2                1  Ciutat Vella         16271\n3                1  Ciutat Vella         17803\n4                2      Eixample         21890\n..             ...           ...           ...\n68              10    Sant Martí         24081\n69              10    Sant Martí         12981\n70              10    Sant Martí         19975\n71              10    Sant Martí         18447\n72              10    Sant Martí         16710\n\n[73 rows x 3 columns]"
     },
     "execution_count": 5,
     "metadata": {},
     "output_type": "execute_result"
    }
   ],
   "source": [
    "df_renta= df_renta.drop(columns = ['Any', 'Codi_Barri','Nom_Barri'])\n",
    "df_renta"
   ]
  },
  {
   "cell_type": "code",
   "execution_count": 6,
   "metadata": {},
   "outputs": [
    {
     "data": {
      "text/html": "<div>\n<style scoped>\n    .dataframe tbody tr th:only-of-type {\n        vertical-align: middle;\n    }\n\n    .dataframe tbody tr th {\n        vertical-align: top;\n    }\n\n    .dataframe thead th {\n        text-align: right;\n    }\n</style>\n<table border=\"1\" class=\"dataframe\">\n  <thead>\n    <tr style=\"text-align: right;\">\n      <th></th>\n      <th>CODE_DISTRICT</th>\n      <th>DISTRICT</th>\n      <th>IMPORT_€_ANUAL</th>\n    </tr>\n  </thead>\n  <tbody>\n    <tr>\n      <th>0</th>\n      <td>1</td>\n      <td>Ciutat Vella</td>\n      <td>12351</td>\n    </tr>\n    <tr>\n      <th>1</th>\n      <td>1</td>\n      <td>Ciutat Vella</td>\n      <td>14598</td>\n    </tr>\n    <tr>\n      <th>2</th>\n      <td>1</td>\n      <td>Ciutat Vella</td>\n      <td>16271</td>\n    </tr>\n    <tr>\n      <th>3</th>\n      <td>1</td>\n      <td>Ciutat Vella</td>\n      <td>17803</td>\n    </tr>\n    <tr>\n      <th>4</th>\n      <td>2</td>\n      <td>Eixample</td>\n      <td>21890</td>\n    </tr>\n    <tr>\n      <th>...</th>\n      <td>...</td>\n      <td>...</td>\n      <td>...</td>\n    </tr>\n    <tr>\n      <th>68</th>\n      <td>10</td>\n      <td>Sant Martí</td>\n      <td>24081</td>\n    </tr>\n    <tr>\n      <th>69</th>\n      <td>10</td>\n      <td>Sant Martí</td>\n      <td>12981</td>\n    </tr>\n    <tr>\n      <th>70</th>\n      <td>10</td>\n      <td>Sant Martí</td>\n      <td>19975</td>\n    </tr>\n    <tr>\n      <th>71</th>\n      <td>10</td>\n      <td>Sant Martí</td>\n      <td>18447</td>\n    </tr>\n    <tr>\n      <th>72</th>\n      <td>10</td>\n      <td>Sant Martí</td>\n      <td>16710</td>\n    </tr>\n  </tbody>\n</table>\n<p>73 rows × 3 columns</p>\n</div>",
      "text/plain": "    CODE_DISTRICT      DISTRICT  IMPORT_€_ANUAL\n0               1  Ciutat Vella           12351\n1               1  Ciutat Vella           14598\n2               1  Ciutat Vella           16271\n3               1  Ciutat Vella           17803\n4               2      Eixample           21890\n..            ...           ...             ...\n68             10    Sant Martí           24081\n69             10    Sant Martí           12981\n70             10    Sant Martí           19975\n71             10    Sant Martí           18447\n72             10    Sant Martí           16710\n\n[73 rows x 3 columns]"
     },
     "execution_count": 6,
     "metadata": {},
     "output_type": "execute_result"
    }
   ],
   "source": [
    "df_renta = df_renta.rename(columns={\"Codi_Districte\":\"CODE_DISTRICT\", \"Nom_Districte\":\"DISTRICT\", \"District.Name\":\"DISTRICT\", \"Import_€_Any\":\"IMPORT_€_ANUAL\"})\n",
    "df_renta"
   ]
  },
  {
   "cell_type": "code",
   "execution_count": 7,
   "metadata": {},
   "outputs": [
    {
     "data": {
      "text/html": "<div>\n<style scoped>\n    .dataframe tbody tr th:only-of-type {\n        vertical-align: middle;\n    }\n\n    .dataframe tbody tr th {\n        vertical-align: top;\n    }\n\n    .dataframe thead th {\n        text-align: right;\n    }\n</style>\n<table border=\"1\" class=\"dataframe\">\n  <thead>\n    <tr style=\"text-align: right;\">\n      <th></th>\n      <th>CODE_DISTRICT</th>\n      <th>DISTRICT</th>\n      <th>IMPORT_€_ANUAL</th>\n    </tr>\n  </thead>\n  <tbody>\n    <tr>\n      <th>0</th>\n      <td>1</td>\n      <td>Ciutat Vella</td>\n      <td>15256.0</td>\n    </tr>\n    <tr>\n      <th>1</th>\n      <td>2</td>\n      <td>Eixample</td>\n      <td>24140.0</td>\n    </tr>\n    <tr>\n      <th>2</th>\n      <td>3</td>\n      <td>Sants-Montjuïc</td>\n      <td>18274.0</td>\n    </tr>\n    <tr>\n      <th>3</th>\n      <td>4</td>\n      <td>Les Corts</td>\n      <td>29353.0</td>\n    </tr>\n    <tr>\n      <th>4</th>\n      <td>5</td>\n      <td>Sarrià-Sant Gervasi</td>\n      <td>32156.0</td>\n    </tr>\n    <tr>\n      <th>5</th>\n      <td>6</td>\n      <td>Gràcia</td>\n      <td>23072.0</td>\n    </tr>\n    <tr>\n      <th>6</th>\n      <td>7</td>\n      <td>Horta-Guinardó</td>\n      <td>19697.0</td>\n    </tr>\n    <tr>\n      <th>7</th>\n      <td>8</td>\n      <td>Nou Barris</td>\n      <td>14891.0</td>\n    </tr>\n    <tr>\n      <th>8</th>\n      <td>9</td>\n      <td>Sant Andreu</td>\n      <td>17337.0</td>\n    </tr>\n    <tr>\n      <th>9</th>\n      <td>10</td>\n      <td>Sant Martí</td>\n      <td>20610.0</td>\n    </tr>\n  </tbody>\n</table>\n</div>",
      "text/plain": "   CODE_DISTRICT             DISTRICT  IMPORT_€_ANUAL\n0              1         Ciutat Vella         15256.0\n1              2             Eixample         24140.0\n2              3       Sants-Montjuïc         18274.0\n3              4            Les Corts         29353.0\n4              5  Sarrià-Sant Gervasi         32156.0\n5              6               Gràcia         23072.0\n6              7       Horta-Guinardó         19697.0\n7              8           Nou Barris         14891.0\n8              9          Sant Andreu         17337.0\n9             10           Sant Martí         20610.0"
     },
     "execution_count": 7,
     "metadata": {},
     "output_type": "execute_result"
    }
   ],
   "source": [
    "df_renta = df_renta.groupby(['CODE_DISTRICT', 'DISTRICT'])['IMPORT_€_ANUAL'].apply(lambda x: x.mean()).round().reset_index()\n",
    "df_renta"
   ]
  },
  {
   "cell_type": "code",
   "execution_count": 8,
   "metadata": {},
   "outputs": [
    {
     "name": "stdout",
     "output_type": "stream",
     "text": [
      "<class 'pandas.core.frame.DataFrame'>\n",
      "RangeIndex: 10 entries, 0 to 9\n",
      "Data columns (total 3 columns):\n",
      " #   Column          Non-Null Count  Dtype  \n",
      "---  ------          --------------  -----  \n",
      " 0   CODE_DISTRICT   10 non-null     int64  \n",
      " 1   DISTRICT        10 non-null     object \n",
      " 2   IMPORT_€_ANUAL  10 non-null     float64\n",
      "dtypes: float64(1), int64(1), object(1)\n",
      "memory usage: 368.0+ bytes\n"
     ]
    }
   ],
   "source": [
    "df_renta.info()"
   ]
  },
  {
   "cell_type": "code",
   "execution_count": 9,
   "metadata": {},
   "outputs": [],
   "source": [
    "df_renta.to_csv(\"../data/renta_cleaned.csv\", index=False)"
   ]
  }
 ],
 "metadata": {
  "kernelspec": {
   "display_name": "Python 3.9.5 64-bit ('core': conda)",
   "name": "python395jvsc74a57bd0f3286ea705001ec0bb3381152b489620b95b108b2c9769628ed9388c599911a5"
  },
  "language_info": {
   "codemirror_mode": {
    "name": "ipython",
    "version": 3
   },
   "file_extension": ".py",
   "mimetype": "text/x-python",
   "name": "python",
   "nbconvert_exporter": "python",
   "pygments_lexer": "ipython3",
   "version": "3.9.5"
  },
  "orig_nbformat": 3
 },
 "nbformat": 4,
 "nbformat_minor": 2
}