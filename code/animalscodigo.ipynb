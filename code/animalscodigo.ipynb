{
 "cells": [
  {
   "cell_type": "code",
   "execution_count": 8,
   "metadata": {},
   "outputs": [],
   "source": [
    "import pandas as pd"
   ]
  },
  {
   "cell_type": "code",
   "execution_count": 10,
   "metadata": {},
   "outputs": [
    {
     "name": "stdout",
     "output_type": "stream",
     "text": [
      "   _id  CODI_DISTRICTE        NOM_DISTRICTE  1er SEMESTRE 2020  \\\n",
      "0    1               1         Ciutat Vella               3651   \n",
      "1    2               2             Eixample               9625   \n",
      "2    3               3       Sants-Montjuïc               8615   \n",
      "3    4               4            Les Corts               3592   \n",
      "4    5               5  Sarrià-Sant Gervasi               5819   \n",
      "5    6               6               Gràcia               5421   \n",
      "6    7               7       Horta-Guinardó               7484   \n",
      "7    8               8           Nou Barris               7893   \n",
      "8    9               9          Sant Andreu               6939   \n",
      "9   10              10           Sant Martí               9520   \n",
      "\n",
      "   2on SEMESTRE 2020  \n",
      "0               3717  \n",
      "1               9884  \n",
      "2               8770  \n",
      "3               3694  \n",
      "4               5945  \n",
      "5               5540  \n",
      "6               7636  \n",
      "7               8071  \n",
      "8               7134  \n",
      "9               9737  \n"
     ]
    }
   ],
   "source": [
    "df_animals = pd.read_csv(\"../data/animals.csv\")\n",
    "\n",
    "print(df_animals)"
   ]
  },
  {
   "cell_type": "code",
   "execution_count": null,
   "metadata": {},
   "outputs": [
    {
     "name": "stdout",
     "output_type": "stream",
     "text": [
      "<class 'pandas.core.frame.DataFrame'>\n",
      "RangeIndex: 10 entries, 0 to 9\n",
      "Data columns (total 5 columns):\n",
      " #   Column             Non-Null Count  Dtype \n",
      "---  ------             --------------  ----- \n",
      " 0   _id                10 non-null     int64 \n",
      " 1   CODI_DISTRICTE     10 non-null     int64 \n",
      " 2   NOM_DISTRICTE      10 non-null     object\n",
      " 3   1er SEMESTRE 2020  10 non-null     int64 \n",
      " 4   2on SEMESTRE 2020  10 non-null     int64 \n",
      "dtypes: int64(4), object(1)\n",
      "memory usage: 528.0+ bytes\n"
     ]
    }
   ],
   "source": [
    "df_animals.info()"
   ]
  },
  {
   "cell_type": "code",
   "execution_count": null,
   "metadata": {},
   "outputs": [
    {
     "data": {
      "text/html": "<div>\n<style scoped>\n    .dataframe tbody tr th:only-of-type {\n        vertical-align: middle;\n    }\n\n    .dataframe tbody tr th {\n        vertical-align: top;\n    }\n\n    .dataframe thead th {\n        text-align: right;\n    }\n</style>\n<table border=\"1\" class=\"dataframe\">\n  <thead>\n    <tr style=\"text-align: right;\">\n      <th></th>\n      <th>_id</th>\n      <th>CODI_DISTRICTE</th>\n      <th>NOM_DISTRICTE</th>\n      <th>1er SEMESTRE 2020</th>\n      <th>2on SEMESTRE 2020</th>\n      <th>Anual 2020</th>\n    </tr>\n  </thead>\n  <tbody>\n    <tr>\n      <th>0</th>\n      <td>1</td>\n      <td>1</td>\n      <td>Ciutat Vella</td>\n      <td>3651</td>\n      <td>3717</td>\n      <td>3684.0</td>\n    </tr>\n    <tr>\n      <th>1</th>\n      <td>2</td>\n      <td>2</td>\n      <td>Eixample</td>\n      <td>9625</td>\n      <td>9884</td>\n      <td>9754.5</td>\n    </tr>\n    <tr>\n      <th>2</th>\n      <td>3</td>\n      <td>3</td>\n      <td>Sants-Montjuïc</td>\n      <td>8615</td>\n      <td>8770</td>\n      <td>8692.5</td>\n    </tr>\n    <tr>\n      <th>3</th>\n      <td>4</td>\n      <td>4</td>\n      <td>Les Corts</td>\n      <td>3592</td>\n      <td>3694</td>\n      <td>3643.0</td>\n    </tr>\n    <tr>\n      <th>4</th>\n      <td>5</td>\n      <td>5</td>\n      <td>Sarrià-Sant Gervasi</td>\n      <td>5819</td>\n      <td>5945</td>\n      <td>5882.0</td>\n    </tr>\n    <tr>\n      <th>5</th>\n      <td>6</td>\n      <td>6</td>\n      <td>Gràcia</td>\n      <td>5421</td>\n      <td>5540</td>\n      <td>5480.5</td>\n    </tr>\n    <tr>\n      <th>6</th>\n      <td>7</td>\n      <td>7</td>\n      <td>Horta-Guinardó</td>\n      <td>7484</td>\n      <td>7636</td>\n      <td>7560.0</td>\n    </tr>\n    <tr>\n      <th>7</th>\n      <td>8</td>\n      <td>8</td>\n      <td>Nou Barris</td>\n      <td>7893</td>\n      <td>8071</td>\n      <td>7982.0</td>\n    </tr>\n    <tr>\n      <th>8</th>\n      <td>9</td>\n      <td>9</td>\n      <td>Sant Andreu</td>\n      <td>6939</td>\n      <td>7134</td>\n      <td>7036.5</td>\n    </tr>\n    <tr>\n      <th>9</th>\n      <td>10</td>\n      <td>10</td>\n      <td>Sant Martí</td>\n      <td>9520</td>\n      <td>9737</td>\n      <td>9628.5</td>\n    </tr>\n  </tbody>\n</table>\n</div>",
      "text/plain": "   _id  CODI_DISTRICTE        NOM_DISTRICTE  1er SEMESTRE 2020  \\\n0    1               1         Ciutat Vella               3651   \n1    2               2             Eixample               9625   \n2    3               3       Sants-Montjuïc               8615   \n3    4               4            Les Corts               3592   \n4    5               5  Sarrià-Sant Gervasi               5819   \n5    6               6               Gràcia               5421   \n6    7               7       Horta-Guinardó               7484   \n7    8               8           Nou Barris               7893   \n8    9               9          Sant Andreu               6939   \n9   10              10           Sant Martí               9520   \n\n   2on SEMESTRE 2020  Anual 2020  \n0               3717      3684.0  \n1               9884      9754.5  \n2               8770      8692.5  \n3               3694      3643.0  \n4               5945      5882.0  \n5               5540      5480.5  \n6               7636      7560.0  \n7               8071      7982.0  \n8               7134      7036.5  \n9               9737      9628.5  "
     },
     "execution_count": 5,
     "metadata": {},
     "output_type": "execute_result"
    }
   ],
   "source": [
    "df_animals['Anual 2020'] = df_animals[['1er SEMESTRE 2020', '2on SEMESTRE 2020']].mean(axis=1)\n",
    "df_animals"
   ]
  },
  {
   "cell_type": "code",
   "execution_count": null,
   "metadata": {},
   "outputs": [
    {
     "data": {
      "text/html": "<div>\n<style scoped>\n    .dataframe tbody tr th:only-of-type {\n        vertical-align: middle;\n    }\n\n    .dataframe tbody tr th {\n        vertical-align: top;\n    }\n\n    .dataframe thead th {\n        text-align: right;\n    }\n</style>\n<table border=\"1\" class=\"dataframe\">\n  <thead>\n    <tr style=\"text-align: right;\">\n      <th></th>\n      <th>CODI_DISTRICTE</th>\n      <th>NOM_DISTRICTE</th>\n      <th>Anual 2020</th>\n    </tr>\n  </thead>\n  <tbody>\n    <tr>\n      <th>0</th>\n      <td>1</td>\n      <td>Ciutat Vella</td>\n      <td>3684.0</td>\n    </tr>\n    <tr>\n      <th>1</th>\n      <td>2</td>\n      <td>Eixample</td>\n      <td>9754.5</td>\n    </tr>\n    <tr>\n      <th>2</th>\n      <td>3</td>\n      <td>Sants-Montjuïc</td>\n      <td>8692.5</td>\n    </tr>\n    <tr>\n      <th>3</th>\n      <td>4</td>\n      <td>Les Corts</td>\n      <td>3643.0</td>\n    </tr>\n    <tr>\n      <th>4</th>\n      <td>5</td>\n      <td>Sarrià-Sant Gervasi</td>\n      <td>5882.0</td>\n    </tr>\n    <tr>\n      <th>5</th>\n      <td>6</td>\n      <td>Gràcia</td>\n      <td>5480.5</td>\n    </tr>\n    <tr>\n      <th>6</th>\n      <td>7</td>\n      <td>Horta-Guinardó</td>\n      <td>7560.0</td>\n    </tr>\n    <tr>\n      <th>7</th>\n      <td>8</td>\n      <td>Nou Barris</td>\n      <td>7982.0</td>\n    </tr>\n    <tr>\n      <th>8</th>\n      <td>9</td>\n      <td>Sant Andreu</td>\n      <td>7036.5</td>\n    </tr>\n    <tr>\n      <th>9</th>\n      <td>10</td>\n      <td>Sant Martí</td>\n      <td>9628.5</td>\n    </tr>\n  </tbody>\n</table>\n</div>",
      "text/plain": "   CODI_DISTRICTE        NOM_DISTRICTE  Anual 2020\n0               1         Ciutat Vella      3684.0\n1               2             Eixample      9754.5\n2               3       Sants-Montjuïc      8692.5\n3               4            Les Corts      3643.0\n4               5  Sarrià-Sant Gervasi      5882.0\n5               6               Gràcia      5480.5\n6               7       Horta-Guinardó      7560.0\n7               8           Nou Barris      7982.0\n8               9          Sant Andreu      7036.5\n9              10           Sant Martí      9628.5"
     },
     "execution_count": 6,
     "metadata": {},
     "output_type": "execute_result"
    }
   ],
   "source": [
    "df_animals = df_animals.drop(columns = ['_id', '1er SEMESTRE 2020', '2on SEMESTRE 2020'])\n",
    "df_animals\n"
   ]
  },
  {
   "cell_type": "code",
   "execution_count": null,
   "metadata": {},
   "outputs": [
    {
     "data": {
      "text/html": "<div>\n<style scoped>\n    .dataframe tbody tr th:only-of-type {\n        vertical-align: middle;\n    }\n\n    .dataframe tbody tr th {\n        vertical-align: top;\n    }\n\n    .dataframe thead th {\n        text-align: right;\n    }\n</style>\n<table border=\"1\" class=\"dataframe\">\n  <thead>\n    <tr style=\"text-align: right;\">\n      <th></th>\n      <th>CODE_DISTRICT</th>\n      <th>DISTRICT</th>\n      <th>ANIMALS</th>\n    </tr>\n  </thead>\n  <tbody>\n    <tr>\n      <th>0</th>\n      <td>1</td>\n      <td>Ciutat Vella</td>\n      <td>3684.0</td>\n    </tr>\n    <tr>\n      <th>1</th>\n      <td>2</td>\n      <td>Eixample</td>\n      <td>9754.5</td>\n    </tr>\n    <tr>\n      <th>2</th>\n      <td>3</td>\n      <td>Sants-Montjuïc</td>\n      <td>8692.5</td>\n    </tr>\n    <tr>\n      <th>3</th>\n      <td>4</td>\n      <td>Les Corts</td>\n      <td>3643.0</td>\n    </tr>\n    <tr>\n      <th>4</th>\n      <td>5</td>\n      <td>Sarrià-Sant Gervasi</td>\n      <td>5882.0</td>\n    </tr>\n    <tr>\n      <th>5</th>\n      <td>6</td>\n      <td>Gràcia</td>\n      <td>5480.5</td>\n    </tr>\n    <tr>\n      <th>6</th>\n      <td>7</td>\n      <td>Horta-Guinardó</td>\n      <td>7560.0</td>\n    </tr>\n    <tr>\n      <th>7</th>\n      <td>8</td>\n      <td>Nou Barris</td>\n      <td>7982.0</td>\n    </tr>\n    <tr>\n      <th>8</th>\n      <td>9</td>\n      <td>Sant Andreu</td>\n      <td>7036.5</td>\n    </tr>\n    <tr>\n      <th>9</th>\n      <td>10</td>\n      <td>Sant Martí</td>\n      <td>9628.5</td>\n    </tr>\n  </tbody>\n</table>\n</div>",
      "text/plain": "   CODE_DISTRICT             DISTRICT  ANIMALS\n0              1         Ciutat Vella   3684.0\n1              2             Eixample   9754.5\n2              3       Sants-Montjuïc   8692.5\n3              4            Les Corts   3643.0\n4              5  Sarrià-Sant Gervasi   5882.0\n5              6               Gràcia   5480.5\n6              7       Horta-Guinardó   7560.0\n7              8           Nou Barris   7982.0\n8              9          Sant Andreu   7036.5\n9             10           Sant Martí   9628.5"
     },
     "execution_count": 7,
     "metadata": {},
     "output_type": "execute_result"
    }
   ],
   "source": [
    "df_animals = df_animals.rename(columns={\"CODI_DISTRICTE\":\"CODE_DISTRICT\", \"NOM_DISTRICTE\":\"DISTRICT\", \"Anual 2020\":\"ANIMALS\"})\n",
    "df_animals"
   ]
  },
  {
   "cell_type": "code",
   "execution_count": null,
   "metadata": {},
   "outputs": [],
   "source": [
    "df_animals.to_csv(\"./animals_cleaned.csv\", index=False)"
   ]
  }
 ],
 "metadata": {
  "kernelspec": {
   "display_name": "Python 3.9.5 64-bit ('core': conda)",
   "name": "python395jvsc74a57bd0f3286ea705001ec0bb3381152b489620b95b108b2c9769628ed9388c599911a5"
  },
  "language_info": {
   "codemirror_mode": {
    "name": "ipython",
    "version": 3
   },
   "file_extension": ".py",
   "mimetype": "text/x-python",
   "name": "python",
   "nbconvert_exporter": "python",
   "pygments_lexer": "ipython3",
   "version": "3.9.5"
  },
  "orig_nbformat": 3
 },
 "nbformat": 4,
 "nbformat_minor": 2
}