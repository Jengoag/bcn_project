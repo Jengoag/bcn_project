{
 "cells": [
  {
   "cell_type": "code",
   "execution_count": 43,
   "metadata": {},
   "outputs": [],
   "source": [
    "import pandas as pd"
   ]
  },
  {
   "cell_type": "code",
   "execution_count": 44,
   "metadata": {},
   "outputs": [
    {
     "name": "stdout",
     "output_type": "stream",
     "text": [
      "       register_id                                         name  \\\n",
      "0       ﻿136112242                      Centre Cívic Pere Pruna   \n",
      "1       ﻿136112242                      Centre Cívic Pere Pruna   \n",
      "2        ﻿69133728  Espai Lúdic Ambiental per a Famílies LaLudo   \n",
      "3      ﻿2011131453                Centre Cívic Cotxeres Borrell   \n",
      "4      ﻿2011131453                Centre Cívic Cotxeres Borrell   \n",
      "...            ...                                          ...   \n",
      "1069  ﻿98225175911                    Jardins de Vil·la Cecília   \n",
      "1070  ﻿98225175911                    Jardins de Vil·la Cecília   \n",
      "1071  ﻿94052175818              Casal de Gent Gran Les Roquetes   \n",
      "1072  ﻿94052175818              Casal de Gent Gran Les Roquetes   \n",
      "1073  ﻿99400239132        Punt 7 - Punt InfoJOVE Horta-Guinardó   \n",
      "\n",
      "      institution_id       institution_name                    created  \\\n",
      "0                NaN                    NaN  2000-05-15T00:00:00+02:00   \n",
      "1                NaN                    NaN  2000-05-15T00:00:00+02:00   \n",
      "2       9.208601e+10  Parc de la Ciutadella  2000-03-09T00:00:00+01:00   \n",
      "3                NaN                    NaN  2002-01-11T00:00:00+01:00   \n",
      "4                NaN                    NaN  2002-01-11T00:00:00+01:00   \n",
      "...              ...                    ...                        ...   \n",
      "1069             NaN                    NaN  1998-08-13T00:00:00+02:00   \n",
      "1070             NaN                    NaN  1998-08-13T00:00:00+02:00   \n",
      "1071             NaN                    NaN  1994-02-21T00:00:00+01:00   \n",
      "1072             NaN                    NaN  1994-02-21T00:00:00+01:00   \n",
      "1073             NaN                    NaN  2010-01-13T14:45:19+01:00   \n",
      "\n",
      "                              modified  addresses_roadtype_id  \\\n",
      "0     2021-06-10T15:37:12.181893+02:00                    NaN   \n",
      "1     2021-06-10T15:37:12.181893+02:00                    NaN   \n",
      "2     2021-07-18T09:59:54.182562+02:00                    NaN   \n",
      "3     2021-06-10T15:37:11.534072+02:00                    NaN   \n",
      "4     2021-06-10T15:37:11.534072+02:00                    NaN   \n",
      "...                                ...                    ...   \n",
      "1069  2021-05-03T16:02:45.165213+02:00                    NaN   \n",
      "1070  2021-05-03T16:02:45.165213+02:00                    NaN   \n",
      "1071  2021-06-25T14:37:01.785033+02:00                    NaN   \n",
      "1072  2021-06-25T14:37:01.785033+02:00                    NaN   \n",
      "1073  2021-03-26T11:05:17.990109+01:00                    NaN   \n",
      "\n",
      "      addresses_roadtype_name  addresses_road_id  addresses_road_name  ...  \\\n",
      "0                         NaN           139805.0   Carrer de Ganduxer  ...   \n",
      "1                         NaN           139805.0   Carrer de Ganduxer  ...   \n",
      "2                         NaN           701223.0  Pas Institut Escola  ...   \n",
      "3                         NaN           361406.0  Carrer de Viladomat  ...   \n",
      "4                         NaN           361406.0  Carrer de Viladomat  ...   \n",
      "...                       ...                ...                  ...  ...   \n",
      "1069                      NaN           312808.0         Santa Amèlia  ...   \n",
      "1070                      NaN           312808.0         Santa Amèlia  ...   \n",
      "1071                      NaN           701545.0       Pl Titellaires  ...   \n",
      "1072                      NaN           701545.0       Pl Titellaires  ...   \n",
      "1073                      NaN           157104.0              C Horta  ...   \n",
      "\n",
      "      values_description  secondary_filters_id  secondary_filters_name  \\\n",
      "0                    NaN              55733072          Centres cívics   \n",
      "1                    NaN              66731068                WiFi BCN   \n",
      "2                    NaN              66731068                WiFi BCN   \n",
      "3                    NaN              55733072          Centres cívics   \n",
      "4                    NaN              66731068                WiFi BCN   \n",
      "...                  ...                   ...                     ...   \n",
      "1069                 NaN              55737068         Parcs i jardins   \n",
      "1070                 NaN              66731068                WiFi BCN   \n",
      "1071                 NaN              55733068           Casals d'avis   \n",
      "1072                 NaN              66731068                WiFi BCN   \n",
      "1073                 NaN              66731068                WiFi BCN   \n",
      "\n",
      "                             secondary_filters_fullpath  \\\n",
      "0     Planol BCN >> Cultura i lleure >> Espais de pa...   \n",
      "1     Planol BCN >> Internet >> Punts d'accés a Inte...   \n",
      "2     Planol BCN >> Internet >> Punts d'accés a Inte...   \n",
      "3     Planol BCN >> Cultura i lleure >> Espais de pa...   \n",
      "4     Planol BCN >> Internet >> Punts d'accés a Inte...   \n",
      "...                                                 ...   \n",
      "1069  Planol BCN >> Cultura i lleure >> Parcs i jard...   \n",
      "1070  Planol BCN >> Internet >> Punts d'accés a Inte...   \n",
      "1071  Planol BCN >> Cultura i lleure >> Espais de pa...   \n",
      "1072  Planol BCN >> Internet >> Punts d'accés a Inte...   \n",
      "1073  Planol BCN >> Internet >> Punts d'accés a Inte...   \n",
      "\n",
      "      secondary_filters_tree secondary_filters_asia_id  geo_epgs_25831_x  \\\n",
      "0                        651            65103002002004     427389.377356   \n",
      "1                        651            65103013000000     427389.377356   \n",
      "2                        651            65103013000000     432018.600747   \n",
      "3                        651            65103002002004     430024.067395   \n",
      "4                        651            65103013000000     430024.067395   \n",
      "...                      ...                       ...               ...   \n",
      "1069                     651            65103002006000     426596.649285   \n",
      "1070                     651            65103013000000     426596.649285   \n",
      "1071                     651            65103002002000     431057.566750   \n",
      "1072                     651            65103013000000     431057.566750   \n",
      "1073                     651            65103013000000     429803.154256   \n",
      "\n",
      "     geo_epgs_25831_y  geo_epgs_4326_x  geo_epgs_4326_y  \n",
      "0        4.583883e+06        41.403209         2.131320  \n",
      "1        4.583883e+06        41.403209         2.131320  \n",
      "2        4.582080e+06        41.387379         2.186899  \n",
      "3        4.580829e+06        41.375936         2.163190  \n",
      "4        4.580829e+06        41.375936         2.163190  \n",
      "...               ...              ...              ...  \n",
      "1069     4.582840e+06        41.393750         2.121964  \n",
      "1070     4.582840e+06        41.393750         2.121964  \n",
      "1071     4.588617e+06        41.446168         2.174661  \n",
      "1072     4.588617e+06        41.446168         2.174661  \n",
      "1073     4.586999e+06        41.431493         2.159833  \n",
      "\n",
      "[1074 rows x 36 columns]\n"
     ]
    }
   ],
   "source": [
    "df_wifi = pd.read_csv(\"../data/wifi.csv\")\n",
    "\n",
    "print(df_wifi)"
   ]
  },
  {
   "cell_type": "code",
   "execution_count": 45,
   "metadata": {},
   "outputs": [
    {
     "name": "stdout",
     "output_type": "stream",
     "text": [
      "<class 'pandas.core.frame.DataFrame'>\n",
      "RangeIndex: 1074 entries, 0 to 1073\n",
      "Data columns (total 36 columns):\n",
      " #   Column                         Non-Null Count  Dtype  \n",
      "---  ------                         --------------  -----  \n",
      " 0   register_id                    1074 non-null   object \n",
      " 1   name                           1074 non-null   object \n",
      " 2   institution_id                 22 non-null     float64\n",
      " 3   institution_name               22 non-null     object \n",
      " 4   created                        1074 non-null   object \n",
      " 5   modified                       1074 non-null   object \n",
      " 6   addresses_roadtype_id          0 non-null      float64\n",
      " 7   addresses_roadtype_name        0 non-null      float64\n",
      " 8   addresses_road_id              1073 non-null   float64\n",
      " 9   addresses_road_name            1074 non-null   object \n",
      " 10  addresses_start_street_number  1074 non-null   int64  \n",
      " 11  addresses_end_street_number    12 non-null     float64\n",
      " 12  addresses_neighborhood_id      1073 non-null   float64\n",
      " 13  addresses_neighborhood_name    1073 non-null   object \n",
      " 14  addresses_district_id          1073 non-null   float64\n",
      " 15  addresses_district_name        1073 non-null   object \n",
      " 16  addresses_zip_code             1074 non-null   int64  \n",
      " 17  addresses_town                 1074 non-null   object \n",
      " 18  addresses_main_address         1074 non-null   bool   \n",
      " 19  addresses_type                 0 non-null      float64\n",
      " 20  values_id                      671 non-null    float64\n",
      " 21  values_attribute_id            671 non-null    float64\n",
      " 22  values_category                671 non-null    object \n",
      " 23  values_attribute_name          671 non-null    object \n",
      " 24  values_value                   664 non-null    object \n",
      " 25  values_outstanding             671 non-null    object \n",
      " 26  values_description             38 non-null     object \n",
      " 27  secondary_filters_id           1074 non-null   int64  \n",
      " 28  secondary_filters_name         1074 non-null   object \n",
      " 29  secondary_filters_fullpath     1074 non-null   object \n",
      " 30  secondary_filters_tree         1074 non-null   int64  \n",
      " 31  secondary_filters_asia_id      1074 non-null   int64  \n",
      " 32  geo_epgs_25831_x               1073 non-null   float64\n",
      " 33  geo_epgs_25831_y               1073 non-null   float64\n",
      " 34  geo_epgs_4326_x                1073 non-null   float64\n",
      " 35  geo_epgs_4326_y                1073 non-null   float64\n",
      "dtypes: bool(1), float64(14), int64(5), object(16)\n",
      "memory usage: 294.8+ KB\n"
     ]
    }
   ],
   "source": [
    "df_wifi.info()"
   ]
  },
  {
   "cell_type": "code",
   "execution_count": 46,
   "metadata": {},
   "outputs": [
    {
     "data": {
      "text/plain": "Index(['register_id', 'name', 'institution_id', 'institution_name', 'created',\n       'modified', 'addresses_roadtype_id', 'addresses_roadtype_name',\n       'addresses_road_id', 'addresses_road_name',\n       'addresses_start_street_number', 'addresses_end_street_number',\n       'addresses_neighborhood_id', 'addresses_neighborhood_name',\n       'addresses_district_id', 'addresses_district_name',\n       'addresses_zip_code', 'addresses_town', 'addresses_main_address',\n       'addresses_type', 'values_id', 'values_attribute_id', 'values_category',\n       'values_attribute_name', 'values_value', 'values_outstanding',\n       'values_description', 'secondary_filters_id', 'secondary_filters_name',\n       'secondary_filters_fullpath', 'secondary_filters_tree',\n       'secondary_filters_asia_id', 'geo_epgs_25831_x', 'geo_epgs_25831_y',\n       'geo_epgs_4326_x', 'geo_epgs_4326_y'],\n      dtype='object')"
     },
     "execution_count": 46,
     "metadata": {},
     "output_type": "execute_result"
    }
   ],
   "source": [
    "df_wifi.columns"
   ]
  },
  {
   "cell_type": "code",
   "execution_count": 47,
   "metadata": {},
   "outputs": [
    {
     "data": {
      "text/html": "<div>\n<style scoped>\n    .dataframe tbody tr th:only-of-type {\n        vertical-align: middle;\n    }\n\n    .dataframe tbody tr th {\n        vertical-align: top;\n    }\n\n    .dataframe thead th {\n        text-align: right;\n    }\n</style>\n<table border=\"1\" class=\"dataframe\">\n  <thead>\n    <tr style=\"text-align: right;\">\n      <th></th>\n      <th>name</th>\n      <th>created</th>\n      <th>addresses_road_name</th>\n      <th>geo_epgs_4326_x</th>\n      <th>geo_epgs_4326_y</th>\n    </tr>\n  </thead>\n  <tbody>\n    <tr>\n      <th>0</th>\n      <td>Centre Cívic Pere Pruna</td>\n      <td>2000-05-15T00:00:00+02:00</td>\n      <td>Carrer de Ganduxer</td>\n      <td>41.403209</td>\n      <td>2.131320</td>\n    </tr>\n    <tr>\n      <th>1</th>\n      <td>Centre Cívic Pere Pruna</td>\n      <td>2000-05-15T00:00:00+02:00</td>\n      <td>Carrer de Ganduxer</td>\n      <td>41.403209</td>\n      <td>2.131320</td>\n    </tr>\n    <tr>\n      <th>2</th>\n      <td>Espai Lúdic Ambiental per a Famílies LaLudo</td>\n      <td>2000-03-09T00:00:00+01:00</td>\n      <td>Pas Institut Escola</td>\n      <td>41.387379</td>\n      <td>2.186899</td>\n    </tr>\n    <tr>\n      <th>3</th>\n      <td>Centre Cívic Cotxeres Borrell</td>\n      <td>2002-01-11T00:00:00+01:00</td>\n      <td>Carrer de Viladomat</td>\n      <td>41.375936</td>\n      <td>2.163190</td>\n    </tr>\n    <tr>\n      <th>4</th>\n      <td>Centre Cívic Cotxeres Borrell</td>\n      <td>2002-01-11T00:00:00+01:00</td>\n      <td>Carrer de Viladomat</td>\n      <td>41.375936</td>\n      <td>2.163190</td>\n    </tr>\n    <tr>\n      <th>...</th>\n      <td>...</td>\n      <td>...</td>\n      <td>...</td>\n      <td>...</td>\n      <td>...</td>\n    </tr>\n    <tr>\n      <th>1069</th>\n      <td>Jardins de Vil·la Cecília</td>\n      <td>1998-08-13T00:00:00+02:00</td>\n      <td>Santa Amèlia</td>\n      <td>41.393750</td>\n      <td>2.121964</td>\n    </tr>\n    <tr>\n      <th>1070</th>\n      <td>Jardins de Vil·la Cecília</td>\n      <td>1998-08-13T00:00:00+02:00</td>\n      <td>Santa Amèlia</td>\n      <td>41.393750</td>\n      <td>2.121964</td>\n    </tr>\n    <tr>\n      <th>1071</th>\n      <td>Casal de Gent Gran Les Roquetes</td>\n      <td>1994-02-21T00:00:00+01:00</td>\n      <td>Pl Titellaires</td>\n      <td>41.446168</td>\n      <td>2.174661</td>\n    </tr>\n    <tr>\n      <th>1072</th>\n      <td>Casal de Gent Gran Les Roquetes</td>\n      <td>1994-02-21T00:00:00+01:00</td>\n      <td>Pl Titellaires</td>\n      <td>41.446168</td>\n      <td>2.174661</td>\n    </tr>\n    <tr>\n      <th>1073</th>\n      <td>Punt 7 - Punt InfoJOVE Horta-Guinardó</td>\n      <td>2010-01-13T14:45:19+01:00</td>\n      <td>C Horta</td>\n      <td>41.431493</td>\n      <td>2.159833</td>\n    </tr>\n  </tbody>\n</table>\n<p>1074 rows × 5 columns</p>\n</div>",
      "text/plain": "                                             name                    created  \\\n0                         Centre Cívic Pere Pruna  2000-05-15T00:00:00+02:00   \n1                         Centre Cívic Pere Pruna  2000-05-15T00:00:00+02:00   \n2     Espai Lúdic Ambiental per a Famílies LaLudo  2000-03-09T00:00:00+01:00   \n3                   Centre Cívic Cotxeres Borrell  2002-01-11T00:00:00+01:00   \n4                   Centre Cívic Cotxeres Borrell  2002-01-11T00:00:00+01:00   \n...                                           ...                        ...   \n1069                    Jardins de Vil·la Cecília  1998-08-13T00:00:00+02:00   \n1070                    Jardins de Vil·la Cecília  1998-08-13T00:00:00+02:00   \n1071              Casal de Gent Gran Les Roquetes  1994-02-21T00:00:00+01:00   \n1072              Casal de Gent Gran Les Roquetes  1994-02-21T00:00:00+01:00   \n1073        Punt 7 - Punt InfoJOVE Horta-Guinardó  2010-01-13T14:45:19+01:00   \n\n      addresses_road_name  geo_epgs_4326_x  geo_epgs_4326_y  \n0      Carrer de Ganduxer        41.403209         2.131320  \n1      Carrer de Ganduxer        41.403209         2.131320  \n2     Pas Institut Escola        41.387379         2.186899  \n3     Carrer de Viladomat        41.375936         2.163190  \n4     Carrer de Viladomat        41.375936         2.163190  \n...                   ...              ...              ...  \n1069         Santa Amèlia        41.393750         2.121964  \n1070         Santa Amèlia        41.393750         2.121964  \n1071       Pl Titellaires        41.446168         2.174661  \n1072       Pl Titellaires        41.446168         2.174661  \n1073              C Horta        41.431493         2.159833  \n\n[1074 rows x 5 columns]"
     },
     "execution_count": 47,
     "metadata": {},
     "output_type": "execute_result"
    }
   ],
   "source": [
    "df_wifi = df_wifi.drop(columns = ['register_id', 'institution_id', 'institution_name',\n",
    "       'modified', 'addresses_roadtype_id', 'addresses_roadtype_name',\n",
    "       'addresses_road_id',\n",
    "       'addresses_start_street_number', 'addresses_end_street_number',\n",
    "       'addresses_neighborhood_id', 'addresses_neighborhood_name',\n",
    "       'addresses_district_id', 'addresses_district_name',\n",
    "       'addresses_zip_code', 'addresses_town', 'addresses_main_address',\n",
    "       'addresses_type', 'values_id', 'values_attribute_id', 'values_category',\n",
    "       'values_attribute_name', 'values_value', 'values_outstanding',\n",
    "       'values_description', 'secondary_filters_id', 'secondary_filters_name',\n",
    "       'secondary_filters_fullpath', 'secondary_filters_tree',\n",
    "       'secondary_filters_asia_id', 'geo_epgs_25831_x', 'geo_epgs_25831_y'])\n",
    "\n",
    "df_wifi"
   ]
  },
  {
   "cell_type": "code",
   "execution_count": 48,
   "metadata": {},
   "outputs": [
    {
     "data": {
      "text/html": "<div>\n<style scoped>\n    .dataframe tbody tr th:only-of-type {\n        vertical-align: middle;\n    }\n\n    .dataframe tbody tr th {\n        vertical-align: top;\n    }\n\n    .dataframe thead th {\n        text-align: right;\n    }\n</style>\n<table border=\"1\" class=\"dataframe\">\n  <thead>\n    <tr style=\"text-align: right;\">\n      <th></th>\n      <th>NAME</th>\n      <th>CREATED</th>\n      <th>ROAD</th>\n      <th>LATITUDE</th>\n      <th>LONGITUDE</th>\n    </tr>\n  </thead>\n  <tbody>\n    <tr>\n      <th>0</th>\n      <td>Centre Cívic Pere Pruna</td>\n      <td>2000-05-15T00:00:00+02:00</td>\n      <td>Carrer de Ganduxer</td>\n      <td>41.403209</td>\n      <td>2.131320</td>\n    </tr>\n    <tr>\n      <th>1</th>\n      <td>Centre Cívic Pere Pruna</td>\n      <td>2000-05-15T00:00:00+02:00</td>\n      <td>Carrer de Ganduxer</td>\n      <td>41.403209</td>\n      <td>2.131320</td>\n    </tr>\n    <tr>\n      <th>2</th>\n      <td>Espai Lúdic Ambiental per a Famílies LaLudo</td>\n      <td>2000-03-09T00:00:00+01:00</td>\n      <td>Pas Institut Escola</td>\n      <td>41.387379</td>\n      <td>2.186899</td>\n    </tr>\n    <tr>\n      <th>3</th>\n      <td>Centre Cívic Cotxeres Borrell</td>\n      <td>2002-01-11T00:00:00+01:00</td>\n      <td>Carrer de Viladomat</td>\n      <td>41.375936</td>\n      <td>2.163190</td>\n    </tr>\n    <tr>\n      <th>4</th>\n      <td>Centre Cívic Cotxeres Borrell</td>\n      <td>2002-01-11T00:00:00+01:00</td>\n      <td>Carrer de Viladomat</td>\n      <td>41.375936</td>\n      <td>2.163190</td>\n    </tr>\n    <tr>\n      <th>...</th>\n      <td>...</td>\n      <td>...</td>\n      <td>...</td>\n      <td>...</td>\n      <td>...</td>\n    </tr>\n    <tr>\n      <th>1069</th>\n      <td>Jardins de Vil·la Cecília</td>\n      <td>1998-08-13T00:00:00+02:00</td>\n      <td>Santa Amèlia</td>\n      <td>41.393750</td>\n      <td>2.121964</td>\n    </tr>\n    <tr>\n      <th>1070</th>\n      <td>Jardins de Vil·la Cecília</td>\n      <td>1998-08-13T00:00:00+02:00</td>\n      <td>Santa Amèlia</td>\n      <td>41.393750</td>\n      <td>2.121964</td>\n    </tr>\n    <tr>\n      <th>1071</th>\n      <td>Casal de Gent Gran Les Roquetes</td>\n      <td>1994-02-21T00:00:00+01:00</td>\n      <td>Pl Titellaires</td>\n      <td>41.446168</td>\n      <td>2.174661</td>\n    </tr>\n    <tr>\n      <th>1072</th>\n      <td>Casal de Gent Gran Les Roquetes</td>\n      <td>1994-02-21T00:00:00+01:00</td>\n      <td>Pl Titellaires</td>\n      <td>41.446168</td>\n      <td>2.174661</td>\n    </tr>\n    <tr>\n      <th>1073</th>\n      <td>Punt 7 - Punt InfoJOVE Horta-Guinardó</td>\n      <td>2010-01-13T14:45:19+01:00</td>\n      <td>C Horta</td>\n      <td>41.431493</td>\n      <td>2.159833</td>\n    </tr>\n  </tbody>\n</table>\n<p>1074 rows × 5 columns</p>\n</div>",
      "text/plain": "                                             NAME                    CREATED  \\\n0                         Centre Cívic Pere Pruna  2000-05-15T00:00:00+02:00   \n1                         Centre Cívic Pere Pruna  2000-05-15T00:00:00+02:00   \n2     Espai Lúdic Ambiental per a Famílies LaLudo  2000-03-09T00:00:00+01:00   \n3                   Centre Cívic Cotxeres Borrell  2002-01-11T00:00:00+01:00   \n4                   Centre Cívic Cotxeres Borrell  2002-01-11T00:00:00+01:00   \n...                                           ...                        ...   \n1069                    Jardins de Vil·la Cecília  1998-08-13T00:00:00+02:00   \n1070                    Jardins de Vil·la Cecília  1998-08-13T00:00:00+02:00   \n1071              Casal de Gent Gran Les Roquetes  1994-02-21T00:00:00+01:00   \n1072              Casal de Gent Gran Les Roquetes  1994-02-21T00:00:00+01:00   \n1073        Punt 7 - Punt InfoJOVE Horta-Guinardó  2010-01-13T14:45:19+01:00   \n\n                     ROAD   LATITUDE  LONGITUDE  \n0      Carrer de Ganduxer  41.403209   2.131320  \n1      Carrer de Ganduxer  41.403209   2.131320  \n2     Pas Institut Escola  41.387379   2.186899  \n3     Carrer de Viladomat  41.375936   2.163190  \n4     Carrer de Viladomat  41.375936   2.163190  \n...                   ...        ...        ...  \n1069         Santa Amèlia  41.393750   2.121964  \n1070         Santa Amèlia  41.393750   2.121964  \n1071       Pl Titellaires  41.446168   2.174661  \n1072       Pl Titellaires  41.446168   2.174661  \n1073              C Horta  41.431493   2.159833  \n\n[1074 rows x 5 columns]"
     },
     "execution_count": 48,
     "metadata": {},
     "output_type": "execute_result"
    }
   ],
   "source": [
    "df_wifi = df_wifi.rename(columns={\"name\":\"NAME\", \"created\": \"CREATED\", \"addresses_road_name\":\"ROAD\", \"geo_epgs_4326_x\":\"LATITUDE\", \"geo_epgs_4326_y\":\"LONGITUDE\"})\n",
    "df_wifi"
   ]
  },
  {
   "cell_type": "code",
   "execution_count": 49,
   "metadata": {},
   "outputs": [
    {
     "data": {
      "text/html": "<div>\n<style scoped>\n    .dataframe tbody tr th:only-of-type {\n        vertical-align: middle;\n    }\n\n    .dataframe tbody tr th {\n        vertical-align: top;\n    }\n\n    .dataframe thead th {\n        text-align: right;\n    }\n</style>\n<table border=\"1\" class=\"dataframe\">\n  <thead>\n    <tr style=\"text-align: right;\">\n      <th></th>\n      <th>NAME</th>\n      <th>CREATED</th>\n      <th>ROAD</th>\n      <th>LATITUDE</th>\n      <th>LONGITUDE</th>\n    </tr>\n  </thead>\n  <tbody>\n    <tr>\n      <th>0</th>\n      <td>Centre Cívic Pere Pruna</td>\n      <td>2000</td>\n      <td>Carrer de Ganduxer</td>\n      <td>41.403209</td>\n      <td>2.131320</td>\n    </tr>\n    <tr>\n      <th>1</th>\n      <td>Centre Cívic Pere Pruna</td>\n      <td>2000</td>\n      <td>Carrer de Ganduxer</td>\n      <td>41.403209</td>\n      <td>2.131320</td>\n    </tr>\n    <tr>\n      <th>2</th>\n      <td>Espai Lúdic Ambiental per a Famílies LaLudo</td>\n      <td>2000</td>\n      <td>Pas Institut Escola</td>\n      <td>41.387379</td>\n      <td>2.186899</td>\n    </tr>\n    <tr>\n      <th>3</th>\n      <td>Centre Cívic Cotxeres Borrell</td>\n      <td>2002</td>\n      <td>Carrer de Viladomat</td>\n      <td>41.375936</td>\n      <td>2.163190</td>\n    </tr>\n    <tr>\n      <th>4</th>\n      <td>Centre Cívic Cotxeres Borrell</td>\n      <td>2002</td>\n      <td>Carrer de Viladomat</td>\n      <td>41.375936</td>\n      <td>2.163190</td>\n    </tr>\n    <tr>\n      <th>...</th>\n      <td>...</td>\n      <td>...</td>\n      <td>...</td>\n      <td>...</td>\n      <td>...</td>\n    </tr>\n    <tr>\n      <th>1069</th>\n      <td>Jardins de Vil·la Cecília</td>\n      <td>1998</td>\n      <td>Santa Amèlia</td>\n      <td>41.393750</td>\n      <td>2.121964</td>\n    </tr>\n    <tr>\n      <th>1070</th>\n      <td>Jardins de Vil·la Cecília</td>\n      <td>1998</td>\n      <td>Santa Amèlia</td>\n      <td>41.393750</td>\n      <td>2.121964</td>\n    </tr>\n    <tr>\n      <th>1071</th>\n      <td>Casal de Gent Gran Les Roquetes</td>\n      <td>1994</td>\n      <td>Pl Titellaires</td>\n      <td>41.446168</td>\n      <td>2.174661</td>\n    </tr>\n    <tr>\n      <th>1072</th>\n      <td>Casal de Gent Gran Les Roquetes</td>\n      <td>1994</td>\n      <td>Pl Titellaires</td>\n      <td>41.446168</td>\n      <td>2.174661</td>\n    </tr>\n    <tr>\n      <th>1073</th>\n      <td>Punt 7 - Punt InfoJOVE Horta-Guinardó</td>\n      <td>2010</td>\n      <td>C Horta</td>\n      <td>41.431493</td>\n      <td>2.159833</td>\n    </tr>\n  </tbody>\n</table>\n<p>1074 rows × 5 columns</p>\n</div>",
      "text/plain": "                                             NAME CREATED  \\\n0                         Centre Cívic Pere Pruna    2000   \n1                         Centre Cívic Pere Pruna    2000   \n2     Espai Lúdic Ambiental per a Famílies LaLudo    2000   \n3                   Centre Cívic Cotxeres Borrell    2002   \n4                   Centre Cívic Cotxeres Borrell    2002   \n...                                           ...     ...   \n1069                    Jardins de Vil·la Cecília    1998   \n1070                    Jardins de Vil·la Cecília    1998   \n1071              Casal de Gent Gran Les Roquetes    1994   \n1072              Casal de Gent Gran Les Roquetes    1994   \n1073        Punt 7 - Punt InfoJOVE Horta-Guinardó    2010   \n\n                     ROAD   LATITUDE  LONGITUDE  \n0      Carrer de Ganduxer  41.403209   2.131320  \n1      Carrer de Ganduxer  41.403209   2.131320  \n2     Pas Institut Escola  41.387379   2.186899  \n3     Carrer de Viladomat  41.375936   2.163190  \n4     Carrer de Viladomat  41.375936   2.163190  \n...                   ...        ...        ...  \n1069         Santa Amèlia  41.393750   2.121964  \n1070         Santa Amèlia  41.393750   2.121964  \n1071       Pl Titellaires  41.446168   2.174661  \n1072       Pl Titellaires  41.446168   2.174661  \n1073              C Horta  41.431493   2.159833  \n\n[1074 rows x 5 columns]"
     },
     "execution_count": 49,
     "metadata": {},
     "output_type": "execute_result"
    }
   ],
   "source": [
    "df_wifi[\"CREATED\"] = df_wifi[\"CREATED\"].str.split(\"T\", n=1).apply(lambda l: \"T\".join(l[:1]))\n",
    "df_wifi[\"CREATED\"] = df_wifi[\"CREATED\"].str.split(\"-\", n=1).apply(lambda l: \"-\".join(l[:1]))\n",
    "df_wifi"
   ]
  },
  {
   "cell_type": "code",
   "execution_count": 50,
   "metadata": {},
   "outputs": [
    {
     "name": "stdout",
     "output_type": "stream",
     "text": [
      "<class 'pandas.core.frame.DataFrame'>\n",
      "RangeIndex: 1074 entries, 0 to 1073\n",
      "Data columns (total 5 columns):\n",
      " #   Column     Non-Null Count  Dtype  \n",
      "---  ------     --------------  -----  \n",
      " 0   NAME       1074 non-null   object \n",
      " 1   CREATED    1074 non-null   object \n",
      " 2   ROAD       1074 non-null   object \n",
      " 3   LATITUDE   1073 non-null   float64\n",
      " 4   LONGITUDE  1073 non-null   float64\n",
      "dtypes: float64(2), object(3)\n",
      "memory usage: 42.1+ KB\n"
     ]
    }
   ],
   "source": [
    "df_wifi.info()"
   ]
  },
  {
   "cell_type": "code",
   "execution_count": 51,
   "metadata": {},
   "outputs": [],
   "source": [
    "df_wifi.to_csv(\"../data/wifi_cleaned.csv\", index=False)"
   ]
  }
 ],
 "metadata": {
  "kernelspec": {
   "display_name": "Python 3.9.5 64-bit ('core': conda)",
   "name": "python395jvsc74a57bd0f3286ea705001ec0bb3381152b489620b95b108b2c9769628ed9388c599911a5"
  },
  "language_info": {
   "codemirror_mode": {
    "name": "ipython",
    "version": 3
   },
   "file_extension": ".py",
   "mimetype": "text/x-python",
   "name": "python",
   "nbconvert_exporter": "python",
   "pygments_lexer": "ipython3",
   "version": "3.9.5"
  },
  "orig_nbformat": 2
 },
 "nbformat": 4,
 "nbformat_minor": 2
}