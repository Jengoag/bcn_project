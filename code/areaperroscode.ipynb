{
 "cells": [
  {
   "cell_type": "code",
   "execution_count": null,
   "metadata": {},
   "outputs": [],
   "source": [
    "import pandas as pd\n",
    "\n",
    "pd.__version__\n"
   ]
  },
  {
   "cell_type": "code",
   "execution_count": null,
   "metadata": {},
   "outputs": [],
   "source": [
    "df_areaperros = pd.read_csv(\"../data/areaperro.csv\")\n",
    "print(df_areaperros)"
   ]
  },
  {
   "cell_type": "code",
   "execution_count": null,
   "metadata": {},
   "outputs": [],
   "source": [
    "df_areaperros.info()"
   ]
  },
  {
   "cell_type": "code",
   "execution_count": null,
   "metadata": {},
   "outputs": [],
   "source": [
    "df_areaperros.isna().sum()"
   ]
  },
  {
   "cell_type": "code",
   "execution_count": null,
   "metadata": {},
   "outputs": [],
   "source": [
    "df_areaperros.columns"
   ]
  },
  {
   "cell_type": "code",
   "execution_count": null,
   "metadata": {},
   "outputs": [],
   "source": [
    "df_areaperros = df_areaperros.drop(columns = \n",
    "['register_id', 'institution_id', 'institution_name', 'created',\n",
    "       'modified', 'addresses_roadtype_id', 'addresses_roadtype_name',\n",
    "       'addresses_road_id',\n",
    "       'addresses_start_street_number', 'addresses_end_street_number',\n",
    "       'addresses_neighborhood_id', 'addresses_neighborhood_name',\n",
    "       'addresses_zip_code', 'addresses_town', 'addresses_main_address',\n",
    "       'addresses_type', 'values_id', 'values_attribute_id', 'values_category',\n",
    "       'values_attribute_name', 'values_value', 'values_outstanding',\n",
    "       'values_description', 'secondary_filters_id', 'secondary_filters_name',\n",
    "       'secondary_filters_fullpath', 'secondary_filters_tree',\n",
    "       'secondary_filters_asia_id', 'geo_epgs_25831_x', 'geo_epgs_25831_y',\n",
    "       ])\n",
    "df_areaperros"
   ]
  },
  {
   "cell_type": "code",
   "execution_count": null,
   "metadata": {},
   "outputs": [],
   "source": [
    "df_areaperros = df_areaperros.rename(columns={\"name\":\"NAME_AREA\", \"addresses_road_name\":\"ROAD\", \"addresses_district_id\":\"CODE_DISTRICT\", \"addresses_district_name\":\"DISTRICT\", \"geo_epgs_4326_x\":\"GEOX\", \"geo_epgs_4326_y\":\"GEOY\"})\n",
    "df_areaperros"
   ]
  },
  {
   "cell_type": "code",
   "execution_count": null,
   "metadata": {},
   "outputs": [],
   "source": [
    "df_areaperros.to_csv(\"../data/areaperros_cleaned.csv\", index=False)"
   ]
  }
 ],
 "metadata": {
  "kernelspec": {
   "display_name": "Python 3.9.5 64-bit ('core': conda)",
   "name": "python395jvsc74a57bd0f3286ea705001ec0bb3381152b489620b95b108b2c9769628ed9388c599911a5"
  },
  "language_info": {
   "codemirror_mode": {
    "name": "ipython",
    "version": 3
   },
   "file_extension": ".py",
   "mimetype": "text/x-python",
   "name": "python",
   "nbconvert_exporter": "python",
   "pygments_lexer": "ipython3",
   "version": "3.9.5"
  },
  "orig_nbformat": 3
 },
 "nbformat": 4,
 "nbformat_minor": 2
}