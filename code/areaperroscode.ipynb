{
 "cells": [
  {
   "cell_type": "code",
   "execution_count": 2,
   "metadata": {},
   "outputs": [
    {
     "data": {
      "text/plain": "'1.3.1'"
     },
     "execution_count": 2,
     "metadata": {},
     "output_type": "execute_result"
    }
   ],
   "source": [
    "import pandas as pd\n",
    "\n",
    "pd.__version__\n"
   ]
  },
  {
   "cell_type": "code",
   "execution_count": 3,
   "metadata": {},
   "outputs": [
    {
     "name": "stdout",
     "output_type": "stream",
     "text": [
      "      register_id                                               name  \\\n",
      "0    ﻿92086026115         Àrea d'Esbarjo per a Gossos  *Plaça Wagner   \n",
      "1    ﻿93131095056  Àrea d'Esbarjo per a Gossos  *Plaça de Martí L...   \n",
      "2    ﻿97314163658  Àrea d'Esbarjo per a Gossos  *Hondures - Sagre...   \n",
      "3    ﻿99400040913                        Àrea d'Esbarjo per a Gossos   \n",
      "4    ﻿92086026084  Àrea d'Esbarjo per a Gossos  *Travessera de Gr...   \n",
      "..            ...                                                ...   \n",
      "106  ﻿99400591162      Àrea d'Esbarjo per a Gossos *Parc Nova Icària   \n",
      "107  ﻿99400591171     Àrea d'Esbarjo per a Gossos *Pare Pérez Pulgar   \n",
      "108  ﻿99400591181       Àrea d'Esbarjo per a Gossos *Coll i Alentorn   \n",
      "109  ﻿99400369660                        Àrea d'Esbarjo per a Gossos   \n",
      "110  ﻿99400364529                        Àrea d'Esbarjo per a Gossos   \n",
      "\n",
      "     institution_id                     institution_name  \\\n",
      "0               NaN                                  NaN   \n",
      "1               NaN                                  NaN   \n",
      "2               NaN                                  NaN   \n",
      "3      9.829413e+10                     Parc de Carles I   \n",
      "4               NaN                                  NaN   \n",
      "..              ...                                  ...   \n",
      "106             NaN                                  NaN   \n",
      "107             NaN                                  NaN   \n",
      "108             NaN                                  NaN   \n",
      "109    9.929812e+10                    Jardins Hiroshima   \n",
      "110    9.940035e+10  Jardins del Doctor Samuel Hahnemann   \n",
      "\n",
      "                       created                          modified  \\\n",
      "0    1988-03-15T00:00:00+01:00         2016-12-05T13:04:27+01:00   \n",
      "1    1993-05-11T00:00:00+02:00         2016-12-05T13:02:25+01:00   \n",
      "2    1997-11-10T00:00:00+01:00         2020-06-03T12:27:03+02:00   \n",
      "3    2003-05-23T14:16:51+02:00         2016-12-05T13:00:47+01:00   \n",
      "4    1988-03-14T00:00:00+01:00         2016-12-05T13:04:52+01:00   \n",
      "..                         ...                               ...   \n",
      "106  2018-05-04T12:58:34+02:00         2020-06-04T16:58:37+02:00   \n",
      "107  2018-05-04T13:33:51+02:00  2021-05-03T11:14:47.903717+02:00   \n",
      "108  2018-05-04T13:58:28+02:00         2018-05-04T13:58:43+02:00   \n",
      "109  2015-01-28T00:00:00+01:00         2018-05-04T12:51:28+02:00   \n",
      "110  2014-11-28T00:00:00+01:00         2016-12-05T13:03:02+01:00   \n",
      "\n",
      "     addresses_roadtype_id  addresses_roadtype_name  addresses_road_id  \\\n",
      "0                      NaN                      NaN             367752   \n",
      "1                      NaN                      NaN             701078   \n",
      "2                      NaN                      NaN             169908   \n",
      "3                      NaN                      NaN              62609   \n",
      "4                      NaN                      NaN             344101   \n",
      "..                     ...                      ...                ...   \n",
      "106                    NaN                      NaN             700884   \n",
      "107                    NaN                      NaN             239606   \n",
      "108                    NaN                      NaN             700823   \n",
      "109                    NaN                      NaN              56504   \n",
      "110                    NaN                      NaN             320704   \n",
      "\n",
      "                  addresses_road_name  ...  values_description  \\\n",
      "0                           Pl Wagner  ...                 NaN   \n",
      "1                   Pl Martí Llauradó  ...                 NaN   \n",
      "2                    C Josep Estivill  ...                 NaN   \n",
      "3                           Av Icària  ...                 NaN   \n",
      "4                         Trav Gràcia  ...                 NaN   \n",
      "..                                ...  ...                 ...   \n",
      "106            Pl Voluntaris Olímpics  ...                 NaN   \n",
      "107  Carrer del Pare Pérez del Pulgar  ...                 NaN   \n",
      "108                 C Coll i Alentorn  ...                 NaN   \n",
      "109                          Camèlies  ...                 NaN   \n",
      "110                         Av Sarrià  ...                 NaN   \n",
      "\n",
      "     secondary_filters_id  secondary_filters_name secondary_filters_fullpath  \\\n",
      "0                     NaN                     NaN                        NaN   \n",
      "1                     NaN                     NaN                        NaN   \n",
      "2                     NaN                     NaN                        NaN   \n",
      "3                     NaN                     NaN                        NaN   \n",
      "4                     NaN                     NaN                        NaN   \n",
      "..                    ...                     ...                        ...   \n",
      "106                   NaN                     NaN                        NaN   \n",
      "107                   NaN                     NaN                        NaN   \n",
      "108                   NaN                     NaN                        NaN   \n",
      "109                   NaN                     NaN                        NaN   \n",
      "110                   NaN                     NaN                        NaN   \n",
      "\n",
      "     secondary_filters_tree secondary_filters_asia_id  geo_epgs_25831_x  \\\n",
      "0                       NaN                       NaN     428057.229118   \n",
      "1                       NaN                       NaN     427377.650671   \n",
      "2                       NaN                       NaN     432365.231652   \n",
      "3                       NaN                       NaN     432481.801237   \n",
      "4                       NaN                       NaN     429995.208018   \n",
      "..                      ...                       ...               ...   \n",
      "106                     NaN                       NaN     432712.379028   \n",
      "107                     NaN                       NaN     432346.259102   \n",
      "108                     NaN                       NaN     428531.270766   \n",
      "109                     NaN                       NaN     430348.328376   \n",
      "110                     NaN                       NaN     427876.852897   \n",
      "\n",
      "    geo_epgs_25831_y  geo_epgs_4326_x  geo_epgs_4326_y  \n",
      "0       4.582710e+06        41.392709         2.139449  \n",
      "1       4.582948e+06        41.394791         2.131292  \n",
      "2       4.585688e+06        41.419904         2.190641  \n",
      "3       4.582118e+06        41.387755         2.192434  \n",
      "4       4.583991e+06        41.404419         2.162479  \n",
      "..               ...              ...              ...  \n",
      "106     4.581952e+06        41.386284         2.195210  \n",
      "107     4.589435e+06        41.453653         2.189995  \n",
      "108     4.586221e+06        41.424369         2.144704  \n",
      "109     4.585012e+06        41.413643         2.166586  \n",
      "110     4.582593e+06        41.391633         2.137305  \n",
      "\n",
      "[111 rows x 36 columns]\n"
     ]
    }
   ],
   "source": [
    "df_areaperros = pd.read_csv(\"../data/areaperro.csv\")\n",
    "print(df_areaperros)"
   ]
  },
  {
   "cell_type": "code",
   "execution_count": 4,
   "metadata": {},
   "outputs": [
    {
     "name": "stdout",
     "output_type": "stream",
     "text": [
      "<class 'pandas.core.frame.DataFrame'>\n",
      "RangeIndex: 111 entries, 0 to 110\n",
      "Data columns (total 36 columns):\n",
      " #   Column                         Non-Null Count  Dtype  \n",
      "---  ------                         --------------  -----  \n",
      " 0   register_id                    111 non-null    object \n",
      " 1   name                           111 non-null    object \n",
      " 2   institution_id                 68 non-null     float64\n",
      " 3   institution_name               68 non-null     object \n",
      " 4   created                        111 non-null    object \n",
      " 5   modified                       111 non-null    object \n",
      " 6   addresses_roadtype_id          0 non-null      float64\n",
      " 7   addresses_roadtype_name        0 non-null      float64\n",
      " 8   addresses_road_id              111 non-null    int64  \n",
      " 9   addresses_road_name            111 non-null    object \n",
      " 10  addresses_start_street_number  107 non-null    float64\n",
      " 11  addresses_end_street_number    2 non-null      float64\n",
      " 12  addresses_neighborhood_id      111 non-null    int64  \n",
      " 13  addresses_neighborhood_name    111 non-null    object \n",
      " 14  addresses_district_id          111 non-null    int64  \n",
      " 15  addresses_district_name        111 non-null    object \n",
      " 16  addresses_zip_code             111 non-null    int64  \n",
      " 17  addresses_town                 111 non-null    object \n",
      " 18  addresses_main_address         111 non-null    bool   \n",
      " 19  addresses_type                 0 non-null      float64\n",
      " 20  values_id                      1 non-null      float64\n",
      " 21  values_attribute_id            1 non-null      float64\n",
      " 22  values_category                1 non-null      object \n",
      " 23  values_attribute_name          1 non-null      object \n",
      " 24  values_value                   1 non-null      float64\n",
      " 25  values_outstanding             1 non-null      object \n",
      " 26  values_description             0 non-null      float64\n",
      " 27  secondary_filters_id           0 non-null      float64\n",
      " 28  secondary_filters_name         0 non-null      float64\n",
      " 29  secondary_filters_fullpath     0 non-null      float64\n",
      " 30  secondary_filters_tree         0 non-null      float64\n",
      " 31  secondary_filters_asia_id      0 non-null      float64\n",
      " 32  geo_epgs_25831_x               111 non-null    float64\n",
      " 33  geo_epgs_25831_y               111 non-null    float64\n",
      " 34  geo_epgs_4326_x                111 non-null    float64\n",
      " 35  geo_epgs_4326_y                111 non-null    float64\n",
      "dtypes: bool(1), float64(19), int64(4), object(12)\n",
      "memory usage: 30.6+ KB\n"
     ]
    }
   ],
   "source": [
    "df_areaperros.info()"
   ]
  },
  {
   "cell_type": "code",
   "execution_count": 5,
   "metadata": {},
   "outputs": [
    {
     "data": {
      "text/plain": "register_id                        0\nname                               0\ninstitution_id                    43\ninstitution_name                  43\ncreated                            0\nmodified                           0\naddresses_roadtype_id            111\naddresses_roadtype_name          111\naddresses_road_id                  0\naddresses_road_name                0\naddresses_start_street_number      4\naddresses_end_street_number      109\naddresses_neighborhood_id          0\naddresses_neighborhood_name        0\naddresses_district_id              0\naddresses_district_name            0\naddresses_zip_code                 0\naddresses_town                     0\naddresses_main_address             0\naddresses_type                   111\nvalues_id                        110\nvalues_attribute_id              110\nvalues_category                  110\nvalues_attribute_name            110\nvalues_value                     110\nvalues_outstanding               110\nvalues_description               111\nsecondary_filters_id             111\nsecondary_filters_name           111\nsecondary_filters_fullpath       111\nsecondary_filters_tree           111\nsecondary_filters_asia_id        111\ngeo_epgs_25831_x                   0\ngeo_epgs_25831_y                   0\ngeo_epgs_4326_x                    0\ngeo_epgs_4326_y                    0\ndtype: int64"
     },
     "execution_count": 5,
     "metadata": {},
     "output_type": "execute_result"
    }
   ],
   "source": [
    "df_areaperros.isna().sum()"
   ]
  },
  {
   "cell_type": "code",
   "execution_count": 6,
   "metadata": {},
   "outputs": [
    {
     "data": {
      "text/plain": "Index(['register_id', 'name', 'institution_id', 'institution_name', 'created',\n       'modified', 'addresses_roadtype_id', 'addresses_roadtype_name',\n       'addresses_road_id', 'addresses_road_name',\n       'addresses_start_street_number', 'addresses_end_street_number',\n       'addresses_neighborhood_id', 'addresses_neighborhood_name',\n       'addresses_district_id', 'addresses_district_name',\n       'addresses_zip_code', 'addresses_town', 'addresses_main_address',\n       'addresses_type', 'values_id', 'values_attribute_id', 'values_category',\n       'values_attribute_name', 'values_value', 'values_outstanding',\n       'values_description', 'secondary_filters_id', 'secondary_filters_name',\n       'secondary_filters_fullpath', 'secondary_filters_tree',\n       'secondary_filters_asia_id', 'geo_epgs_25831_x', 'geo_epgs_25831_y',\n       'geo_epgs_4326_x', 'geo_epgs_4326_y'],\n      dtype='object')"
     },
     "execution_count": 6,
     "metadata": {},
     "output_type": "execute_result"
    }
   ],
   "source": [
    "df_areaperros.columns"
   ]
  },
  {
   "cell_type": "code",
   "execution_count": 7,
   "metadata": {},
   "outputs": [
    {
     "data": {
      "text/html": "<div>\n<style scoped>\n    .dataframe tbody tr th:only-of-type {\n        vertical-align: middle;\n    }\n\n    .dataframe tbody tr th {\n        vertical-align: top;\n    }\n\n    .dataframe thead th {\n        text-align: right;\n    }\n</style>\n<table border=\"1\" class=\"dataframe\">\n  <thead>\n    <tr style=\"text-align: right;\">\n      <th></th>\n      <th>name</th>\n      <th>addresses_road_name</th>\n      <th>addresses_district_id</th>\n      <th>addresses_district_name</th>\n      <th>geo_epgs_4326_x</th>\n      <th>geo_epgs_4326_y</th>\n    </tr>\n  </thead>\n  <tbody>\n    <tr>\n      <th>0</th>\n      <td>Àrea d'Esbarjo per a Gossos  *Plaça Wagner</td>\n      <td>Pl Wagner</td>\n      <td>5</td>\n      <td>Sarrià-Sant Gervasi</td>\n      <td>41.392709</td>\n      <td>2.139449</td>\n    </tr>\n    <tr>\n      <th>1</th>\n      <td>Àrea d'Esbarjo per a Gossos  *Plaça de Martí L...</td>\n      <td>Pl Martí Llauradó</td>\n      <td>5</td>\n      <td>Sarrià-Sant Gervasi</td>\n      <td>41.394791</td>\n      <td>2.131292</td>\n    </tr>\n    <tr>\n      <th>2</th>\n      <td>Àrea d'Esbarjo per a Gossos  *Hondures - Sagre...</td>\n      <td>C Josep Estivill</td>\n      <td>9</td>\n      <td>Sant Andreu</td>\n      <td>41.419904</td>\n      <td>2.190641</td>\n    </tr>\n    <tr>\n      <th>3</th>\n      <td>Àrea d'Esbarjo per a Gossos</td>\n      <td>Av Icària</td>\n      <td>10</td>\n      <td>Sant Martí</td>\n      <td>41.387755</td>\n      <td>2.192434</td>\n    </tr>\n    <tr>\n      <th>4</th>\n      <td>Àrea d'Esbarjo per a Gossos  *Travessera de Gr...</td>\n      <td>Trav Gràcia</td>\n      <td>6</td>\n      <td>Gràcia</td>\n      <td>41.404419</td>\n      <td>2.162479</td>\n    </tr>\n    <tr>\n      <th>...</th>\n      <td>...</td>\n      <td>...</td>\n      <td>...</td>\n      <td>...</td>\n      <td>...</td>\n      <td>...</td>\n    </tr>\n    <tr>\n      <th>106</th>\n      <td>Àrea d'Esbarjo per a Gossos *Parc Nova Icària</td>\n      <td>Pl Voluntaris Olímpics</td>\n      <td>10</td>\n      <td>Sant Martí</td>\n      <td>41.386284</td>\n      <td>2.195210</td>\n    </tr>\n    <tr>\n      <th>107</th>\n      <td>Àrea d'Esbarjo per a Gossos *Pare Pérez Pulgar</td>\n      <td>Carrer del Pare Pérez del Pulgar</td>\n      <td>9</td>\n      <td>Sant Andreu</td>\n      <td>41.453653</td>\n      <td>2.189995</td>\n    </tr>\n    <tr>\n      <th>108</th>\n      <td>Àrea d'Esbarjo per a Gossos *Coll i Alentorn</td>\n      <td>C Coll i Alentorn</td>\n      <td>7</td>\n      <td>Horta-Guinardó</td>\n      <td>41.424369</td>\n      <td>2.144704</td>\n    </tr>\n    <tr>\n      <th>109</th>\n      <td>Àrea d'Esbarjo per a Gossos</td>\n      <td>Camèlies</td>\n      <td>7</td>\n      <td>Horta-Guinardó</td>\n      <td>41.413643</td>\n      <td>2.166586</td>\n    </tr>\n    <tr>\n      <th>110</th>\n      <td>Àrea d'Esbarjo per a Gossos</td>\n      <td>Av Sarrià</td>\n      <td>5</td>\n      <td>Sarrià-Sant Gervasi</td>\n      <td>41.391633</td>\n      <td>2.137305</td>\n    </tr>\n  </tbody>\n</table>\n<p>111 rows × 6 columns</p>\n</div>",
      "text/plain": "                                                  name  \\\n0           Àrea d'Esbarjo per a Gossos  *Plaça Wagner   \n1    Àrea d'Esbarjo per a Gossos  *Plaça de Martí L...   \n2    Àrea d'Esbarjo per a Gossos  *Hondures - Sagre...   \n3                          Àrea d'Esbarjo per a Gossos   \n4    Àrea d'Esbarjo per a Gossos  *Travessera de Gr...   \n..                                                 ...   \n106      Àrea d'Esbarjo per a Gossos *Parc Nova Icària   \n107     Àrea d'Esbarjo per a Gossos *Pare Pérez Pulgar   \n108       Àrea d'Esbarjo per a Gossos *Coll i Alentorn   \n109                        Àrea d'Esbarjo per a Gossos   \n110                        Àrea d'Esbarjo per a Gossos   \n\n                  addresses_road_name  addresses_district_id  \\\n0                           Pl Wagner                      5   \n1                   Pl Martí Llauradó                      5   \n2                    C Josep Estivill                      9   \n3                           Av Icària                     10   \n4                         Trav Gràcia                      6   \n..                                ...                    ...   \n106            Pl Voluntaris Olímpics                     10   \n107  Carrer del Pare Pérez del Pulgar                      9   \n108                 C Coll i Alentorn                      7   \n109                          Camèlies                      7   \n110                         Av Sarrià                      5   \n\n    addresses_district_name  geo_epgs_4326_x  geo_epgs_4326_y  \n0       Sarrià-Sant Gervasi        41.392709         2.139449  \n1       Sarrià-Sant Gervasi        41.394791         2.131292  \n2               Sant Andreu        41.419904         2.190641  \n3                Sant Martí        41.387755         2.192434  \n4                    Gràcia        41.404419         2.162479  \n..                      ...              ...              ...  \n106              Sant Martí        41.386284         2.195210  \n107             Sant Andreu        41.453653         2.189995  \n108          Horta-Guinardó        41.424369         2.144704  \n109          Horta-Guinardó        41.413643         2.166586  \n110     Sarrià-Sant Gervasi        41.391633         2.137305  \n\n[111 rows x 6 columns]"
     },
     "execution_count": 7,
     "metadata": {},
     "output_type": "execute_result"
    }
   ],
   "source": [
    "df_areaperros = df_areaperros.drop(columns = \n",
    "['register_id', 'institution_id', 'institution_name', 'created',\n",
    "       'modified', 'addresses_roadtype_id', 'addresses_roadtype_name',\n",
    "       'addresses_road_id',\n",
    "       'addresses_start_street_number', 'addresses_end_street_number',\n",
    "       'addresses_neighborhood_id', 'addresses_neighborhood_name',\n",
    "       'addresses_zip_code', 'addresses_town', 'addresses_main_address',\n",
    "       'addresses_type', 'values_id', 'values_attribute_id', 'values_category',\n",
    "       'values_attribute_name', 'values_value', 'values_outstanding',\n",
    "       'values_description', 'secondary_filters_id', 'secondary_filters_name',\n",
    "       'secondary_filters_fullpath', 'secondary_filters_tree',\n",
    "       'secondary_filters_asia_id', 'geo_epgs_25831_x', 'geo_epgs_25831_y',\n",
    "       ])\n",
    "df_areaperros"
   ]
  },
  {
   "cell_type": "code",
   "execution_count": 8,
   "metadata": {},
   "outputs": [
    {
     "data": {
      "text/html": "<div>\n<style scoped>\n    .dataframe tbody tr th:only-of-type {\n        vertical-align: middle;\n    }\n\n    .dataframe tbody tr th {\n        vertical-align: top;\n    }\n\n    .dataframe thead th {\n        text-align: right;\n    }\n</style>\n<table border=\"1\" class=\"dataframe\">\n  <thead>\n    <tr style=\"text-align: right;\">\n      <th></th>\n      <th>NAME_AREA</th>\n      <th>ROAD</th>\n      <th>CODE_DISTRICT</th>\n      <th>DISTRICT</th>\n      <th>LATITUDE</th>\n      <th>LONGITUDE</th>\n    </tr>\n  </thead>\n  <tbody>\n    <tr>\n      <th>0</th>\n      <td>Àrea d'Esbarjo per a Gossos  *Plaça Wagner</td>\n      <td>Pl Wagner</td>\n      <td>5</td>\n      <td>Sarrià-Sant Gervasi</td>\n      <td>41.392709</td>\n      <td>2.139449</td>\n    </tr>\n    <tr>\n      <th>1</th>\n      <td>Àrea d'Esbarjo per a Gossos  *Plaça de Martí L...</td>\n      <td>Pl Martí Llauradó</td>\n      <td>5</td>\n      <td>Sarrià-Sant Gervasi</td>\n      <td>41.394791</td>\n      <td>2.131292</td>\n    </tr>\n    <tr>\n      <th>2</th>\n      <td>Àrea d'Esbarjo per a Gossos  *Hondures - Sagre...</td>\n      <td>C Josep Estivill</td>\n      <td>9</td>\n      <td>Sant Andreu</td>\n      <td>41.419904</td>\n      <td>2.190641</td>\n    </tr>\n    <tr>\n      <th>3</th>\n      <td>Àrea d'Esbarjo per a Gossos</td>\n      <td>Av Icària</td>\n      <td>10</td>\n      <td>Sant Martí</td>\n      <td>41.387755</td>\n      <td>2.192434</td>\n    </tr>\n    <tr>\n      <th>4</th>\n      <td>Àrea d'Esbarjo per a Gossos  *Travessera de Gr...</td>\n      <td>Trav Gràcia</td>\n      <td>6</td>\n      <td>Gràcia</td>\n      <td>41.404419</td>\n      <td>2.162479</td>\n    </tr>\n    <tr>\n      <th>...</th>\n      <td>...</td>\n      <td>...</td>\n      <td>...</td>\n      <td>...</td>\n      <td>...</td>\n      <td>...</td>\n    </tr>\n    <tr>\n      <th>106</th>\n      <td>Àrea d'Esbarjo per a Gossos *Parc Nova Icària</td>\n      <td>Pl Voluntaris Olímpics</td>\n      <td>10</td>\n      <td>Sant Martí</td>\n      <td>41.386284</td>\n      <td>2.195210</td>\n    </tr>\n    <tr>\n      <th>107</th>\n      <td>Àrea d'Esbarjo per a Gossos *Pare Pérez Pulgar</td>\n      <td>Carrer del Pare Pérez del Pulgar</td>\n      <td>9</td>\n      <td>Sant Andreu</td>\n      <td>41.453653</td>\n      <td>2.189995</td>\n    </tr>\n    <tr>\n      <th>108</th>\n      <td>Àrea d'Esbarjo per a Gossos *Coll i Alentorn</td>\n      <td>C Coll i Alentorn</td>\n      <td>7</td>\n      <td>Horta-Guinardó</td>\n      <td>41.424369</td>\n      <td>2.144704</td>\n    </tr>\n    <tr>\n      <th>109</th>\n      <td>Àrea d'Esbarjo per a Gossos</td>\n      <td>Camèlies</td>\n      <td>7</td>\n      <td>Horta-Guinardó</td>\n      <td>41.413643</td>\n      <td>2.166586</td>\n    </tr>\n    <tr>\n      <th>110</th>\n      <td>Àrea d'Esbarjo per a Gossos</td>\n      <td>Av Sarrià</td>\n      <td>5</td>\n      <td>Sarrià-Sant Gervasi</td>\n      <td>41.391633</td>\n      <td>2.137305</td>\n    </tr>\n  </tbody>\n</table>\n<p>111 rows × 6 columns</p>\n</div>",
      "text/plain": "                                             NAME_AREA  \\\n0           Àrea d'Esbarjo per a Gossos  *Plaça Wagner   \n1    Àrea d'Esbarjo per a Gossos  *Plaça de Martí L...   \n2    Àrea d'Esbarjo per a Gossos  *Hondures - Sagre...   \n3                          Àrea d'Esbarjo per a Gossos   \n4    Àrea d'Esbarjo per a Gossos  *Travessera de Gr...   \n..                                                 ...   \n106      Àrea d'Esbarjo per a Gossos *Parc Nova Icària   \n107     Àrea d'Esbarjo per a Gossos *Pare Pérez Pulgar   \n108       Àrea d'Esbarjo per a Gossos *Coll i Alentorn   \n109                        Àrea d'Esbarjo per a Gossos   \n110                        Àrea d'Esbarjo per a Gossos   \n\n                                 ROAD  CODE_DISTRICT             DISTRICT  \\\n0                           Pl Wagner              5  Sarrià-Sant Gervasi   \n1                   Pl Martí Llauradó              5  Sarrià-Sant Gervasi   \n2                    C Josep Estivill              9          Sant Andreu   \n3                           Av Icària             10           Sant Martí   \n4                         Trav Gràcia              6               Gràcia   \n..                                ...            ...                  ...   \n106            Pl Voluntaris Olímpics             10           Sant Martí   \n107  Carrer del Pare Pérez del Pulgar              9          Sant Andreu   \n108                 C Coll i Alentorn              7       Horta-Guinardó   \n109                          Camèlies              7       Horta-Guinardó   \n110                         Av Sarrià              5  Sarrià-Sant Gervasi   \n\n      LATITUDE  LONGITUDE  \n0    41.392709   2.139449  \n1    41.394791   2.131292  \n2    41.419904   2.190641  \n3    41.387755   2.192434  \n4    41.404419   2.162479  \n..         ...        ...  \n106  41.386284   2.195210  \n107  41.453653   2.189995  \n108  41.424369   2.144704  \n109  41.413643   2.166586  \n110  41.391633   2.137305  \n\n[111 rows x 6 columns]"
     },
     "execution_count": 8,
     "metadata": {},
     "output_type": "execute_result"
    }
   ],
   "source": [
    "df_areaperros = df_areaperros.rename(columns={\"name\":\"NAME_AREA\", \"addresses_road_name\":\"ROAD\", \"addresses_district_id\":\"CODE_DISTRICT\", \"addresses_district_name\":\"DISTRICT\", \"geo_epgs_4326_x\":\"LATITUDE\", \"geo_epgs_4326_y\":\"LONGITUDE\"})\n",
    "df_areaperros"
   ]
  },
  {
   "cell_type": "code",
   "execution_count": 9,
   "metadata": {},
   "outputs": [
    {
     "data": {
      "text/plain": "array([\"Àrea d'Esbarjo per a Gossos  *Plaça Wagner\",\n       \"Àrea d'Esbarjo per a Gossos  *Plaça de Martí Llauradó\",\n       \"Àrea d'Esbarjo per a Gossos  *Hondures - Sagrera - Josep Estivill\",\n       \"Àrea d'Esbarjo per a Gossos\",\n       \"Àrea d'Esbarjo per a Gossos  *Travessera de Gràcia\",\n       \"Àrea d'Esbarjo per a Gossos  *Plaça Julio González\",\n       \"Àrea d'Esbarjo per a Gossos *avinguda Coll de Portell\",\n       \"Àrea d'Esbarjo per a Gossoss  *Plaça Olivereta\",\n       \"Àrea d'Esbarjo per a Gossos  * carrer Cinca\",\n       \"Àrea d'Esbarjo per a Gossos  *Carrer Esteve Terrades\",\n       \"Àrea d'Esbarjo per a Gossos *Escultor Claperòs - Aragó\",\n       \"Àrea d'Esbarjo per a Gossos * Passatge Xinxó\",\n       \"Àrea d'Esbarjo per a Gossos Conca - Sant Antoni Maria Claret - Indústria\",\n       \"Àrea d'Esbarjo per a Gossos  *Santander - Pg. Enric Sanchis\",\n       \"Àrea d'Esbarjo per a Gossos  *Plaça Congrés Eucarístic\",\n       \"Àrea d'Esbarjo per a Gossos  *Jardins Manuel J. Arnalot\",\n       \"Àrea d'Esbarjo per a Gossos  *Jardins de Martí Luter - Passatge Maluquer\",\n       \"Àrea d'Esbarjo per a Gossos *avinguda Meridiana - Via Favència  - Cooperació\",\n       \"Àrea d'Esbarjo per a Gossos *Aragó - Bilbao - Lope de Vega\",\n       \"Àrea d'Esbarjo per a Gossos *Plaça Heroïnes de Girona\",\n       \"Àrea d'Esbarjo per a Gossos  *Plaça Sagrada Família\",\n       \"Àrea d'Esbarjo per a Gossos  *Plaça Doctor Letamendi\",\n       \"Àrea  d'Esbarjo per a Gossos  *Bosch i Gimpera\",\n       \"Àrea d'Esbarjo per a Gossos *Park Güell Forestal\",\n       \"Àrea d'Esbarjo per a Gossos *Juan de Mena-Vall Hebrón\",\n       \"Àrea d'Esbarjo  per a Gossos *Pg Maragall -Trinxant - Juan de Garay\",\n       \"Àrea d'Esbarjo per a Gossos Torrent del Remei *Park Güell Forestal\",\n       \"Àrea d'Esbarjo per a Gossos *Ferran Junoy - Tucuman\",\n       \"Àrea d'Esbarjo per a Gossos * Av. Meridiana\",\n       \"Àrea d'Esbarjo per a Gossos *Nàpols\",\n       \"Àrea d'Esbarjo per a Gossos *Plaça Ventura i Gassol\",\n       \"Àrea d'Esbarjo per a Gossos  *Carrer Farigola\",\n       \"Àrea d'Esbarjo per a Gossos *Plaça Palmeres\",\n       \"Àrea d'Esbarjo per a Gossos *avinguda Diagonal - Consell de Cent - Padilla\",\n       \"Àrea d'Esbarjo per a Gossos *Avinguda Mistral  - Vilamarí - Av Paral·lel\",\n       \"Àrea d'Esbarjo per a Gossos *Priorat\",\n       \"Àrea d'Esbarjo per a Gossos  *Via Trajana - Santander - Verneda, Pg. - Binefar\",\n       \"Àrea d'Esbarjo per a Gossos *Plaça Rosa Sabater\",\n       \"Àrea d'Esbarjo per a Gossos  *Jardins Can Marcet\",\n       \"Àrea d'Esbarjo per a Gossos  *Capsec\",\n       \"Àrea d'Esbarjo per a Gossos *Plaça Alfons Comín\",\n       \"Àrea d'Esbarjo per a Gossos *Torrent Parera - N152\",\n       \"Àrea d'Esbarjo per a Gossos *Parc Nova Icària\",\n       \"Àrea d'Esbarjo per a Gossos *Pare Pérez Pulgar\",\n       \"Àrea d'Esbarjo per a Gossos *Coll i Alentorn\"], dtype=object)"
     },
     "execution_count": 9,
     "metadata": {},
     "output_type": "execute_result"
    }
   ],
   "source": [
    "df_areaperros[\"NAME_AREA\"].unique()"
   ]
  },
  {
   "cell_type": "code",
   "execution_count": 10,
   "metadata": {},
   "outputs": [],
   "source": [
    "##pd.options.display.max_rows = None\n",
    "##df_areaperros"
   ]
  },
  {
   "cell_type": "code",
   "execution_count": 11,
   "metadata": {},
   "outputs": [],
   "source": [
    "##df_areaperros.drop(columns = ['ROAD', 'CODE_DISTRICT', 'DISTRICT', 'LATITUDE', 'LONGITUDE'])"
   ]
  },
  {
   "cell_type": "code",
   "execution_count": 12,
   "metadata": {},
   "outputs": [],
   "source": [
    "##df_areaperros['NAME_AREA']"
   ]
  },
  {
   "cell_type": "code",
   "execution_count": 13,
   "metadata": {},
   "outputs": [
    {
     "name": "stdout",
     "output_type": "stream",
     "text": [
      "<class 'pandas.core.frame.DataFrame'>\n",
      "RangeIndex: 111 entries, 0 to 110\n",
      "Data columns (total 6 columns):\n",
      " #   Column         Non-Null Count  Dtype  \n",
      "---  ------         --------------  -----  \n",
      " 0   NAME_AREA      111 non-null    object \n",
      " 1   ROAD           111 non-null    object \n",
      " 2   CODE_DISTRICT  111 non-null    int64  \n",
      " 3   DISTRICT       111 non-null    object \n",
      " 4   LATITUDE       111 non-null    float64\n",
      " 5   LONGITUDE      111 non-null    float64\n",
      "dtypes: float64(2), int64(1), object(3)\n",
      "memory usage: 5.3+ KB\n"
     ]
    }
   ],
   "source": [
    "df_areaperros.info()"
   ]
  },
  {
   "cell_type": "code",
   "execution_count": 14,
   "metadata": {},
   "outputs": [],
   "source": [
    "df_areaperros.to_csv(\"../data/areaperros_cleaned.csv\", index=False)"
   ]
  }
 ],
 "metadata": {
  "kernelspec": {
   "display_name": "Python 3.9.5 64-bit ('core': conda)",
   "name": "python395jvsc74a57bd0f3286ea705001ec0bb3381152b489620b95b108b2c9769628ed9388c599911a5"
  },
  "language_info": {
   "codemirror_mode": {
    "name": "ipython",
    "version": 3
   },
   "file_extension": ".py",
   "mimetype": "text/x-python",
   "name": "python",
   "nbconvert_exporter": "python",
   "pygments_lexer": "ipython3",
   "version": "3.9.5"
  },
  "orig_nbformat": 3
 },
 "nbformat": 4,
 "nbformat_minor": 2
}