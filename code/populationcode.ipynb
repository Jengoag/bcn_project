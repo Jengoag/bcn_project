{
 "cells": [
  {
   "cell_type": "code",
   "execution_count": 1,
   "metadata": {},
   "outputs": [
    {
     "name": "stdout",
     "output_type": "stream",
     "text": [
      "       Year  District.Code District.Name  Neighborhood.Code  \\\n",
      "0      2017              1  Ciutat Vella                  1   \n",
      "1      2017              1  Ciutat Vella                  2   \n",
      "2      2017              1  Ciutat Vella                  3   \n",
      "3      2017              1  Ciutat Vella                  4   \n",
      "4      2017              2      Eixample                  5   \n",
      "...     ...            ...           ...                ...   \n",
      "70075  2013             10    Sant Martí                 69   \n",
      "70076  2013             10    Sant Martí                 70   \n",
      "70077  2013             10    Sant Martí                 71   \n",
      "70078  2013             10    Sant Martí                 72   \n",
      "70079  2013             10    Sant Martí                 73   \n",
      "\n",
      "                                  Neighborhood.Name  Gender   Age  Number  \n",
      "0                                          el Raval    Male   0-4     224  \n",
      "1                                    el Barri Gòtic    Male   0-4      50  \n",
      "2                                    la Barceloneta    Male   0-4      43  \n",
      "3             Sant Pere, Santa Caterina i la Ribera    Male   0-4      95  \n",
      "4                                     el Fort Pienc    Male   0-4     124  \n",
      "...                                             ...     ...   ...     ...  \n",
      "70075  Diagonal Mar i el Front Marítim del Poblenou  Female  >=95      21  \n",
      "70076                         el Besòs i el Maresme  Female  >=95      25  \n",
      "70077                       Provençals del Poblenou  Female  >=95      31  \n",
      "70078                      Sant Martí de Provençals  Female  >=95      38  \n",
      "70079                           la Verneda i la Pau  Female  >=95      47  \n",
      "\n",
      "[70080 rows x 8 columns]\n"
     ]
    }
   ],
   "source": [
    "import pandas as pd\n",
    "\n",
    "df_population = pd.read_csv(\"../data/population.csv\")\n",
    "\n",
    "print(df_population)"
   ]
  },
  {
   "cell_type": "code",
   "execution_count": 2,
   "metadata": {},
   "outputs": [
    {
     "name": "stdout",
     "output_type": "stream",
     "text": [
      "<class 'pandas.core.frame.DataFrame'>\n",
      "RangeIndex: 70080 entries, 0 to 70079\n",
      "Data columns (total 8 columns):\n",
      " #   Column             Non-Null Count  Dtype \n",
      "---  ------             --------------  ----- \n",
      " 0   Year               70080 non-null  int64 \n",
      " 1   District.Code      70080 non-null  int64 \n",
      " 2   District.Name      70080 non-null  object\n",
      " 3   Neighborhood.Code  70080 non-null  int64 \n",
      " 4   Neighborhood.Name  70080 non-null  object\n",
      " 5   Gender             70080 non-null  object\n",
      " 6   Age                70080 non-null  object\n",
      " 7   Number             70080 non-null  int64 \n",
      "dtypes: int64(4), object(4)\n",
      "memory usage: 4.3+ MB\n"
     ]
    }
   ],
   "source": [
    "df_population.info()"
   ]
  },
  {
   "cell_type": "code",
   "execution_count": 3,
   "metadata": {},
   "outputs": [
    {
     "data": {
      "text/plain": "Year                 0\nDistrict.Code        0\nDistrict.Name        0\nNeighborhood.Code    0\nNeighborhood.Name    0\nGender               0\nAge                  0\nNumber               0\ndtype: int64"
     },
     "execution_count": 3,
     "metadata": {},
     "output_type": "execute_result"
    }
   ],
   "source": [
    "df_population.isna().sum()"
   ]
  },
  {
   "cell_type": "code",
   "execution_count": 4,
   "metadata": {},
   "outputs": [
    {
     "data": {
      "text/html": "<div>\n<style scoped>\n    .dataframe tbody tr th:only-of-type {\n        vertical-align: middle;\n    }\n\n    .dataframe tbody tr th {\n        vertical-align: top;\n    }\n\n    .dataframe thead th {\n        text-align: right;\n    }\n</style>\n<table border=\"1\" class=\"dataframe\">\n  <thead>\n    <tr style=\"text-align: right;\">\n      <th></th>\n      <th>Year</th>\n      <th>District.Code</th>\n      <th>District.Name</th>\n      <th>Age</th>\n      <th>Number</th>\n    </tr>\n  </thead>\n  <tbody>\n    <tr>\n      <th>0</th>\n      <td>2017</td>\n      <td>1</td>\n      <td>Ciutat Vella</td>\n      <td>0-4</td>\n      <td>224</td>\n    </tr>\n    <tr>\n      <th>1</th>\n      <td>2017</td>\n      <td>1</td>\n      <td>Ciutat Vella</td>\n      <td>0-4</td>\n      <td>50</td>\n    </tr>\n    <tr>\n      <th>2</th>\n      <td>2017</td>\n      <td>1</td>\n      <td>Ciutat Vella</td>\n      <td>0-4</td>\n      <td>43</td>\n    </tr>\n    <tr>\n      <th>3</th>\n      <td>2017</td>\n      <td>1</td>\n      <td>Ciutat Vella</td>\n      <td>0-4</td>\n      <td>95</td>\n    </tr>\n    <tr>\n      <th>4</th>\n      <td>2017</td>\n      <td>2</td>\n      <td>Eixample</td>\n      <td>0-4</td>\n      <td>124</td>\n    </tr>\n    <tr>\n      <th>...</th>\n      <td>...</td>\n      <td>...</td>\n      <td>...</td>\n      <td>...</td>\n      <td>...</td>\n    </tr>\n    <tr>\n      <th>70075</th>\n      <td>2013</td>\n      <td>10</td>\n      <td>Sant Martí</td>\n      <td>&gt;=95</td>\n      <td>21</td>\n    </tr>\n    <tr>\n      <th>70076</th>\n      <td>2013</td>\n      <td>10</td>\n      <td>Sant Martí</td>\n      <td>&gt;=95</td>\n      <td>25</td>\n    </tr>\n    <tr>\n      <th>70077</th>\n      <td>2013</td>\n      <td>10</td>\n      <td>Sant Martí</td>\n      <td>&gt;=95</td>\n      <td>31</td>\n    </tr>\n    <tr>\n      <th>70078</th>\n      <td>2013</td>\n      <td>10</td>\n      <td>Sant Martí</td>\n      <td>&gt;=95</td>\n      <td>38</td>\n    </tr>\n    <tr>\n      <th>70079</th>\n      <td>2013</td>\n      <td>10</td>\n      <td>Sant Martí</td>\n      <td>&gt;=95</td>\n      <td>47</td>\n    </tr>\n  </tbody>\n</table>\n<p>70080 rows × 5 columns</p>\n</div>",
      "text/plain": "       Year  District.Code District.Name   Age  Number\n0      2017              1  Ciutat Vella   0-4     224\n1      2017              1  Ciutat Vella   0-4      50\n2      2017              1  Ciutat Vella   0-4      43\n3      2017              1  Ciutat Vella   0-4      95\n4      2017              2      Eixample   0-4     124\n...     ...            ...           ...   ...     ...\n70075  2013             10    Sant Martí  >=95      21\n70076  2013             10    Sant Martí  >=95      25\n70077  2013             10    Sant Martí  >=95      31\n70078  2013             10    Sant Martí  >=95      38\n70079  2013             10    Sant Martí  >=95      47\n\n[70080 rows x 5 columns]"
     },
     "execution_count": 4,
     "metadata": {},
     "output_type": "execute_result"
    }
   ],
   "source": [
    "df_population= df_population.drop(columns = ['Neighborhood.Code', 'Neighborhood.Name','Gender'])\n",
    "df_population"
   ]
  },
  {
   "cell_type": "code",
   "execution_count": 5,
   "metadata": {},
   "outputs": [
    {
     "data": {
      "text/html": "<div>\n<style scoped>\n    .dataframe tbody tr th:only-of-type {\n        vertical-align: middle;\n    }\n\n    .dataframe tbody tr th {\n        vertical-align: top;\n    }\n\n    .dataframe thead th {\n        text-align: right;\n    }\n</style>\n<table border=\"1\" class=\"dataframe\">\n  <thead>\n    <tr style=\"text-align: right;\">\n      <th></th>\n      <th>YEAR</th>\n      <th>CODE_DISTRICT</th>\n      <th>DISTRICT</th>\n      <th>AGE</th>\n      <th>POPULATION</th>\n    </tr>\n  </thead>\n  <tbody>\n    <tr>\n      <th>0</th>\n      <td>2017</td>\n      <td>1</td>\n      <td>Ciutat Vella</td>\n      <td>0-4</td>\n      <td>224</td>\n    </tr>\n    <tr>\n      <th>1</th>\n      <td>2017</td>\n      <td>1</td>\n      <td>Ciutat Vella</td>\n      <td>0-4</td>\n      <td>50</td>\n    </tr>\n    <tr>\n      <th>2</th>\n      <td>2017</td>\n      <td>1</td>\n      <td>Ciutat Vella</td>\n      <td>0-4</td>\n      <td>43</td>\n    </tr>\n    <tr>\n      <th>3</th>\n      <td>2017</td>\n      <td>1</td>\n      <td>Ciutat Vella</td>\n      <td>0-4</td>\n      <td>95</td>\n    </tr>\n    <tr>\n      <th>4</th>\n      <td>2017</td>\n      <td>2</td>\n      <td>Eixample</td>\n      <td>0-4</td>\n      <td>124</td>\n    </tr>\n    <tr>\n      <th>...</th>\n      <td>...</td>\n      <td>...</td>\n      <td>...</td>\n      <td>...</td>\n      <td>...</td>\n    </tr>\n    <tr>\n      <th>70075</th>\n      <td>2013</td>\n      <td>10</td>\n      <td>Sant Martí</td>\n      <td>&gt;=95</td>\n      <td>21</td>\n    </tr>\n    <tr>\n      <th>70076</th>\n      <td>2013</td>\n      <td>10</td>\n      <td>Sant Martí</td>\n      <td>&gt;=95</td>\n      <td>25</td>\n    </tr>\n    <tr>\n      <th>70077</th>\n      <td>2013</td>\n      <td>10</td>\n      <td>Sant Martí</td>\n      <td>&gt;=95</td>\n      <td>31</td>\n    </tr>\n    <tr>\n      <th>70078</th>\n      <td>2013</td>\n      <td>10</td>\n      <td>Sant Martí</td>\n      <td>&gt;=95</td>\n      <td>38</td>\n    </tr>\n    <tr>\n      <th>70079</th>\n      <td>2013</td>\n      <td>10</td>\n      <td>Sant Martí</td>\n      <td>&gt;=95</td>\n      <td>47</td>\n    </tr>\n  </tbody>\n</table>\n<p>70080 rows × 5 columns</p>\n</div>",
      "text/plain": "       YEAR  CODE_DISTRICT      DISTRICT   AGE  POPULATION\n0      2017              1  Ciutat Vella   0-4         224\n1      2017              1  Ciutat Vella   0-4          50\n2      2017              1  Ciutat Vella   0-4          43\n3      2017              1  Ciutat Vella   0-4          95\n4      2017              2      Eixample   0-4         124\n...     ...            ...           ...   ...         ...\n70075  2013             10    Sant Martí  >=95          21\n70076  2013             10    Sant Martí  >=95          25\n70077  2013             10    Sant Martí  >=95          31\n70078  2013             10    Sant Martí  >=95          38\n70079  2013             10    Sant Martí  >=95          47\n\n[70080 rows x 5 columns]"
     },
     "execution_count": 5,
     "metadata": {},
     "output_type": "execute_result"
    }
   ],
   "source": [
    "df_population = df_population.rename(columns={\"Year\":\"YEAR\", \"District.Code\":\"CODE_DISTRICT\", \"District.Name\":\"DISTRICT\", \"Age\":\"AGE\", \"Number\":\"POPULATION\"})\n",
    "df_population"
   ]
  },
  {
   "cell_type": "code",
   "execution_count": 6,
   "metadata": {},
   "outputs": [
    {
     "data": {
      "text/html": "<div>\n<style scoped>\n    .dataframe tbody tr th:only-of-type {\n        vertical-align: middle;\n    }\n\n    .dataframe tbody tr th {\n        vertical-align: top;\n    }\n\n    .dataframe thead th {\n        text-align: right;\n    }\n</style>\n<table border=\"1\" class=\"dataframe\">\n  <thead>\n    <tr style=\"text-align: right;\">\n      <th></th>\n      <th>YEAR</th>\n      <th>CODE_DISTRICT</th>\n      <th>DISTRICT</th>\n      <th>AGE</th>\n      <th>POPULATION</th>\n    </tr>\n  </thead>\n  <tbody>\n    <tr>\n      <th>0</th>\n      <td>2017</td>\n      <td>1</td>\n      <td>Ciutat Vella</td>\n      <td>0-4</td>\n      <td>224</td>\n    </tr>\n    <tr>\n      <th>1</th>\n      <td>2017</td>\n      <td>1</td>\n      <td>Ciutat Vella</td>\n      <td>0-4</td>\n      <td>50</td>\n    </tr>\n    <tr>\n      <th>2</th>\n      <td>2017</td>\n      <td>1</td>\n      <td>Ciutat Vella</td>\n      <td>0-4</td>\n      <td>43</td>\n    </tr>\n    <tr>\n      <th>3</th>\n      <td>2017</td>\n      <td>1</td>\n      <td>Ciutat Vella</td>\n      <td>0-4</td>\n      <td>95</td>\n    </tr>\n    <tr>\n      <th>4</th>\n      <td>2017</td>\n      <td>2</td>\n      <td>Eixample</td>\n      <td>0-4</td>\n      <td>124</td>\n    </tr>\n    <tr>\n      <th>...</th>\n      <td>...</td>\n      <td>...</td>\n      <td>...</td>\n      <td>...</td>\n      <td>...</td>\n    </tr>\n    <tr>\n      <th>14011</th>\n      <td>2017</td>\n      <td>10</td>\n      <td>Sant Martí</td>\n      <td>&gt;=95</td>\n      <td>11</td>\n    </tr>\n    <tr>\n      <th>14012</th>\n      <td>2017</td>\n      <td>10</td>\n      <td>Sant Martí</td>\n      <td>&gt;=95</td>\n      <td>41</td>\n    </tr>\n    <tr>\n      <th>14013</th>\n      <td>2017</td>\n      <td>10</td>\n      <td>Sant Martí</td>\n      <td>&gt;=95</td>\n      <td>28</td>\n    </tr>\n    <tr>\n      <th>14014</th>\n      <td>2017</td>\n      <td>10</td>\n      <td>Sant Martí</td>\n      <td>&gt;=95</td>\n      <td>57</td>\n    </tr>\n    <tr>\n      <th>14015</th>\n      <td>2017</td>\n      <td>10</td>\n      <td>Sant Martí</td>\n      <td>&gt;=95</td>\n      <td>54</td>\n    </tr>\n  </tbody>\n</table>\n<p>14016 rows × 5 columns</p>\n</div>",
      "text/plain": "       YEAR  CODE_DISTRICT      DISTRICT   AGE  POPULATION\n0      2017              1  Ciutat Vella   0-4         224\n1      2017              1  Ciutat Vella   0-4          50\n2      2017              1  Ciutat Vella   0-4          43\n3      2017              1  Ciutat Vella   0-4          95\n4      2017              2      Eixample   0-4         124\n...     ...            ...           ...   ...         ...\n14011  2017             10    Sant Martí  >=95          11\n14012  2017             10    Sant Martí  >=95          41\n14013  2017             10    Sant Martí  >=95          28\n14014  2017             10    Sant Martí  >=95          57\n14015  2017             10    Sant Martí  >=95          54\n\n[14016 rows x 5 columns]"
     },
     "execution_count": 6,
     "metadata": {},
     "output_type": "execute_result"
    }
   ],
   "source": [
    "indexNames = df_population[ df_population['YEAR'] != 2017 ].index\n",
    "df_population = df_population.drop(indexNames)\n",
    "df_population"
   ]
  },
  {
   "cell_type": "code",
   "execution_count": 7,
   "metadata": {},
   "outputs": [
    {
     "data": {
      "text/html": "<div>\n<style scoped>\n    .dataframe tbody tr th:only-of-type {\n        vertical-align: middle;\n    }\n\n    .dataframe tbody tr th {\n        vertical-align: top;\n    }\n\n    .dataframe thead th {\n        text-align: right;\n    }\n</style>\n<table border=\"1\" class=\"dataframe\">\n  <thead>\n    <tr style=\"text-align: right;\">\n      <th></th>\n      <th>YEAR</th>\n      <th>CODE_DISTRICT</th>\n      <th>DISTRICT</th>\n      <th>AGE</th>\n      <th>POPULATION</th>\n    </tr>\n  </thead>\n  <tbody>\n    <tr>\n      <th>0</th>\n      <td>2017</td>\n      <td>1</td>\n      <td>Ciutat Vella</td>\n      <td>0-4</td>\n      <td>224</td>\n    </tr>\n    <tr>\n      <th>1</th>\n      <td>2017</td>\n      <td>1</td>\n      <td>Ciutat Vella</td>\n      <td>0-4</td>\n      <td>50</td>\n    </tr>\n    <tr>\n      <th>2</th>\n      <td>2017</td>\n      <td>1</td>\n      <td>Ciutat Vella</td>\n      <td>0-4</td>\n      <td>43</td>\n    </tr>\n    <tr>\n      <th>3</th>\n      <td>2017</td>\n      <td>1</td>\n      <td>Ciutat Vella</td>\n      <td>0-4</td>\n      <td>95</td>\n    </tr>\n    <tr>\n      <th>4</th>\n      <td>2017</td>\n      <td>2</td>\n      <td>Eixample</td>\n      <td>0-4</td>\n      <td>124</td>\n    </tr>\n    <tr>\n      <th>...</th>\n      <td>...</td>\n      <td>...</td>\n      <td>...</td>\n      <td>...</td>\n      <td>...</td>\n    </tr>\n    <tr>\n      <th>8098</th>\n      <td>2017</td>\n      <td>10</td>\n      <td>Sant Martí</td>\n      <td>10-14</td>\n      <td>58</td>\n    </tr>\n    <tr>\n      <th>8099</th>\n      <td>2017</td>\n      <td>10</td>\n      <td>Sant Martí</td>\n      <td>10-14</td>\n      <td>88</td>\n    </tr>\n    <tr>\n      <th>8100</th>\n      <td>2017</td>\n      <td>10</td>\n      <td>Sant Martí</td>\n      <td>10-14</td>\n      <td>71</td>\n    </tr>\n    <tr>\n      <th>8101</th>\n      <td>2017</td>\n      <td>10</td>\n      <td>Sant Martí</td>\n      <td>10-14</td>\n      <td>115</td>\n    </tr>\n    <tr>\n      <th>8102</th>\n      <td>2017</td>\n      <td>10</td>\n      <td>Sant Martí</td>\n      <td>10-14</td>\n      <td>109</td>\n    </tr>\n  </tbody>\n</table>\n<p>2190 rows × 5 columns</p>\n</div>",
      "text/plain": "      YEAR  CODE_DISTRICT      DISTRICT    AGE  POPULATION\n0     2017              1  Ciutat Vella    0-4         224\n1     2017              1  Ciutat Vella    0-4          50\n2     2017              1  Ciutat Vella    0-4          43\n3     2017              1  Ciutat Vella    0-4          95\n4     2017              2      Eixample    0-4         124\n...    ...            ...           ...    ...         ...\n8098  2017             10    Sant Martí  10-14          58\n8099  2017             10    Sant Martí  10-14          88\n8100  2017             10    Sant Martí  10-14          71\n8101  2017             10    Sant Martí  10-14         115\n8102  2017             10    Sant Martí  10-14         109\n\n[2190 rows x 5 columns]"
     },
     "execution_count": 7,
     "metadata": {},
     "output_type": "execute_result"
    }
   ],
   "source": [
    "indexages = df_population[ (df_population.AGE != '0-4') & (df_population.AGE != '5-9') & (df_population.AGE != '10-14')].index\n",
    "df_population = df_population.drop(indexages)\n",
    "df_population"
   ]
  },
  {
   "cell_type": "code",
   "execution_count": 8,
   "metadata": {},
   "outputs": [
    {
     "data": {
      "text/html": "<div>\n<style scoped>\n    .dataframe tbody tr th:only-of-type {\n        vertical-align: middle;\n    }\n\n    .dataframe tbody tr th {\n        vertical-align: top;\n    }\n\n    .dataframe thead th {\n        text-align: right;\n    }\n</style>\n<table border=\"1\" class=\"dataframe\">\n  <thead>\n    <tr style=\"text-align: right;\">\n      <th></th>\n      <th>CODE_DISTRICT</th>\n      <th>DISTRICT</th>\n      <th>POPULATION</th>\n    </tr>\n  </thead>\n  <tbody>\n    <tr>\n      <th>0</th>\n      <td>1</td>\n      <td>Ciutat Vella</td>\n      <td>10989</td>\n    </tr>\n    <tr>\n      <th>1</th>\n      <td>2</td>\n      <td>Eixample</td>\n      <td>29234</td>\n    </tr>\n    <tr>\n      <th>2</th>\n      <td>3</td>\n      <td>Sants-Montjuïc</td>\n      <td>21421</td>\n    </tr>\n    <tr>\n      <th>3</th>\n      <td>4</td>\n      <td>Les Corts</td>\n      <td>10352</td>\n    </tr>\n    <tr>\n      <th>4</th>\n      <td>5</td>\n      <td>Sarrià-Sant Gervasi</td>\n      <td>23743</td>\n    </tr>\n    <tr>\n      <th>5</th>\n      <td>6</td>\n      <td>Gràcia</td>\n      <td>14693</td>\n    </tr>\n    <tr>\n      <th>6</th>\n      <td>7</td>\n      <td>Horta-Guinardó</td>\n      <td>20872</td>\n    </tr>\n    <tr>\n      <th>7</th>\n      <td>8</td>\n      <td>Nou Barris</td>\n      <td>22105</td>\n    </tr>\n    <tr>\n      <th>8</th>\n      <td>9</td>\n      <td>Sant Andreu</td>\n      <td>19929</td>\n    </tr>\n    <tr>\n      <th>9</th>\n      <td>10</td>\n      <td>Sant Martí</td>\n      <td>31948</td>\n    </tr>\n  </tbody>\n</table>\n</div>",
      "text/plain": "   CODE_DISTRICT             DISTRICT  POPULATION\n0              1         Ciutat Vella       10989\n1              2             Eixample       29234\n2              3       Sants-Montjuïc       21421\n3              4            Les Corts       10352\n4              5  Sarrià-Sant Gervasi       23743\n5              6               Gràcia       14693\n6              7       Horta-Guinardó       20872\n7              8           Nou Barris       22105\n8              9          Sant Andreu       19929\n9             10           Sant Martí       31948"
     },
     "execution_count": 8,
     "metadata": {},
     "output_type": "execute_result"
    }
   ],
   "source": [
    "df_population = df_population.groupby(['CODE_DISTRICT', 'DISTRICT'])['POPULATION'].apply(lambda x: x.sum()).reset_index()\n",
    "df_population\n"
   ]
  },
  {
   "cell_type": "code",
   "execution_count": 9,
   "metadata": {},
   "outputs": [
    {
     "name": "stdout",
     "output_type": "stream",
     "text": [
      "   CODE_DISTRICT             DISTRICT  POPULATION\n",
      "0              1         Ciutat Vella       10989\n",
      "1              2             Eixample       29234\n",
      "2              3       Sants-Montjuïc       21421\n",
      "3              4            Les Corts       10352\n",
      "4              5  Sarrià-Sant Gervasi       23743\n",
      "5              6               Gràcia       14693\n",
      "6              7       Horta-Guinardó       20872\n",
      "7              8           Nou Barris       22105\n",
      "8              9          Sant Andreu       19929\n",
      "9             10           Sant Martí       31948\n"
     ]
    }
   ],
   "source": [
    "print(df_population)"
   ]
  },
  {
   "cell_type": "code",
   "execution_count": 10,
   "metadata": {},
   "outputs": [],
   "source": [
    "df_population.to_csv(\"../data/population_cleaned.csv\", index=False)"
   ]
  }
 ],
 "metadata": {
  "kernelspec": {
   "display_name": "Python 3.9.5 64-bit ('core': conda)",
   "name": "python395jvsc74a57bd0f3286ea705001ec0bb3381152b489620b95b108b2c9769628ed9388c599911a5"
  },
  "language_info": {
   "codemirror_mode": {
    "name": "ipython",
    "version": 3
   },
   "file_extension": ".py",
   "mimetype": "text/x-python",
   "name": "python",
   "nbconvert_exporter": "python",
   "pygments_lexer": "ipython3",
   "version": "3.9.5"
  },
  "orig_nbformat": 3
 },
 "nbformat": 4,
 "nbformat_minor": 2
}