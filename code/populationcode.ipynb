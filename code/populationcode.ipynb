{
 "cells": [
  {
   "cell_type": "code",
   "execution_count": 9,
   "metadata": {},
   "outputs": [
    {
     "name": "stdout",
     "output_type": "stream",
     "text": [
      "       Year  District.Code District.Name  Neighborhood.Code  \\\n",
      "0      2017              1  Ciutat Vella                  1   \n",
      "1      2017              1  Ciutat Vella                  2   \n",
      "2      2017              1  Ciutat Vella                  3   \n",
      "3      2017              1  Ciutat Vella                  4   \n",
      "4      2017              2      Eixample                  5   \n",
      "...     ...            ...           ...                ...   \n",
      "70075  2013             10    Sant Martí                 69   \n",
      "70076  2013             10    Sant Martí                 70   \n",
      "70077  2013             10    Sant Martí                 71   \n",
      "70078  2013             10    Sant Martí                 72   \n",
      "70079  2013             10    Sant Martí                 73   \n",
      "\n",
      "                                  Neighborhood.Name  Gender   Age  Number  \n",
      "0                                          el Raval    Male   0-4     224  \n",
      "1                                    el Barri Gòtic    Male   0-4      50  \n",
      "2                                    la Barceloneta    Male   0-4      43  \n",
      "3             Sant Pere, Santa Caterina i la Ribera    Male   0-4      95  \n",
      "4                                     el Fort Pienc    Male   0-4     124  \n",
      "...                                             ...     ...   ...     ...  \n",
      "70075  Diagonal Mar i el Front Marítim del Poblenou  Female  >=95      21  \n",
      "70076                         el Besòs i el Maresme  Female  >=95      25  \n",
      "70077                       Provençals del Poblenou  Female  >=95      31  \n",
      "70078                      Sant Martí de Provençals  Female  >=95      38  \n",
      "70079                           la Verneda i la Pau  Female  >=95      47  \n",
      "\n",
      "[70080 rows x 8 columns]\n"
     ]
    }
   ],
   "source": [
    "import pandas as pd\n",
    "\n",
    "df_population = pd.read_csv(\"../data/population.csv\")\n",
    "\n",
    "print(df_population)"
   ]
  },
  {
   "cell_type": "code",
   "execution_count": 10,
   "metadata": {},
   "outputs": [
    {
     "name": "stdout",
     "output_type": "stream",
     "text": [
      "<class 'pandas.core.frame.DataFrame'>\n",
      "RangeIndex: 70080 entries, 0 to 70079\n",
      "Data columns (total 8 columns):\n",
      " #   Column             Non-Null Count  Dtype \n",
      "---  ------             --------------  ----- \n",
      " 0   Year               70080 non-null  int64 \n",
      " 1   District.Code      70080 non-null  int64 \n",
      " 2   District.Name      70080 non-null  object\n",
      " 3   Neighborhood.Code  70080 non-null  int64 \n",
      " 4   Neighborhood.Name  70080 non-null  object\n",
      " 5   Gender             70080 non-null  object\n",
      " 6   Age                70080 non-null  object\n",
      " 7   Number             70080 non-null  int64 \n",
      "dtypes: int64(4), object(4)\n",
      "memory usage: 4.3+ MB\n"
     ]
    }
   ],
   "source": [
    "df_population.info()"
   ]
  },
  {
   "cell_type": "code",
   "execution_count": 11,
   "metadata": {},
   "outputs": [
    {
     "data": {
      "text/plain": "Year                 0\nDistrict.Code        0\nDistrict.Name        0\nNeighborhood.Code    0\nNeighborhood.Name    0\nGender               0\nAge                  0\nNumber               0\ndtype: int64"
     },
     "execution_count": 11,
     "metadata": {},
     "output_type": "execute_result"
    }
   ],
   "source": [
    "df_population.isna().sum()"
   ]
  },
  {
   "cell_type": "code",
   "execution_count": 12,
   "metadata": {},
   "outputs": [
    {
     "data": {
      "text/html": "<div>\n<style scoped>\n    .dataframe tbody tr th:only-of-type {\n        vertical-align: middle;\n    }\n\n    .dataframe tbody tr th {\n        vertical-align: top;\n    }\n\n    .dataframe thead th {\n        text-align: right;\n    }\n</style>\n<table border=\"1\" class=\"dataframe\">\n  <thead>\n    <tr style=\"text-align: right;\">\n      <th></th>\n      <th>Year</th>\n      <th>District.Code</th>\n      <th>District.Name</th>\n      <th>Age</th>\n      <th>Number</th>\n    </tr>\n  </thead>\n  <tbody>\n    <tr>\n      <th>0</th>\n      <td>2017</td>\n      <td>1</td>\n      <td>Ciutat Vella</td>\n      <td>0-4</td>\n      <td>224</td>\n    </tr>\n    <tr>\n      <th>1</th>\n      <td>2017</td>\n      <td>1</td>\n      <td>Ciutat Vella</td>\n      <td>0-4</td>\n      <td>50</td>\n    </tr>\n    <tr>\n      <th>2</th>\n      <td>2017</td>\n      <td>1</td>\n      <td>Ciutat Vella</td>\n      <td>0-4</td>\n      <td>43</td>\n    </tr>\n    <tr>\n      <th>3</th>\n      <td>2017</td>\n      <td>1</td>\n      <td>Ciutat Vella</td>\n      <td>0-4</td>\n      <td>95</td>\n    </tr>\n    <tr>\n      <th>4</th>\n      <td>2017</td>\n      <td>2</td>\n      <td>Eixample</td>\n      <td>0-4</td>\n      <td>124</td>\n    </tr>\n    <tr>\n      <th>...</th>\n      <td>...</td>\n      <td>...</td>\n      <td>...</td>\n      <td>...</td>\n      <td>...</td>\n    </tr>\n    <tr>\n      <th>70075</th>\n      <td>2013</td>\n      <td>10</td>\n      <td>Sant Martí</td>\n      <td>&gt;=95</td>\n      <td>21</td>\n    </tr>\n    <tr>\n      <th>70076</th>\n      <td>2013</td>\n      <td>10</td>\n      <td>Sant Martí</td>\n      <td>&gt;=95</td>\n      <td>25</td>\n    </tr>\n    <tr>\n      <th>70077</th>\n      <td>2013</td>\n      <td>10</td>\n      <td>Sant Martí</td>\n      <td>&gt;=95</td>\n      <td>31</td>\n    </tr>\n    <tr>\n      <th>70078</th>\n      <td>2013</td>\n      <td>10</td>\n      <td>Sant Martí</td>\n      <td>&gt;=95</td>\n      <td>38</td>\n    </tr>\n    <tr>\n      <th>70079</th>\n      <td>2013</td>\n      <td>10</td>\n      <td>Sant Martí</td>\n      <td>&gt;=95</td>\n      <td>47</td>\n    </tr>\n  </tbody>\n</table>\n<p>70080 rows × 5 columns</p>\n</div>",
      "text/plain": "       Year  District.Code District.Name   Age  Number\n0      2017              1  Ciutat Vella   0-4     224\n1      2017              1  Ciutat Vella   0-4      50\n2      2017              1  Ciutat Vella   0-4      43\n3      2017              1  Ciutat Vella   0-4      95\n4      2017              2      Eixample   0-4     124\n...     ...            ...           ...   ...     ...\n70075  2013             10    Sant Martí  >=95      21\n70076  2013             10    Sant Martí  >=95      25\n70077  2013             10    Sant Martí  >=95      31\n70078  2013             10    Sant Martí  >=95      38\n70079  2013             10    Sant Martí  >=95      47\n\n[70080 rows x 5 columns]"
     },
     "execution_count": 12,
     "metadata": {},
     "output_type": "execute_result"
    }
   ],
   "source": [
    "df_population= df_population.drop(columns = ['Neighborhood.Code', 'Neighborhood.Name','Gender'])\n",
    "df_population"
   ]
  },
  {
   "cell_type": "code",
   "execution_count": 13,
   "metadata": {},
   "outputs": [
    {
     "data": {
      "text/html": "<div>\n<style scoped>\n    .dataframe tbody tr th:only-of-type {\n        vertical-align: middle;\n    }\n\n    .dataframe tbody tr th {\n        vertical-align: top;\n    }\n\n    .dataframe thead th {\n        text-align: right;\n    }\n</style>\n<table border=\"1\" class=\"dataframe\">\n  <thead>\n    <tr style=\"text-align: right;\">\n      <th></th>\n      <th>YEAR</th>\n      <th>CODE_DISTRICT</th>\n      <th>DISTRICT</th>\n      <th>AGE</th>\n      <th>TOTAL</th>\n    </tr>\n  </thead>\n  <tbody>\n    <tr>\n      <th>0</th>\n      <td>2017</td>\n      <td>1</td>\n      <td>Ciutat Vella</td>\n      <td>0-4</td>\n      <td>224</td>\n    </tr>\n    <tr>\n      <th>1</th>\n      <td>2017</td>\n      <td>1</td>\n      <td>Ciutat Vella</td>\n      <td>0-4</td>\n      <td>50</td>\n    </tr>\n    <tr>\n      <th>2</th>\n      <td>2017</td>\n      <td>1</td>\n      <td>Ciutat Vella</td>\n      <td>0-4</td>\n      <td>43</td>\n    </tr>\n    <tr>\n      <th>3</th>\n      <td>2017</td>\n      <td>1</td>\n      <td>Ciutat Vella</td>\n      <td>0-4</td>\n      <td>95</td>\n    </tr>\n    <tr>\n      <th>4</th>\n      <td>2017</td>\n      <td>2</td>\n      <td>Eixample</td>\n      <td>0-4</td>\n      <td>124</td>\n    </tr>\n    <tr>\n      <th>...</th>\n      <td>...</td>\n      <td>...</td>\n      <td>...</td>\n      <td>...</td>\n      <td>...</td>\n    </tr>\n    <tr>\n      <th>70075</th>\n      <td>2013</td>\n      <td>10</td>\n      <td>Sant Martí</td>\n      <td>&gt;=95</td>\n      <td>21</td>\n    </tr>\n    <tr>\n      <th>70076</th>\n      <td>2013</td>\n      <td>10</td>\n      <td>Sant Martí</td>\n      <td>&gt;=95</td>\n      <td>25</td>\n    </tr>\n    <tr>\n      <th>70077</th>\n      <td>2013</td>\n      <td>10</td>\n      <td>Sant Martí</td>\n      <td>&gt;=95</td>\n      <td>31</td>\n    </tr>\n    <tr>\n      <th>70078</th>\n      <td>2013</td>\n      <td>10</td>\n      <td>Sant Martí</td>\n      <td>&gt;=95</td>\n      <td>38</td>\n    </tr>\n    <tr>\n      <th>70079</th>\n      <td>2013</td>\n      <td>10</td>\n      <td>Sant Martí</td>\n      <td>&gt;=95</td>\n      <td>47</td>\n    </tr>\n  </tbody>\n</table>\n<p>70080 rows × 5 columns</p>\n</div>",
      "text/plain": "       YEAR  CODE_DISTRICT      DISTRICT   AGE  TOTAL\n0      2017              1  Ciutat Vella   0-4    224\n1      2017              1  Ciutat Vella   0-4     50\n2      2017              1  Ciutat Vella   0-4     43\n3      2017              1  Ciutat Vella   0-4     95\n4      2017              2      Eixample   0-4    124\n...     ...            ...           ...   ...    ...\n70075  2013             10    Sant Martí  >=95     21\n70076  2013             10    Sant Martí  >=95     25\n70077  2013             10    Sant Martí  >=95     31\n70078  2013             10    Sant Martí  >=95     38\n70079  2013             10    Sant Martí  >=95     47\n\n[70080 rows x 5 columns]"
     },
     "execution_count": 13,
     "metadata": {},
     "output_type": "execute_result"
    }
   ],
   "source": [
    "df_population = df_population.rename(columns={\"Year\":\"YEAR\", \"District.Code\":\"CODE_DISTRICT\", \"District.Name\":\"DISTRICT\", \"Age\":\"AGE\", \"Number\":\"TOTAL\"})\n",
    "df_population"
   ]
  },
  {
   "cell_type": "code",
   "execution_count": 14,
   "metadata": {},
   "outputs": [],
   "source": [
    "#indexNames = df_population[ df_population['YEAR'] != 2017 ].index\n",
    "#df_population = df_population.drop(indexNames)\n",
    "#df_population"
   ]
  },
  {
   "cell_type": "code",
   "execution_count": 15,
   "metadata": {},
   "outputs": [],
   "source": [
    "#indexages = df_population[ (df_population.AGE != '0-4') & (df_population.AGE != '5-9') & (df_population.AGE != '10-14')].index\n",
    "#df_population = df_population.drop(indexages)\n",
    "#df_population"
   ]
  },
  {
   "cell_type": "code",
   "execution_count": 16,
   "metadata": {},
   "outputs": [],
   "source": [
    "df_population = df_population.replace({'5-9': '05-9'})"
   ]
  },
  {
   "cell_type": "code",
   "execution_count": 17,
   "metadata": {},
   "outputs": [
    {
     "data": {
      "text/html": "<div>\n<style scoped>\n    .dataframe tbody tr th:only-of-type {\n        vertical-align: middle;\n    }\n\n    .dataframe tbody tr th {\n        vertical-align: top;\n    }\n\n    .dataframe thead th {\n        text-align: right;\n    }\n</style>\n<table border=\"1\" class=\"dataframe\">\n  <thead>\n    <tr style=\"text-align: right;\">\n      <th></th>\n      <th>CODE_DISTRICT</th>\n      <th>DISTRICT</th>\n      <th>AGE</th>\n      <th>TOTAL</th>\n    </tr>\n  </thead>\n  <tbody>\n    <tr>\n      <th>0</th>\n      <td>1</td>\n      <td>Ciutat Vella</td>\n      <td>0-4</td>\n      <td>19940</td>\n    </tr>\n    <tr>\n      <th>1</th>\n      <td>1</td>\n      <td>Ciutat Vella</td>\n      <td>05-9</td>\n      <td>18362</td>\n    </tr>\n    <tr>\n      <th>2</th>\n      <td>1</td>\n      <td>Ciutat Vella</td>\n      <td>10-14</td>\n      <td>16114</td>\n    </tr>\n    <tr>\n      <th>3</th>\n      <td>1</td>\n      <td>Ciutat Vella</td>\n      <td>15-19</td>\n      <td>17185</td>\n    </tr>\n    <tr>\n      <th>4</th>\n      <td>1</td>\n      <td>Ciutat Vella</td>\n      <td>20-24</td>\n      <td>30606</td>\n    </tr>\n    <tr>\n      <th>...</th>\n      <td>...</td>\n      <td>...</td>\n      <td>...</td>\n      <td>...</td>\n    </tr>\n    <tr>\n      <th>195</th>\n      <td>10</td>\n      <td>Sant Martí</td>\n      <td>75-79</td>\n      <td>44297</td>\n    </tr>\n    <tr>\n      <th>196</th>\n      <td>10</td>\n      <td>Sant Martí</td>\n      <td>80-84</td>\n      <td>41676</td>\n    </tr>\n    <tr>\n      <th>197</th>\n      <td>10</td>\n      <td>Sant Martí</td>\n      <td>85-89</td>\n      <td>26094</td>\n    </tr>\n    <tr>\n      <th>198</th>\n      <td>10</td>\n      <td>Sant Martí</td>\n      <td>90-94</td>\n      <td>10269</td>\n    </tr>\n    <tr>\n      <th>199</th>\n      <td>10</td>\n      <td>Sant Martí</td>\n      <td>&gt;=95</td>\n      <td>2481</td>\n    </tr>\n  </tbody>\n</table>\n<p>200 rows × 4 columns</p>\n</div>",
      "text/plain": "     CODE_DISTRICT      DISTRICT    AGE  TOTAL\n0                1  Ciutat Vella    0-4  19940\n1                1  Ciutat Vella   05-9  18362\n2                1  Ciutat Vella  10-14  16114\n3                1  Ciutat Vella  15-19  17185\n4                1  Ciutat Vella  20-24  30606\n..             ...           ...    ...    ...\n195             10    Sant Martí  75-79  44297\n196             10    Sant Martí  80-84  41676\n197             10    Sant Martí  85-89  26094\n198             10    Sant Martí  90-94  10269\n199             10    Sant Martí   >=95   2481\n\n[200 rows x 4 columns]"
     },
     "execution_count": 17,
     "metadata": {},
     "output_type": "execute_result"
    }
   ],
   "source": [
    "df_population = df_population.groupby(['CODE_DISTRICT', 'DISTRICT', 'AGE'])['TOTAL'].apply(lambda x: x.sum()).reset_index()\n",
    "df_population\n"
   ]
  },
  {
   "cell_type": "code",
   "execution_count": 18,
   "metadata": {},
   "outputs": [
    {
     "name": "stdout",
     "output_type": "stream",
     "text": [
      "     CODE_DISTRICT      DISTRICT    AGE  TOTAL\n",
      "0                1  Ciutat Vella    0-4  19940\n",
      "1                1  Ciutat Vella   05-9  18362\n",
      "2                1  Ciutat Vella  10-14  16114\n",
      "3                1  Ciutat Vella  15-19  17185\n",
      "4                1  Ciutat Vella  20-24  30606\n",
      "..             ...           ...    ...    ...\n",
      "195             10    Sant Martí  75-79  44297\n",
      "196             10    Sant Martí  80-84  41676\n",
      "197             10    Sant Martí  85-89  26094\n",
      "198             10    Sant Martí  90-94  10269\n",
      "199             10    Sant Martí   >=95   2481\n",
      "\n",
      "[200 rows x 4 columns]\n"
     ]
    }
   ],
   "source": [
    "print(df_population)"
   ]
  },
  {
   "cell_type": "code",
   "execution_count": 19,
   "metadata": {},
   "outputs": [
    {
     "name": "stdout",
     "output_type": "stream",
     "text": [
      "<class 'pandas.core.frame.DataFrame'>\n",
      "RangeIndex: 200 entries, 0 to 199\n",
      "Data columns (total 4 columns):\n",
      " #   Column         Non-Null Count  Dtype \n",
      "---  ------         --------------  ----- \n",
      " 0   CODE_DISTRICT  200 non-null    int64 \n",
      " 1   DISTRICT       200 non-null    object\n",
      " 2   AGE            200 non-null    object\n",
      " 3   TOTAL          200 non-null    int64 \n",
      "dtypes: int64(2), object(2)\n",
      "memory usage: 6.4+ KB\n"
     ]
    }
   ],
   "source": [
    "df_population.info() "
   ]
  },
  {
   "cell_type": "code",
   "execution_count": 20,
   "metadata": {},
   "outputs": [],
   "source": [
    "df_population.to_csv(\"../data/population_cleaned.csv\", index=False)"
   ]
  }
 ],
 "metadata": {
  "kernelspec": {
   "display_name": "Python 3.9.5 64-bit ('core': conda)",
   "name": "python395jvsc74a57bd0f3286ea705001ec0bb3381152b489620b95b108b2c9769628ed9388c599911a5"
  },
  "language_info": {
   "codemirror_mode": {
    "name": "ipython",
    "version": 3
   },
   "file_extension": ".py",
   "mimetype": "text/x-python",
   "name": "python",
   "nbconvert_exporter": "python",
   "pygments_lexer": "ipython3",
   "version": "3.9.5"
  },
  "orig_nbformat": 3
 },
 "nbformat": 4,
 "nbformat_minor": 2
}