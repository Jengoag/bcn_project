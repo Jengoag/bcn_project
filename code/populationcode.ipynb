{
 "cells": [
  {
   "cell_type": "code",
   "execution_count": 1,
   "metadata": {},
   "outputs": [
    {
     "name": "stdout",
     "output_type": "stream",
     "text": [
      "       Year  District.Code District.Name  Neighborhood.Code  \\\n",
      "0      2017              1  Ciutat Vella                  1   \n",
      "1      2017              1  Ciutat Vella                  2   \n",
      "2      2017              1  Ciutat Vella                  3   \n",
      "3      2017              1  Ciutat Vella                  4   \n",
      "4      2017              2      Eixample                  5   \n",
      "...     ...            ...           ...                ...   \n",
      "70075  2013             10    Sant Martí                 69   \n",
      "70076  2013             10    Sant Martí                 70   \n",
      "70077  2013             10    Sant Martí                 71   \n",
      "70078  2013             10    Sant Martí                 72   \n",
      "70079  2013             10    Sant Martí                 73   \n",
      "\n",
      "                                  Neighborhood.Name  Gender   Age  Number  \n",
      "0                                          el Raval    Male   0-4     224  \n",
      "1                                    el Barri Gòtic    Male   0-4      50  \n",
      "2                                    la Barceloneta    Male   0-4      43  \n",
      "3             Sant Pere, Santa Caterina i la Ribera    Male   0-4      95  \n",
      "4                                     el Fort Pienc    Male   0-4     124  \n",
      "...                                             ...     ...   ...     ...  \n",
      "70075  Diagonal Mar i el Front Marítim del Poblenou  Female  >=95      21  \n",
      "70076                         el Besòs i el Maresme  Female  >=95      25  \n",
      "70077                       Provençals del Poblenou  Female  >=95      31  \n",
      "70078                      Sant Martí de Provençals  Female  >=95      38  \n",
      "70079                           la Verneda i la Pau  Female  >=95      47  \n",
      "\n",
      "[70080 rows x 8 columns]\n"
     ]
    }
   ],
   "source": [
    "import pandas as pd\n",
    "\n",
    "df_population = pd.read_csv(\"../data/population.csv\")\n",
    "\n",
    "print(df_population)"
   ]
  },
  {
   "cell_type": "code",
   "execution_count": 132,
   "metadata": {},
   "outputs": [
    {
     "name": "stdout",
     "output_type": "stream",
     "text": [
      "<class 'pandas.core.frame.DataFrame'>\n",
      "RangeIndex: 70080 entries, 0 to 70079\n",
      "Data columns (total 8 columns):\n",
      " #   Column             Non-Null Count  Dtype \n",
      "---  ------             --------------  ----- \n",
      " 0   Year               70080 non-null  int64 \n",
      " 1   District.Code      70080 non-null  int64 \n",
      " 2   District.Name      70080 non-null  object\n",
      " 3   Neighborhood.Code  70080 non-null  int64 \n",
      " 4   Neighborhood.Name  70080 non-null  object\n",
      " 5   Gender             70080 non-null  object\n",
      " 6   Age                70080 non-null  object\n",
      " 7   Number             70080 non-null  int64 \n",
      "dtypes: int64(4), object(4)\n",
      "memory usage: 4.3+ MB\n"
     ]
    }
   ],
   "source": [
    "df_population.info()"
   ]
  },
  {
   "cell_type": "code",
   "execution_count": 133,
   "metadata": {},
   "outputs": [
    {
     "data": {
      "text/plain": "Year                 0\nDistrict.Code        0\nDistrict.Name        0\nNeighborhood.Code    0\nNeighborhood.Name    0\nGender               0\nAge                  0\nNumber               0\ndtype: int64"
     },
     "execution_count": 133,
     "metadata": {},
     "output_type": "execute_result"
    }
   ],
   "source": [
    "df_population.isna().sum()"
   ]
  },
  {
   "cell_type": "code",
   "execution_count": 134,
   "metadata": {},
   "outputs": [
    {
     "data": {
      "text/html": "<div>\n<style scoped>\n    .dataframe tbody tr th:only-of-type {\n        vertical-align: middle;\n    }\n\n    .dataframe tbody tr th {\n        vertical-align: top;\n    }\n\n    .dataframe thead th {\n        text-align: right;\n    }\n</style>\n<table border=\"1\" class=\"dataframe\">\n  <thead>\n    <tr style=\"text-align: right;\">\n      <th></th>\n      <th>Year</th>\n      <th>District.Code</th>\n      <th>District.Name</th>\n      <th>Gender</th>\n      <th>Age</th>\n      <th>Number</th>\n    </tr>\n  </thead>\n  <tbody>\n    <tr>\n      <th>0</th>\n      <td>2017</td>\n      <td>1</td>\n      <td>Ciutat Vella</td>\n      <td>Male</td>\n      <td>0-4</td>\n      <td>224</td>\n    </tr>\n    <tr>\n      <th>1</th>\n      <td>2017</td>\n      <td>1</td>\n      <td>Ciutat Vella</td>\n      <td>Male</td>\n      <td>0-4</td>\n      <td>50</td>\n    </tr>\n    <tr>\n      <th>2</th>\n      <td>2017</td>\n      <td>1</td>\n      <td>Ciutat Vella</td>\n      <td>Male</td>\n      <td>0-4</td>\n      <td>43</td>\n    </tr>\n    <tr>\n      <th>3</th>\n      <td>2017</td>\n      <td>1</td>\n      <td>Ciutat Vella</td>\n      <td>Male</td>\n      <td>0-4</td>\n      <td>95</td>\n    </tr>\n    <tr>\n      <th>4</th>\n      <td>2017</td>\n      <td>2</td>\n      <td>Eixample</td>\n      <td>Male</td>\n      <td>0-4</td>\n      <td>124</td>\n    </tr>\n    <tr>\n      <th>...</th>\n      <td>...</td>\n      <td>...</td>\n      <td>...</td>\n      <td>...</td>\n      <td>...</td>\n      <td>...</td>\n    </tr>\n    <tr>\n      <th>70075</th>\n      <td>2013</td>\n      <td>10</td>\n      <td>Sant Martí</td>\n      <td>Female</td>\n      <td>&gt;=95</td>\n      <td>21</td>\n    </tr>\n    <tr>\n      <th>70076</th>\n      <td>2013</td>\n      <td>10</td>\n      <td>Sant Martí</td>\n      <td>Female</td>\n      <td>&gt;=95</td>\n      <td>25</td>\n    </tr>\n    <tr>\n      <th>70077</th>\n      <td>2013</td>\n      <td>10</td>\n      <td>Sant Martí</td>\n      <td>Female</td>\n      <td>&gt;=95</td>\n      <td>31</td>\n    </tr>\n    <tr>\n      <th>70078</th>\n      <td>2013</td>\n      <td>10</td>\n      <td>Sant Martí</td>\n      <td>Female</td>\n      <td>&gt;=95</td>\n      <td>38</td>\n    </tr>\n    <tr>\n      <th>70079</th>\n      <td>2013</td>\n      <td>10</td>\n      <td>Sant Martí</td>\n      <td>Female</td>\n      <td>&gt;=95</td>\n      <td>47</td>\n    </tr>\n  </tbody>\n</table>\n<p>70080 rows × 6 columns</p>\n</div>",
      "text/plain": "       Year  District.Code District.Name  Gender   Age  Number\n0      2017              1  Ciutat Vella    Male   0-4     224\n1      2017              1  Ciutat Vella    Male   0-4      50\n2      2017              1  Ciutat Vella    Male   0-4      43\n3      2017              1  Ciutat Vella    Male   0-4      95\n4      2017              2      Eixample    Male   0-4     124\n...     ...            ...           ...     ...   ...     ...\n70075  2013             10    Sant Martí  Female  >=95      21\n70076  2013             10    Sant Martí  Female  >=95      25\n70077  2013             10    Sant Martí  Female  >=95      31\n70078  2013             10    Sant Martí  Female  >=95      38\n70079  2013             10    Sant Martí  Female  >=95      47\n\n[70080 rows x 6 columns]"
     },
     "execution_count": 134,
     "metadata": {},
     "output_type": "execute_result"
    }
   ],
   "source": [
    "df_population= df_population.drop(columns = ['Neighborhood.Code', 'Neighborhood.Name',])\n",
    "df_population"
   ]
  },
  {
   "cell_type": "code",
   "execution_count": 135,
   "metadata": {},
   "outputs": [
    {
     "data": {
      "text/html": "<div>\n<style scoped>\n    .dataframe tbody tr th:only-of-type {\n        vertical-align: middle;\n    }\n\n    .dataframe tbody tr th {\n        vertical-align: top;\n    }\n\n    .dataframe thead th {\n        text-align: right;\n    }\n</style>\n<table border=\"1\" class=\"dataframe\">\n  <thead>\n    <tr style=\"text-align: right;\">\n      <th></th>\n      <th>YEAR</th>\n      <th>CODE_DISTRICT</th>\n      <th>DISTRICT</th>\n      <th>SEX</th>\n      <th>AGE</th>\n      <th>POPULATION</th>\n    </tr>\n  </thead>\n  <tbody>\n    <tr>\n      <th>0</th>\n      <td>2017</td>\n      <td>1</td>\n      <td>Ciutat Vella</td>\n      <td>Male</td>\n      <td>0-4</td>\n      <td>224</td>\n    </tr>\n    <tr>\n      <th>1</th>\n      <td>2017</td>\n      <td>1</td>\n      <td>Ciutat Vella</td>\n      <td>Male</td>\n      <td>0-4</td>\n      <td>50</td>\n    </tr>\n    <tr>\n      <th>2</th>\n      <td>2017</td>\n      <td>1</td>\n      <td>Ciutat Vella</td>\n      <td>Male</td>\n      <td>0-4</td>\n      <td>43</td>\n    </tr>\n    <tr>\n      <th>3</th>\n      <td>2017</td>\n      <td>1</td>\n      <td>Ciutat Vella</td>\n      <td>Male</td>\n      <td>0-4</td>\n      <td>95</td>\n    </tr>\n    <tr>\n      <th>4</th>\n      <td>2017</td>\n      <td>2</td>\n      <td>Eixample</td>\n      <td>Male</td>\n      <td>0-4</td>\n      <td>124</td>\n    </tr>\n    <tr>\n      <th>...</th>\n      <td>...</td>\n      <td>...</td>\n      <td>...</td>\n      <td>...</td>\n      <td>...</td>\n      <td>...</td>\n    </tr>\n    <tr>\n      <th>70075</th>\n      <td>2013</td>\n      <td>10</td>\n      <td>Sant Martí</td>\n      <td>Female</td>\n      <td>&gt;=95</td>\n      <td>21</td>\n    </tr>\n    <tr>\n      <th>70076</th>\n      <td>2013</td>\n      <td>10</td>\n      <td>Sant Martí</td>\n      <td>Female</td>\n      <td>&gt;=95</td>\n      <td>25</td>\n    </tr>\n    <tr>\n      <th>70077</th>\n      <td>2013</td>\n      <td>10</td>\n      <td>Sant Martí</td>\n      <td>Female</td>\n      <td>&gt;=95</td>\n      <td>31</td>\n    </tr>\n    <tr>\n      <th>70078</th>\n      <td>2013</td>\n      <td>10</td>\n      <td>Sant Martí</td>\n      <td>Female</td>\n      <td>&gt;=95</td>\n      <td>38</td>\n    </tr>\n    <tr>\n      <th>70079</th>\n      <td>2013</td>\n      <td>10</td>\n      <td>Sant Martí</td>\n      <td>Female</td>\n      <td>&gt;=95</td>\n      <td>47</td>\n    </tr>\n  </tbody>\n</table>\n<p>70080 rows × 6 columns</p>\n</div>",
      "text/plain": "       YEAR  CODE_DISTRICT      DISTRICT     SEX   AGE  POPULATION\n0      2017              1  Ciutat Vella    Male   0-4         224\n1      2017              1  Ciutat Vella    Male   0-4          50\n2      2017              1  Ciutat Vella    Male   0-4          43\n3      2017              1  Ciutat Vella    Male   0-4          95\n4      2017              2      Eixample    Male   0-4         124\n...     ...            ...           ...     ...   ...         ...\n70075  2013             10    Sant Martí  Female  >=95          21\n70076  2013             10    Sant Martí  Female  >=95          25\n70077  2013             10    Sant Martí  Female  >=95          31\n70078  2013             10    Sant Martí  Female  >=95          38\n70079  2013             10    Sant Martí  Female  >=95          47\n\n[70080 rows x 6 columns]"
     },
     "execution_count": 135,
     "metadata": {},
     "output_type": "execute_result"
    }
   ],
   "source": [
    "df_population = df_population.rename(columns={\"Year\":\"YEAR\", \"District.Code\":\"CODE_DISTRICT\", \"District.Name\":\"DISTRICT\", \"Gender\":\"SEX\", \"Age\":\"AGE\", \"Number\":\"POPULATION\"})\n",
    "df_population"
   ]
  },
  {
   "cell_type": "code",
   "execution_count": 136,
   "metadata": {},
   "outputs": [
    {
     "data": {
      "text/html": "<div>\n<style scoped>\n    .dataframe tbody tr th:only-of-type {\n        vertical-align: middle;\n    }\n\n    .dataframe tbody tr th {\n        vertical-align: top;\n    }\n\n    .dataframe thead th {\n        text-align: right;\n    }\n</style>\n<table border=\"1\" class=\"dataframe\">\n  <thead>\n    <tr style=\"text-align: right;\">\n      <th></th>\n      <th>YEAR</th>\n      <th>CODE_DISTRICT</th>\n      <th>DISTRICT</th>\n      <th>SEX</th>\n      <th>AGE</th>\n      <th>POPULATION</th>\n    </tr>\n  </thead>\n  <tbody>\n    <tr>\n      <th>0</th>\n      <td>2017</td>\n      <td>1</td>\n      <td>Ciutat Vella</td>\n      <td>Male</td>\n      <td>0-4</td>\n      <td>224</td>\n    </tr>\n    <tr>\n      <th>1</th>\n      <td>2017</td>\n      <td>1</td>\n      <td>Ciutat Vella</td>\n      <td>Male</td>\n      <td>0-4</td>\n      <td>50</td>\n    </tr>\n    <tr>\n      <th>2</th>\n      <td>2017</td>\n      <td>1</td>\n      <td>Ciutat Vella</td>\n      <td>Male</td>\n      <td>0-4</td>\n      <td>43</td>\n    </tr>\n    <tr>\n      <th>3</th>\n      <td>2017</td>\n      <td>1</td>\n      <td>Ciutat Vella</td>\n      <td>Male</td>\n      <td>0-4</td>\n      <td>95</td>\n    </tr>\n    <tr>\n      <th>4</th>\n      <td>2017</td>\n      <td>2</td>\n      <td>Eixample</td>\n      <td>Male</td>\n      <td>0-4</td>\n      <td>124</td>\n    </tr>\n    <tr>\n      <th>...</th>\n      <td>...</td>\n      <td>...</td>\n      <td>...</td>\n      <td>...</td>\n      <td>...</td>\n      <td>...</td>\n    </tr>\n    <tr>\n      <th>14011</th>\n      <td>2017</td>\n      <td>10</td>\n      <td>Sant Martí</td>\n      <td>Female</td>\n      <td>&gt;=95</td>\n      <td>11</td>\n    </tr>\n    <tr>\n      <th>14012</th>\n      <td>2017</td>\n      <td>10</td>\n      <td>Sant Martí</td>\n      <td>Female</td>\n      <td>&gt;=95</td>\n      <td>41</td>\n    </tr>\n    <tr>\n      <th>14013</th>\n      <td>2017</td>\n      <td>10</td>\n      <td>Sant Martí</td>\n      <td>Female</td>\n      <td>&gt;=95</td>\n      <td>28</td>\n    </tr>\n    <tr>\n      <th>14014</th>\n      <td>2017</td>\n      <td>10</td>\n      <td>Sant Martí</td>\n      <td>Female</td>\n      <td>&gt;=95</td>\n      <td>57</td>\n    </tr>\n    <tr>\n      <th>14015</th>\n      <td>2017</td>\n      <td>10</td>\n      <td>Sant Martí</td>\n      <td>Female</td>\n      <td>&gt;=95</td>\n      <td>54</td>\n    </tr>\n  </tbody>\n</table>\n<p>14016 rows × 6 columns</p>\n</div>",
      "text/plain": "       YEAR  CODE_DISTRICT      DISTRICT     SEX   AGE  POPULATION\n0      2017              1  Ciutat Vella    Male   0-4         224\n1      2017              1  Ciutat Vella    Male   0-4          50\n2      2017              1  Ciutat Vella    Male   0-4          43\n3      2017              1  Ciutat Vella    Male   0-4          95\n4      2017              2      Eixample    Male   0-4         124\n...     ...            ...           ...     ...   ...         ...\n14011  2017             10    Sant Martí  Female  >=95          11\n14012  2017             10    Sant Martí  Female  >=95          41\n14013  2017             10    Sant Martí  Female  >=95          28\n14014  2017             10    Sant Martí  Female  >=95          57\n14015  2017             10    Sant Martí  Female  >=95          54\n\n[14016 rows x 6 columns]"
     },
     "execution_count": 136,
     "metadata": {},
     "output_type": "execute_result"
    }
   ],
   "source": [
    "indexNames = df_population[ df_population['YEAR'] != 2017 ].index\n",
    "df_population = df_population.drop(indexNames)\n",
    "df_population"
   ]
  },
  {
   "cell_type": "code",
   "execution_count": 137,
   "metadata": {},
   "outputs": [
    {
     "data": {
      "text/html": "<div>\n<style scoped>\n    .dataframe tbody tr th:only-of-type {\n        vertical-align: middle;\n    }\n\n    .dataframe tbody tr th {\n        vertical-align: top;\n    }\n\n    .dataframe thead th {\n        text-align: right;\n    }\n</style>\n<table border=\"1\" class=\"dataframe\">\n  <thead>\n    <tr style=\"text-align: right;\">\n      <th></th>\n      <th>DISTRICT</th>\n      <th>SEX</th>\n      <th>AGE</th>\n      <th>POPULATION</th>\n    </tr>\n  </thead>\n  <tbody>\n    <tr>\n      <th>0</th>\n      <td>Ciutat Vella</td>\n      <td>Female</td>\n      <td>0-4</td>\n      <td>1867</td>\n    </tr>\n    <tr>\n      <th>1</th>\n      <td>Ciutat Vella</td>\n      <td>Female</td>\n      <td>10-14</td>\n      <td>1654</td>\n    </tr>\n    <tr>\n      <th>2</th>\n      <td>Ciutat Vella</td>\n      <td>Female</td>\n      <td>15-19</td>\n      <td>1538</td>\n    </tr>\n    <tr>\n      <th>3</th>\n      <td>Ciutat Vella</td>\n      <td>Female</td>\n      <td>20-24</td>\n      <td>3021</td>\n    </tr>\n    <tr>\n      <th>4</th>\n      <td>Ciutat Vella</td>\n      <td>Female</td>\n      <td>25-29</td>\n      <td>5744</td>\n    </tr>\n    <tr>\n      <th>...</th>\n      <td>...</td>\n      <td>...</td>\n      <td>...</td>\n      <td>...</td>\n    </tr>\n    <tr>\n      <th>395</th>\n      <td>Sarrià-Sant Gervasi</td>\n      <td>Male</td>\n      <td>75-79</td>\n      <td>2183</td>\n    </tr>\n    <tr>\n      <th>396</th>\n      <td>Sarrià-Sant Gervasi</td>\n      <td>Male</td>\n      <td>80-84</td>\n      <td>2066</td>\n    </tr>\n    <tr>\n      <th>397</th>\n      <td>Sarrià-Sant Gervasi</td>\n      <td>Male</td>\n      <td>85-89</td>\n      <td>1245</td>\n    </tr>\n    <tr>\n      <th>398</th>\n      <td>Sarrià-Sant Gervasi</td>\n      <td>Male</td>\n      <td>90-94</td>\n      <td>583</td>\n    </tr>\n    <tr>\n      <th>399</th>\n      <td>Sarrià-Sant Gervasi</td>\n      <td>Male</td>\n      <td>&gt;=95</td>\n      <td>128</td>\n    </tr>\n  </tbody>\n</table>\n<p>400 rows × 4 columns</p>\n</div>",
      "text/plain": "                DISTRICT     SEX    AGE  POPULATION\n0           Ciutat Vella  Female    0-4        1867\n1           Ciutat Vella  Female  10-14        1654\n2           Ciutat Vella  Female  15-19        1538\n3           Ciutat Vella  Female  20-24        3021\n4           Ciutat Vella  Female  25-29        5744\n..                   ...     ...    ...         ...\n395  Sarrià-Sant Gervasi    Male  75-79        2183\n396  Sarrià-Sant Gervasi    Male  80-84        2066\n397  Sarrià-Sant Gervasi    Male  85-89        1245\n398  Sarrià-Sant Gervasi    Male  90-94         583\n399  Sarrià-Sant Gervasi    Male   >=95         128\n\n[400 rows x 4 columns]"
     },
     "execution_count": 137,
     "metadata": {},
     "output_type": "execute_result"
    }
   ],
   "source": [
    "df_population = df_population.groupby(['DISTRICT', 'SEX', 'AGE'])['POPULATION'].apply(lambda x: x.sum()).reset_index()\n",
    "df_population\n"
   ]
  },
  {
   "cell_type": "code",
   "execution_count": 138,
   "metadata": {},
   "outputs": [
    {
     "data": {
      "text/html": "<div>\n<style scoped>\n    .dataframe tbody tr th:only-of-type {\n        vertical-align: middle;\n    }\n\n    .dataframe tbody tr th {\n        vertical-align: top;\n    }\n\n    .dataframe thead th {\n        text-align: right;\n    }\n</style>\n<table border=\"1\" class=\"dataframe\">\n  <thead>\n    <tr style=\"text-align: right;\">\n      <th></th>\n      <th>DISTRICT</th>\n      <th>SEX</th>\n      <th>AGE</th>\n      <th>POPULATION</th>\n    </tr>\n  </thead>\n  <tbody>\n    <tr>\n      <th>0</th>\n      <td>Ciutat Vella</td>\n      <td>Female</td>\n      <td>0-4</td>\n      <td>1867</td>\n    </tr>\n    <tr>\n      <th>20</th>\n      <td>Ciutat Vella</td>\n      <td>Male</td>\n      <td>0-4</td>\n      <td>1988</td>\n    </tr>\n    <tr>\n      <th>40</th>\n      <td>Eixample</td>\n      <td>Female</td>\n      <td>0-4</td>\n      <td>5010</td>\n    </tr>\n    <tr>\n      <th>60</th>\n      <td>Eixample</td>\n      <td>Male</td>\n      <td>0-4</td>\n      <td>5275</td>\n    </tr>\n    <tr>\n      <th>80</th>\n      <td>Gràcia</td>\n      <td>Female</td>\n      <td>0-4</td>\n      <td>2501</td>\n    </tr>\n    <tr>\n      <th>100</th>\n      <td>Gràcia</td>\n      <td>Male</td>\n      <td>0-4</td>\n      <td>2695</td>\n    </tr>\n    <tr>\n      <th>120</th>\n      <td>Horta-Guinardó</td>\n      <td>Female</td>\n      <td>0-4</td>\n      <td>3340</td>\n    </tr>\n    <tr>\n      <th>140</th>\n      <td>Horta-Guinardó</td>\n      <td>Male</td>\n      <td>0-4</td>\n      <td>3460</td>\n    </tr>\n    <tr>\n      <th>160</th>\n      <td>Les Corts</td>\n      <td>Female</td>\n      <td>0-4</td>\n      <td>1699</td>\n    </tr>\n    <tr>\n      <th>180</th>\n      <td>Les Corts</td>\n      <td>Male</td>\n      <td>0-4</td>\n      <td>1709</td>\n    </tr>\n    <tr>\n      <th>200</th>\n      <td>Nou Barris</td>\n      <td>Female</td>\n      <td>0-4</td>\n      <td>3525</td>\n    </tr>\n    <tr>\n      <th>220</th>\n      <td>Nou Barris</td>\n      <td>Male</td>\n      <td>0-4</td>\n      <td>3672</td>\n    </tr>\n    <tr>\n      <th>240</th>\n      <td>Sant Andreu</td>\n      <td>Female</td>\n      <td>0-4</td>\n      <td>3126</td>\n    </tr>\n    <tr>\n      <th>260</th>\n      <td>Sant Andreu</td>\n      <td>Male</td>\n      <td>0-4</td>\n      <td>3450</td>\n    </tr>\n    <tr>\n      <th>280</th>\n      <td>Sant Martí</td>\n      <td>Female</td>\n      <td>0-4</td>\n      <td>5185</td>\n    </tr>\n    <tr>\n      <th>300</th>\n      <td>Sant Martí</td>\n      <td>Male</td>\n      <td>0-4</td>\n      <td>5416</td>\n    </tr>\n    <tr>\n      <th>320</th>\n      <td>Sants-Montjuïc</td>\n      <td>Female</td>\n      <td>0-4</td>\n      <td>3541</td>\n    </tr>\n    <tr>\n      <th>340</th>\n      <td>Sants-Montjuïc</td>\n      <td>Male</td>\n      <td>0-4</td>\n      <td>3791</td>\n    </tr>\n    <tr>\n      <th>360</th>\n      <td>Sarrià-Sant Gervasi</td>\n      <td>Female</td>\n      <td>0-4</td>\n      <td>3534</td>\n    </tr>\n    <tr>\n      <th>380</th>\n      <td>Sarrià-Sant Gervasi</td>\n      <td>Male</td>\n      <td>0-4</td>\n      <td>3618</td>\n    </tr>\n  </tbody>\n</table>\n</div>",
      "text/plain": "                DISTRICT     SEX  AGE  POPULATION\n0           Ciutat Vella  Female  0-4        1867\n20          Ciutat Vella    Male  0-4        1988\n40              Eixample  Female  0-4        5010\n60              Eixample    Male  0-4        5275\n80                Gràcia  Female  0-4        2501\n100               Gràcia    Male  0-4        2695\n120       Horta-Guinardó  Female  0-4        3340\n140       Horta-Guinardó    Male  0-4        3460\n160            Les Corts  Female  0-4        1699\n180            Les Corts    Male  0-4        1709\n200           Nou Barris  Female  0-4        3525\n220           Nou Barris    Male  0-4        3672\n240          Sant Andreu  Female  0-4        3126\n260          Sant Andreu    Male  0-4        3450\n280           Sant Martí  Female  0-4        5185\n300           Sant Martí    Male  0-4        5416\n320       Sants-Montjuïc  Female  0-4        3541\n340       Sants-Montjuïc    Male  0-4        3791\n360  Sarrià-Sant Gervasi  Female  0-4        3534\n380  Sarrià-Sant Gervasi    Male  0-4        3618"
     },
     "execution_count": 138,
     "metadata": {},
     "output_type": "execute_result"
    }
   ],
   "source": [
    "##indexages = df_population[ (df_population.AGE != '0-4') | (df_population.AGE != '5-9') | (df_population.AGE != '10-14')].index\n",
    "indexages = df_population[ df_population.AGE != '0-4'].index\n",
    "##[df_population.AGE != '5-9'].index\n",
    "##[df_population.AGE != '10-14'].index\n",
    "df_population = df_population.drop(indexages)\n",
    "df_population"
   ]
  },
  {
   "cell_type": "code",
   "execution_count": 139,
   "metadata": {},
   "outputs": [
    {
     "name": "stdout",
     "output_type": "stream",
     "text": [
      "                DISTRICT     SEX  AGE  POPULATION\n",
      "0           Ciutat Vella  Female  0-4        1867\n",
      "20          Ciutat Vella    Male  0-4        1988\n",
      "40              Eixample  Female  0-4        5010\n",
      "60              Eixample    Male  0-4        5275\n",
      "80                Gràcia  Female  0-4        2501\n",
      "100               Gràcia    Male  0-4        2695\n",
      "120       Horta-Guinardó  Female  0-4        3340\n",
      "140       Horta-Guinardó    Male  0-4        3460\n",
      "160            Les Corts  Female  0-4        1699\n",
      "180            Les Corts    Male  0-4        1709\n",
      "200           Nou Barris  Female  0-4        3525\n",
      "220           Nou Barris    Male  0-4        3672\n",
      "240          Sant Andreu  Female  0-4        3126\n",
      "260          Sant Andreu    Male  0-4        3450\n",
      "280           Sant Martí  Female  0-4        5185\n",
      "300           Sant Martí    Male  0-4        5416\n",
      "320       Sants-Montjuïc  Female  0-4        3541\n",
      "340       Sants-Montjuïc    Male  0-4        3791\n",
      "360  Sarrià-Sant Gervasi  Female  0-4        3534\n",
      "380  Sarrià-Sant Gervasi    Male  0-4        3618\n"
     ]
    }
   ],
   "source": [
    "print(df_population)"
   ]
  }
 ],
 "metadata": {
  "kernelspec": {
   "display_name": "Python 3.9.5 64-bit ('core': conda)",
   "name": "python395jvsc74a57bd0f3286ea705001ec0bb3381152b489620b95b108b2c9769628ed9388c599911a5"
  },
  "language_info": {
   "codemirror_mode": {
    "name": "ipython",
    "version": 3
   },
   "file_extension": ".py",
   "mimetype": "text/x-python",
   "name": "python",
   "nbconvert_exporter": "python",
   "pygments_lexer": "ipython3",
   "version": "3.9.5"
  },
  "orig_nbformat": 3
 },
 "nbformat": 4,
 "nbformat_minor": 2
}